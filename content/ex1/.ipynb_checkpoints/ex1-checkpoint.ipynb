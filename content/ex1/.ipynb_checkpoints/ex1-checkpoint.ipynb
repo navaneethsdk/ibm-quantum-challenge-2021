{
 "cells": [
  {
   "cell_type": "markdown",
   "metadata": {},
   "source": [
    "# Exercise 1 - Toffoli gate\n",
    "\n",
    "## Historical background\n",
    "\n",
    "Forty years ago, a ragtag group of 50 thinkers arranged themselves for a photo on the lawn of MIT’s Endicott House. Few at the Physics of Computation Conference, jointly organized by MIT and IBM, thought they were making history in 1981. It was arguably the birthplace of physics of computing, and especially the now-burgeoning field of quantum computing, as a serious subject worthy of a textbook or university course.\n",
    "\n",
    "It was at this conference where Feynman uttered his now-famous quote: “Nature isn’t classical, dammit, and if you want to make a simulation of nature, you’d better make it quantum mechanical, and by golly it’s a wonderful problem, because it doesn’t look so easy.”[1] Earlier this month, we celebrated the 40th anniversary of this important conference. You can read more [here](https://youtu.be/GR6ANm6Z0yk).\n",
    "\n",
    "![](resources/conference-photo.jpeg)\n",
    "\n",
    "One of the theme discussed in the conference was reversible computing, which Tommaso Toffoli and Edward Fredkin in MIT have been thinking about in the past few years prior.[2-3] Toffoli came up with a reversible version of AND/NAND gate (which are now called Toffoli gate, or controlled-controlled-NOT gate). Because NAND gate is universal in classical computing, Toffoli gate is a universal reversible logic gate. Quantum computing is a special form of reversible computing; any reversible gate can be implemented on a quantum computer, and hence the Toffoli gate is also a quantum logic gate. However, Toffoli gate alone is not a universal gate for quantum computing. \n",
    "\n",
    "In this exercise, we will explore the Toffoli gate and universal gate sets for quantum computers.\n",
    "\n",
    "### References\n",
    "1. Feynman, Richard P. \"Simulating physics with computers.\" Int. J. Theor. Phys 21.6/7 (1982).\n",
    "1. Toffoli, Tommaso. \"Reversible computing.\" International colloquium on automata, languages, and programming. Springer, Berlin, Heidelberg, 1980.\n",
    "1. Fredkin, Edward, and Tommaso Toffoli. \"Conservative logic.\" International Journal of theoretical physics 21.3 (1982): 219-253."
   ]
  },
  {
   "cell_type": "markdown",
   "metadata": {},
   "source": [
    "## Classical logic gates\n",
    "\n",
    "In classical computation one often used model is Boolean logic or classical logical gates. Such gates represent Boolean functions, functions with only binary (0,1) input and output. One interesting aspect of Boolean logic is, that all possible binary functions can be formed by only using a combination of only a small number of different logic gates. Such sets are called functionally complete sets. One famous such set is AND and NOT. These two gates are enough to express all possible functions. The same is true for OR and NOT. There exists smaller sets, such as the NAND and NOR which alone are universal, nevertheless the functions AND, NOT and OR are often seen as the basic blocks of classical computation.\n",
    "\n",
    "<div class=\"alert alert-block alert-success\">\n",
    "\n",
    "**Goal**\n",
    "\n",
    "Construct a Toffoli gate using the basis gate set (CX, RZ, SX and X gates) of IBM Quantum systems.\n",
    "\n",
    "</div>\n",
    "\n",
    "<div class=\"alert alert-block alert-danger\">\n",
    "    \n",
    "This exercise aims to teach you the basic concepts of quantum gates and how to construct quantum circuits\n",
    "1. visually using the Circuit Composer widget\n",
    "1. programmatically using Qiskit. \n",
    "\n",
    "If you are already familiar with quantum gates and Qiskit. You can jump directly to <a href=#problem>the problem</a>.\n",
    "</div>"
   ]
  },
  {
   "cell_type": "code",
   "execution_count": 1,
   "metadata": {},
   "outputs": [
    {
     "name": "stdout",
     "output_type": "stream",
     "text": [
      "Collecting ibm-quantum-widgets\n",
      "  Using cached ibm_quantum_widgets-1.0.3-py2.py3-none-any.whl (993 kB)\n",
      "Collecting qiskit>=0.23.5\n",
      "  Using cached qiskit-0.26.2-py3-none-any.whl\n",
      "Requirement already satisfied: ipywidgets>=7.0.0 in /home/navaneeth/.local/lib/python3.8/site-packages (from ibm-quantum-widgets) (7.5.1)\n",
      "Requirement already satisfied: nbformat>=4.2.0 in /home/navaneeth/.local/lib/python3.8/site-packages (from ipywidgets>=7.0.0->ibm-quantum-widgets) (5.0.8)\n",
      "Requirement already satisfied: widgetsnbextension~=3.5.0 in /home/navaneeth/.local/lib/python3.8/site-packages (from ipywidgets>=7.0.0->ibm-quantum-widgets) (3.5.1)\n",
      "Requirement already satisfied: ipython>=4.0.0 in /home/navaneeth/.local/lib/python3.8/site-packages (from ipywidgets>=7.0.0->ibm-quantum-widgets) (7.19.0)\n",
      "Requirement already satisfied: ipykernel>=4.5.1 in /home/navaneeth/.local/lib/python3.8/site-packages (from ipywidgets>=7.0.0->ibm-quantum-widgets) (5.3.4)\n",
      "Requirement already satisfied: traitlets>=4.3.1 in /home/navaneeth/.local/lib/python3.8/site-packages (from ipywidgets>=7.0.0->ibm-quantum-widgets) (5.0.5)\n",
      "Requirement already satisfied: jupyter-client in /home/navaneeth/.local/lib/python3.8/site-packages (from ipykernel>=4.5.1->ipywidgets>=7.0.0->ibm-quantum-widgets) (6.1.7)\n",
      "Requirement already satisfied: tornado>=4.2 in /home/navaneeth/.local/lib/python3.8/site-packages (from ipykernel>=4.5.1->ipywidgets>=7.0.0->ibm-quantum-widgets) (6.1)\n",
      "Requirement already satisfied: setuptools>=18.5 in /home/navaneeth/anaconda3/lib/python3.8/site-packages (from ipython>=4.0.0->ipywidgets>=7.0.0->ibm-quantum-widgets) (50.3.1.post20201107)\n",
      "Requirement already satisfied: jedi>=0.10 in /home/navaneeth/.local/lib/python3.8/site-packages (from ipython>=4.0.0->ipywidgets>=7.0.0->ibm-quantum-widgets) (0.17.2)\n",
      "Requirement already satisfied: pickleshare in /home/navaneeth/.local/lib/python3.8/site-packages (from ipython>=4.0.0->ipywidgets>=7.0.0->ibm-quantum-widgets) (0.7.5)\n",
      "Requirement already satisfied: prompt-toolkit!=3.0.0,!=3.0.1,<3.1.0,>=2.0.0 in /home/navaneeth/.local/lib/python3.8/site-packages (from ipython>=4.0.0->ipywidgets>=7.0.0->ibm-quantum-widgets) (3.0.8)\n",
      "Requirement already satisfied: backcall in /home/navaneeth/.local/lib/python3.8/site-packages (from ipython>=4.0.0->ipywidgets>=7.0.0->ibm-quantum-widgets) (0.2.0)\n",
      "Requirement already satisfied: pexpect>4.3 in /home/navaneeth/anaconda3/lib/python3.8/site-packages (from ipython>=4.0.0->ipywidgets>=7.0.0->ibm-quantum-widgets) (4.8.0)\n",
      "Requirement already satisfied: pygments in /home/navaneeth/.local/lib/python3.8/site-packages (from ipython>=4.0.0->ipywidgets>=7.0.0->ibm-quantum-widgets) (2.7.3)\n",
      "Requirement already satisfied: decorator in /home/navaneeth/.local/lib/python3.8/site-packages (from ipython>=4.0.0->ipywidgets>=7.0.0->ibm-quantum-widgets) (4.4.2)\n",
      "Requirement already satisfied: parso<0.8.0,>=0.7.0 in /home/navaneeth/.local/lib/python3.8/site-packages (from jedi>=0.10->ipython>=4.0.0->ipywidgets>=7.0.0->ibm-quantum-widgets) (0.7.1)\n",
      "Requirement already satisfied: jupyter-core in /home/navaneeth/.local/lib/python3.8/site-packages (from nbformat>=4.2.0->ipywidgets>=7.0.0->ibm-quantum-widgets) (4.7.0)\n",
      "Requirement already satisfied: jsonschema!=2.5.0,>=2.4 in /home/navaneeth/.local/lib/python3.8/site-packages (from nbformat>=4.2.0->ipywidgets>=7.0.0->ibm-quantum-widgets) (3.2.0)\n",
      "Requirement already satisfied: ipython-genutils in /home/navaneeth/.local/lib/python3.8/site-packages (from nbformat>=4.2.0->ipywidgets>=7.0.0->ibm-quantum-widgets) (0.2.0)\n",
      "Requirement already satisfied: attrs>=17.4.0 in /home/navaneeth/.local/lib/python3.8/site-packages (from jsonschema!=2.5.0,>=2.4->nbformat>=4.2.0->ipywidgets>=7.0.0->ibm-quantum-widgets) (20.3.0)\n",
      "Requirement already satisfied: pyrsistent>=0.14.0 in /home/navaneeth/.local/lib/python3.8/site-packages (from jsonschema!=2.5.0,>=2.4->nbformat>=4.2.0->ipywidgets>=7.0.0->ibm-quantum-widgets) (0.17.3)\n",
      "Requirement already satisfied: six>=1.11.0 in /home/navaneeth/anaconda3/lib/python3.8/site-packages (from jsonschema!=2.5.0,>=2.4->nbformat>=4.2.0->ipywidgets>=7.0.0->ibm-quantum-widgets) (1.15.0)\n",
      "Requirement already satisfied: ptyprocess>=0.5 in /home/navaneeth/.local/lib/python3.8/site-packages (from pexpect>4.3->ipython>=4.0.0->ipywidgets>=7.0.0->ibm-quantum-widgets) (0.6.0)\n",
      "Requirement already satisfied: wcwidth in /home/navaneeth/.local/lib/python3.8/site-packages (from prompt-toolkit!=3.0.0,!=3.0.1,<3.1.0,>=2.0.0->ipython>=4.0.0->ipywidgets>=7.0.0->ibm-quantum-widgets) (0.2.5)\n",
      "Collecting qiskit-terra==0.17.4\n",
      "  Using cached qiskit_terra-0.17.4-cp38-cp38-manylinux2010_x86_64.whl (6.1 MB)\n",
      "Collecting qiskit-aqua==0.9.1\n",
      "  Using cached qiskit_aqua-0.9.1-py3-none-any.whl (2.1 MB)\n",
      "Collecting qiskit-ibmq-provider==0.13.1\n",
      "  Using cached qiskit_ibmq_provider-0.13.1-py3-none-any.whl (228 kB)\n",
      "Collecting qiskit-ignis==0.6.0\n",
      "  Using cached qiskit_ignis-0.6.0-py3-none-any.whl (207 kB)\n",
      "Collecting qiskit-aer==0.8.2\n",
      "  Using cached qiskit_aer-0.8.2-cp38-cp38-manylinux2010_x86_64.whl (18.0 MB)\n",
      "Requirement already satisfied: scipy>=1.0 in /home/navaneeth/anaconda3/lib/python3.8/site-packages (from qiskit-aer==0.8.2->qiskit>=0.23.5->ibm-quantum-widgets) (1.5.2)\n",
      "Requirement already satisfied: pybind11>=2.6 in /home/navaneeth/anaconda3/lib/python3.8/site-packages (from qiskit-aer==0.8.2->qiskit>=0.23.5->ibm-quantum-widgets) (2.6.2)\n",
      "Requirement already satisfied: numpy>=1.16.3 in /home/navaneeth/anaconda3/lib/python3.8/site-packages (from qiskit-aer==0.8.2->qiskit>=0.23.5->ibm-quantum-widgets) (1.19.2)\n",
      "Requirement already satisfied: yfinance<=0.1.55 in /home/navaneeth/anaconda3/lib/python3.8/site-packages (from qiskit-aqua==0.9.1->qiskit>=0.23.5->ibm-quantum-widgets) (0.1.55)\n",
      "Requirement already satisfied: h5py<=3.1.0 in /home/navaneeth/anaconda3/lib/python3.8/site-packages (from qiskit-aqua==0.9.1->qiskit>=0.23.5->ibm-quantum-widgets) (2.10.0)\n",
      "Requirement already satisfied: sympy<=1.7.1,>=1.3 in /home/navaneeth/anaconda3/lib/python3.8/site-packages (from qiskit-aqua==0.9.1->qiskit>=0.23.5->ibm-quantum-widgets) (1.6.2)\n",
      "Requirement already satisfied: psutil<=5.8.0,>=5 in /home/navaneeth/anaconda3/lib/python3.8/site-packages (from qiskit-aqua==0.9.1->qiskit>=0.23.5->ibm-quantum-widgets) (5.7.2)\n",
      "Requirement already satisfied: scikit-learn<=0.24.1,>=0.20.0 in /home/navaneeth/anaconda3/lib/python3.8/site-packages (from qiskit-aqua==0.9.1->qiskit>=0.23.5->ibm-quantum-widgets) (0.23.2)\n",
      "Requirement already satisfied: dlx<=1.0.4 in /home/navaneeth/anaconda3/lib/python3.8/site-packages (from qiskit-aqua==0.9.1->qiskit>=0.23.5->ibm-quantum-widgets) (1.0.4)\n",
      "Requirement already satisfied: pandas<=1.2.3 in /home/navaneeth/anaconda3/lib/python3.8/site-packages (from qiskit-aqua==0.9.1->qiskit>=0.23.5->ibm-quantum-widgets) (1.1.3)\n",
      "Requirement already satisfied: quandl<=3.6.0 in /home/navaneeth/anaconda3/lib/python3.8/site-packages (from qiskit-aqua==0.9.1->qiskit>=0.23.5->ibm-quantum-widgets) (3.6.0)\n",
      "Requirement already satisfied: retworkx<=0.8.0,>=0.7.0 in /home/navaneeth/anaconda3/lib/python3.8/site-packages (from qiskit-aqua==0.9.1->qiskit>=0.23.5->ibm-quantum-widgets) (0.7.2)\n",
      "Requirement already satisfied: fastdtw<=0.3.4 in /home/navaneeth/anaconda3/lib/python3.8/site-packages (from qiskit-aqua==0.9.1->qiskit>=0.23.5->ibm-quantum-widgets) (0.3.4)\n",
      "Requirement already satisfied: docplex<=2.20.204 in /home/navaneeth/anaconda3/lib/python3.8/site-packages (from qiskit-aqua==0.9.1->qiskit>=0.23.5->ibm-quantum-widgets) (2.20.204)\n",
      "Requirement already satisfied: dill>=0.3 in /home/navaneeth/anaconda3/lib/python3.8/site-packages (from qiskit-ibmq-provider==0.13.1->qiskit>=0.23.5->ibm-quantum-widgets) (0.3.3)\n",
      "Requirement already satisfied: python-dateutil>=2.8.0 in /home/navaneeth/.local/lib/python3.8/site-packages (from qiskit-ibmq-provider==0.13.1->qiskit>=0.23.5->ibm-quantum-widgets) (2.8.1)\n",
      "Requirement already satisfied: urllib3>=1.21.1 in /home/navaneeth/anaconda3/lib/python3.8/site-packages (from qiskit-ibmq-provider==0.13.1->qiskit>=0.23.5->ibm-quantum-widgets) (1.25.11)\n",
      "Requirement already satisfied: requests-ntlm>=1.1.0 in /home/navaneeth/anaconda3/lib/python3.8/site-packages (from qiskit-ibmq-provider==0.13.1->qiskit>=0.23.5->ibm-quantum-widgets) (1.1.0)\n",
      "Requirement already satisfied: nest-asyncio!=1.1.0,>=1.0.0 in /home/navaneeth/.local/lib/python3.8/site-packages (from qiskit-ibmq-provider==0.13.1->qiskit>=0.23.5->ibm-quantum-widgets) (1.4.3)\n",
      "Requirement already satisfied: requests>=2.19 in /home/navaneeth/anaconda3/lib/python3.8/site-packages (from qiskit-ibmq-provider==0.13.1->qiskit>=0.23.5->ibm-quantum-widgets) (2.24.0)\n"
     ]
    },
    {
     "name": "stdout",
     "output_type": "stream",
     "text": [
      "Requirement already satisfied: websockets>=8 in /home/navaneeth/anaconda3/lib/python3.8/site-packages (from qiskit-ibmq-provider==0.13.1->qiskit>=0.23.5->ibm-quantum-widgets) (8.1)\n",
      "Collecting retworkx<=0.8.0,>=0.7.0\n",
      "  Using cached retworkx-0.8.0-cp38-cp38-manylinux2010_x86_64.whl (1.0 MB)\n",
      "Requirement already satisfied: ply>=3.10 in /home/navaneeth/anaconda3/lib/python3.8/site-packages (from qiskit-terra==0.17.4->qiskit>=0.23.5->ibm-quantum-widgets) (3.11)\n",
      "Requirement already satisfied: python-constraint>=1.4 in /home/navaneeth/anaconda3/lib/python3.8/site-packages (from qiskit-terra==0.17.4->qiskit>=0.23.5->ibm-quantum-widgets) (1.4.0)\n",
      "Requirement already satisfied: fastjsonschema>=2.10 in /home/navaneeth/anaconda3/lib/python3.8/site-packages (from qiskit-terra==0.17.4->qiskit>=0.23.5->ibm-quantum-widgets) (2.15.0)\n",
      "Requirement already satisfied: pytz>=2017.2 in /home/navaneeth/anaconda3/lib/python3.8/site-packages (from pandas<=1.2.3->qiskit-aqua==0.9.1->qiskit>=0.23.5->ibm-quantum-widgets) (2020.1)\n",
      "Requirement already satisfied: inflection>=0.3.1 in /home/navaneeth/anaconda3/lib/python3.8/site-packages (from quandl<=3.6.0->qiskit-aqua==0.9.1->qiskit>=0.23.5->ibm-quantum-widgets) (0.5.1)\n",
      "Requirement already satisfied: more-itertools in /home/navaneeth/anaconda3/lib/python3.8/site-packages (from quandl<=3.6.0->qiskit-aqua==0.9.1->qiskit>=0.23.5->ibm-quantum-widgets) (8.6.0)\n",
      "Requirement already satisfied: certifi>=2017.4.17 in /home/navaneeth/anaconda3/lib/python3.8/site-packages (from requests>=2.19->qiskit-ibmq-provider==0.13.1->qiskit>=0.23.5->ibm-quantum-widgets) (2020.6.20)\n",
      "Requirement already satisfied: idna<3,>=2.5 in /home/navaneeth/anaconda3/lib/python3.8/site-packages (from requests>=2.19->qiskit-ibmq-provider==0.13.1->qiskit>=0.23.5->ibm-quantum-widgets) (2.10)\n",
      "Requirement already satisfied: chardet<4,>=3.0.2 in /home/navaneeth/anaconda3/lib/python3.8/site-packages (from requests>=2.19->qiskit-ibmq-provider==0.13.1->qiskit>=0.23.5->ibm-quantum-widgets) (3.0.4)\n",
      "Requirement already satisfied: ntlm-auth>=1.0.2 in /home/navaneeth/anaconda3/lib/python3.8/site-packages (from requests-ntlm>=1.1.0->qiskit-ibmq-provider==0.13.1->qiskit>=0.23.5->ibm-quantum-widgets) (1.5.0)\n",
      "Requirement already satisfied: cryptography>=1.3 in /home/navaneeth/anaconda3/lib/python3.8/site-packages (from requests-ntlm>=1.1.0->qiskit-ibmq-provider==0.13.1->qiskit>=0.23.5->ibm-quantum-widgets) (3.1.1)\n",
      "Requirement already satisfied: cffi!=1.11.3,>=1.8 in /home/navaneeth/.local/lib/python3.8/site-packages (from cryptography>=1.3->requests-ntlm>=1.1.0->qiskit-ibmq-provider==0.13.1->qiskit>=0.23.5->ibm-quantum-widgets) (1.14.4)\n",
      "Requirement already satisfied: pycparser in /home/navaneeth/.local/lib/python3.8/site-packages (from cffi!=1.11.3,>=1.8->cryptography>=1.3->requests-ntlm>=1.1.0->qiskit-ibmq-provider==0.13.1->qiskit>=0.23.5->ibm-quantum-widgets) (2.20)\n",
      "Requirement already satisfied: joblib>=0.11 in /home/navaneeth/anaconda3/lib/python3.8/site-packages (from scikit-learn<=0.24.1,>=0.20.0->qiskit-aqua==0.9.1->qiskit>=0.23.5->ibm-quantum-widgets) (0.17.0)\n",
      "Requirement already satisfied: threadpoolctl>=2.0.0 in /home/navaneeth/anaconda3/lib/python3.8/site-packages (from scikit-learn<=0.24.1,>=0.20.0->qiskit-aqua==0.9.1->qiskit>=0.23.5->ibm-quantum-widgets) (2.1.0)\n",
      "Requirement already satisfied: mpmath>=0.19 in /home/navaneeth/anaconda3/lib/python3.8/site-packages (from sympy<=1.7.1,>=1.3->qiskit-aqua==0.9.1->qiskit>=0.23.5->ibm-quantum-widgets) (1.1.0)\n",
      "Requirement already satisfied: notebook>=4.4.1 in /home/navaneeth/.local/lib/python3.8/site-packages (from widgetsnbextension~=3.5.0->ipywidgets>=7.0.0->ibm-quantum-widgets) (6.1.5)\n",
      "Requirement already satisfied: pyzmq>=17 in /home/navaneeth/.local/lib/python3.8/site-packages (from notebook>=4.4.1->widgetsnbextension~=3.5.0->ipywidgets>=7.0.0->ibm-quantum-widgets) (20.0.0)\n",
      "Requirement already satisfied: argon2-cffi in /home/navaneeth/.local/lib/python3.8/site-packages (from notebook>=4.4.1->widgetsnbextension~=3.5.0->ipywidgets>=7.0.0->ibm-quantum-widgets) (20.1.0)\n",
      "Requirement already satisfied: prometheus-client in /home/navaneeth/.local/lib/python3.8/site-packages (from notebook>=4.4.1->widgetsnbextension~=3.5.0->ipywidgets>=7.0.0->ibm-quantum-widgets) (0.9.0)\n",
      "Requirement already satisfied: jinja2 in /home/navaneeth/.local/lib/python3.8/site-packages (from notebook>=4.4.1->widgetsnbextension~=3.5.0->ipywidgets>=7.0.0->ibm-quantum-widgets) (2.11.2)\n",
      "Requirement already satisfied: terminado>=0.8.3 in /home/navaneeth/.local/lib/python3.8/site-packages (from notebook>=4.4.1->widgetsnbextension~=3.5.0->ipywidgets>=7.0.0->ibm-quantum-widgets) (0.9.1)\n",
      "Requirement already satisfied: Send2Trash in /home/navaneeth/.local/lib/python3.8/site-packages (from notebook>=4.4.1->widgetsnbextension~=3.5.0->ipywidgets>=7.0.0->ibm-quantum-widgets) (1.5.0)\n",
      "Requirement already satisfied: nbconvert in /home/navaneeth/.local/lib/python3.8/site-packages (from notebook>=4.4.1->widgetsnbextension~=3.5.0->ipywidgets>=7.0.0->ibm-quantum-widgets) (6.0.7)\n",
      "Requirement already satisfied: multitasking>=0.0.7 in /home/navaneeth/anaconda3/lib/python3.8/site-packages (from yfinance<=0.1.55->qiskit-aqua==0.9.1->qiskit>=0.23.5->ibm-quantum-widgets) (0.0.9)\n",
      "Requirement already satisfied: lxml>=4.5.1 in /home/navaneeth/anaconda3/lib/python3.8/site-packages (from yfinance<=0.1.55->qiskit-aqua==0.9.1->qiskit>=0.23.5->ibm-quantum-widgets) (4.6.1)\n",
      "Requirement already satisfied: MarkupSafe>=0.23 in /home/navaneeth/anaconda3/lib/python3.8/site-packages (from jinja2->notebook>=4.4.1->widgetsnbextension~=3.5.0->ipywidgets>=7.0.0->ibm-quantum-widgets) (1.1.1)\n",
      "Requirement already satisfied: nbclient<0.6.0,>=0.5.0 in /home/navaneeth/.local/lib/python3.8/site-packages (from nbconvert->notebook>=4.4.1->widgetsnbextension~=3.5.0->ipywidgets>=7.0.0->ibm-quantum-widgets) (0.5.1)\n",
      "Requirement already satisfied: mistune<2,>=0.8.1 in /home/navaneeth/.local/lib/python3.8/site-packages (from nbconvert->notebook>=4.4.1->widgetsnbextension~=3.5.0->ipywidgets>=7.0.0->ibm-quantum-widgets) (0.8.4)\n",
      "Requirement already satisfied: pandocfilters>=1.4.1 in /home/navaneeth/.local/lib/python3.8/site-packages (from nbconvert->notebook>=4.4.1->widgetsnbextension~=3.5.0->ipywidgets>=7.0.0->ibm-quantum-widgets) (1.4.3)\n",
      "Requirement already satisfied: entrypoints>=0.2.2 in /home/navaneeth/anaconda3/lib/python3.8/site-packages (from nbconvert->notebook>=4.4.1->widgetsnbextension~=3.5.0->ipywidgets>=7.0.0->ibm-quantum-widgets) (0.3)\n",
      "Requirement already satisfied: defusedxml in /home/navaneeth/.local/lib/python3.8/site-packages (from nbconvert->notebook>=4.4.1->widgetsnbextension~=3.5.0->ipywidgets>=7.0.0->ibm-quantum-widgets) (0.6.0)\n",
      "Requirement already satisfied: testpath in /home/navaneeth/.local/lib/python3.8/site-packages (from nbconvert->notebook>=4.4.1->widgetsnbextension~=3.5.0->ipywidgets>=7.0.0->ibm-quantum-widgets) (0.4.4)\n",
      "Requirement already satisfied: bleach in /home/navaneeth/.local/lib/python3.8/site-packages (from nbconvert->notebook>=4.4.1->widgetsnbextension~=3.5.0->ipywidgets>=7.0.0->ibm-quantum-widgets) (3.2.1)\n",
      "Requirement already satisfied: jupyterlab-pygments in /home/navaneeth/.local/lib/python3.8/site-packages (from nbconvert->notebook>=4.4.1->widgetsnbextension~=3.5.0->ipywidgets>=7.0.0->ibm-quantum-widgets) (0.1.2)\n",
      "Requirement already satisfied: async-generator in /home/navaneeth/.local/lib/python3.8/site-packages (from nbclient<0.6.0,>=0.5.0->nbconvert->notebook>=4.4.1->widgetsnbextension~=3.5.0->ipywidgets>=7.0.0->ibm-quantum-widgets) (1.10)\n",
      "Requirement already satisfied: webencodings in /home/navaneeth/anaconda3/lib/python3.8/site-packages (from bleach->nbconvert->notebook>=4.4.1->widgetsnbextension~=3.5.0->ipywidgets>=7.0.0->ibm-quantum-widgets) (0.5.1)\n",
      "Requirement already satisfied: packaging in /home/navaneeth/.local/lib/python3.8/site-packages (from bleach->nbconvert->notebook>=4.4.1->widgetsnbextension~=3.5.0->ipywidgets>=7.0.0->ibm-quantum-widgets) (20.7)\n",
      "Requirement already satisfied: pyparsing>=2.0.2 in /home/navaneeth/.local/lib/python3.8/site-packages (from packaging->bleach->nbconvert->notebook>=4.4.1->widgetsnbextension~=3.5.0->ipywidgets>=7.0.0->ibm-quantum-widgets) (2.4.7)\n"
     ]
    },
    {
     "name": "stdout",
     "output_type": "stream",
     "text": [
      "Installing collected packages: retworkx, qiskit-terra, qiskit-ignis, qiskit-ibmq-provider, qiskit-aqua, qiskit-aer, qiskit, ibm-quantum-widgets\n",
      "  Attempting uninstall: retworkx\n",
      "    Found existing installation: retworkx 0.7.2\n",
      "    Uninstalling retworkx-0.7.2:\n",
      "      Successfully uninstalled retworkx-0.7.2\n",
      "  Attempting uninstall: qiskit-terra\n",
      "    Found existing installation: qiskit-terra 0.16.3\n",
      "    Uninstalling qiskit-terra-0.16.3:\n",
      "      Successfully uninstalled qiskit-terra-0.16.3\n",
      "  Attempting uninstall: qiskit-ignis\n",
      "    Found existing installation: qiskit-ignis 0.5.1\n",
      "    Uninstalling qiskit-ignis-0.5.1:\n",
      "      Successfully uninstalled qiskit-ignis-0.5.1\n",
      "  Attempting uninstall: qiskit-ibmq-provider\n",
      "    Found existing installation: qiskit-ibmq-provider 0.11.1\n",
      "    Uninstalling qiskit-ibmq-provider-0.11.1:\n",
      "      Successfully uninstalled qiskit-ibmq-provider-0.11.1\n",
      "  Attempting uninstall: qiskit-aqua\n",
      "    Found existing installation: qiskit-aqua 0.8.1\n",
      "    Uninstalling qiskit-aqua-0.8.1:\n",
      "      Successfully uninstalled qiskit-aqua-0.8.1\n",
      "  Attempting uninstall: qiskit-aer\n",
      "    Found existing installation: qiskit-aer 0.7.3\n",
      "    Uninstalling qiskit-aer-0.7.3:\n",
      "      Successfully uninstalled qiskit-aer-0.7.3\n",
      "  Attempting uninstall: qiskit\n",
      "    Found existing installation: qiskit 0.23.4\n",
      "    Uninstalling qiskit-0.23.4:\n",
      "      Successfully uninstalled qiskit-0.23.4\n",
      "Successfully installed ibm-quantum-widgets-1.0.3 qiskit-0.26.2 qiskit-aer-0.8.2 qiskit-aqua-0.9.1 qiskit-ibmq-provider-0.13.1 qiskit-ignis-0.6.0 qiskit-terra-0.17.4 retworkx-0.8.0\n"
     ]
    }
   ],
   "source": [
    "!pip install ibm-quantum-widgets"
   ]
  },
  {
   "cell_type": "code",
   "execution_count": 1,
   "metadata": {},
   "outputs": [],
   "source": [
    "# Getting rid of unnecessary warnings\n",
    "import warnings\n",
    "from matplotlib.cbook import MatplotlibDeprecationWarning\n",
    "warnings.filterwarnings('ignore', category=MatplotlibDeprecationWarning)\n",
    "\n",
    "# Importing standard Qiskit libraries\n",
    "from qiskit import QuantumCircuit, execute, Aer, IBMQ, QuantumRegister, ClassicalRegister\n",
    "from qiskit.compiler import transpile, assemble\n",
    "from qiskit.tools.jupyter import *\n",
    "from qiskit.visualization import *\n",
    "from ibm_quantum_widgets import *\n",
    "\n",
    "# Useful to have pi\n",
    "import math\n",
    "pi=math.pi"
   ]
  },
  {
   "cell_type": "markdown",
   "metadata": {},
   "source": [
    "## What are quantum circuits?\n",
    "\n",
    "Quantum circuits are models for quantum computation in which a computation is a sequence of quantum gates. Quantum gates often represent rotations on the Bloch sphere. Let's take a look at some of the popular quantum gates.\n",
    "\n",
    "### X gate \n",
    "\n",
    "The X-gate is represented by the Pauli-X matrix: \n",
    "\n",
    "$X = \\begin{pmatrix}\n",
    "0 & 1 \\\\\n",
    "1 & 0 \\\\\n",
    "\\end{pmatrix}$\n",
    "\n",
    "An X gate equates to a rotation around the X-axis of the Bloch sphere by $\\pi$ radians. It maps $|0\\rangle$ to $|1\\rangle$ and $|1\\rangle$ to $|0\\rangle$. It is the quantum equivalent of the NOT gate for classical computers and is sometimes called a bit-flip."
   ]
  },
  {
   "cell_type": "code",
   "execution_count": 2,
   "metadata": {},
   "outputs": [
    {
     "data": {
      "image/png": "[encoded data removed]",
      "text/plain": [
       "<Figure size 133.526x84.28 with 1 Axes>"
      ]
     },
     "execution_count": 2,
     "metadata": {},
     "output_type": "execute_result"
    }
   ],
   "source": [
    "x_gate=QuantumCircuit(1) # Create a quantum circuit with 1 qubit\n",
    "x_gate.x(0)\n",
    "x_gate.draw(output='mpl')"
   ]
  },
  {
   "cell_type": "code",
   "execution_count": 3,
   "metadata": {},
   "outputs": [
    {
     "data": {
      "image/png": "[encoded data removed]",
      "text/plain": [
       "<Figure size 288x288 with 1 Axes>"
      ]
     },
     "execution_count": 3,
     "metadata": {},
     "output_type": "execute_result"
    }
   ],
   "source": [
    "backend = Aer.get_backend('statevector_simulator')\n",
    "result = execute(x_gate, backend).result().get_statevector()\n",
    "plot_bloch_multivector(result)"
   ]
  },
  {
   "cell_type": "markdown",
   "metadata": {},
   "source": [
    "### SX gate\n",
    "\n",
    "The SX gate equates to a rotation around the X-axis of the Bloch sphere by $\\pi/2$. It is called SX gate to indicate that it is the square-root of the X gate. Applying this gate twice produces the standard Pauli-X gate. The opposite of the SX is the SX dagger, which is a rotation by $\\pi/2$ in the opposite direction.\n",
    "\n",
    "$SX = \\frac{1}{\\sqrt{2}}\\begin{pmatrix}\n",
    "1+i & 1-i \\\\\n",
    "1-i & 1+i \\\\\n",
    "\\end{pmatrix}$"
   ]
  },
  {
   "cell_type": "code",
   "execution_count": 4,
   "metadata": {},
   "outputs": [
    {
     "data": {
      "image/png": "[encoded data removed]",
      "text/plain": [
       "<Figure size 133.526x84.28 with 1 Axes>"
      ]
     },
     "execution_count": 4,
     "metadata": {},
     "output_type": "execute_result"
    }
   ],
   "source": [
    "sx_gate = QuantumCircuit(1)\n",
    "sx_gate.sx(0)  \n",
    "sx_gate.draw(output='mpl')"
   ]
  },
  {
   "cell_type": "code",
   "execution_count": 5,
   "metadata": {},
   "outputs": [
    {
     "data": {
      "image/png": "[encoded data removed]",
      "text/plain": [
       "<Figure size 288x288 with 1 Axes>"
      ]
     },
     "execution_count": 5,
     "metadata": {},
     "output_type": "execute_result"
    }
   ],
   "source": [
    "backend = Aer.get_backend('statevector_simulator')\n",
    "result = execute(sx_gate, backend).result().get_statevector()\n",
    "plot_bloch_multivector(result)"
   ]
  },
  {
   "cell_type": "markdown",
   "metadata": {},
   "source": [
    "### RZ gate\n",
    "\n",
    "The Rz gate performs a rotation of $\\phi$ around the Z-axis direction (Where $\\phi$ is a real number). It has the matrix below:\n",
    "\n",
    "$RZ = \\begin{pmatrix}\n",
    "1 & 0 \\\\\n",
    "0 & e ^{i \\phi } \\\\\n",
    "\\end{pmatrix}$"
   ]
  },
  {
   "cell_type": "code",
   "execution_count": 6,
   "metadata": {},
   "outputs": [
    {
     "data": {
      "image/png": "[encoded data removed]",
      "text/plain": [
       "<Figure size 133.526x84.28 with 1 Axes>"
      ]
     },
     "execution_count": 6,
     "metadata": {},
     "output_type": "execute_result"
    }
   ],
   "source": [
    "rz_gate = QuantumCircuit(1)\n",
    "rz_gate.rz(pi/2, 0)\n",
    "rz_gate.draw(output='mpl')"
   ]
  },
  {
   "cell_type": "code",
   "execution_count": 7,
   "metadata": {},
   "outputs": [
    {
     "data": {
      "image/png": "[encoded data removed]",
      "text/plain": [
       "<Figure size 288x288 with 1 Axes>"
      ]
     },
     "execution_count": 7,
     "metadata": {},
     "output_type": "execute_result"
    }
   ],
   "source": [
    "backend = Aer.get_backend('statevector_simulator')\n",
    "result = execute(rz_gate, backend).result().get_statevector()\n",
    "plot_bloch_multivector(result)"
   ]
  },
  {
   "cell_type": "markdown",
   "metadata": {},
   "source": [
    "Since the rotation is around the Z-axis one would not see a difference when we apply it to the default state $|0\\rangle$, so we use the state which was generated by applying the SX gate instead and apply the RZ to it."
   ]
  },
  {
   "cell_type": "code",
   "execution_count": 8,
   "metadata": {},
   "outputs": [
    {
     "data": {
      "image/png": "[encoded data removed]",
      "text/plain": [
       "<Figure size 253.926x84.28 with 1 Axes>"
      ]
     },
     "execution_count": 8,
     "metadata": {},
     "output_type": "execute_result"
    }
   ],
   "source": [
    "rz_gate.sx(0)\n",
    "rz_gate.rz(pi/2, 0)\n",
    "rz_gate.draw(output='mpl')"
   ]
  },
  {
   "cell_type": "code",
   "execution_count": 9,
   "metadata": {},
   "outputs": [
    {
     "data": {
      "image/png": "[encoded data removed]",
      "text/plain": [
       "<Figure size 288x288 with 1 Axes>"
      ]
     },
     "execution_count": 9,
     "metadata": {},
     "output_type": "execute_result"
    }
   ],
   "source": [
    "backend = Aer.get_backend('statevector_simulator')\n",
    "result = execute(rz_gate, backend).result().get_statevector()\n",
    "plot_bloch_multivector(result)"
   ]
  },
  {
   "cell_type": "markdown",
   "metadata": {},
   "source": [
    "### Hadamard gate\n",
    "A Hadamard gate represents a rotation of $\\pi$ about the axis that is in the middle of the X-axis and Z-axis.\n",
    "It maps the basis state $|0\\rangle$ to $\\frac{|0\\rangle + |1\\rangle}{\\sqrt{2}}$, which means that a measurement will have equal probabilities of being `1` or `0`, creating a 'superposition' of states. This state is also written as $|+\\rangle$. What the Hadamard does is to transform between the $|0\\rangle$ $|1\\rangle$ and the $|+\\rangle$ $|-\\rangle$ base. \n",
    "\n",
    "$H = \\frac{1}{\\sqrt{2}}\\begin{pmatrix}\n",
    "1 & 1 \\\\\n",
    "1 & -1 \\\\\n",
    "\\end{pmatrix}$"
   ]
  },
  {
   "cell_type": "code",
   "execution_count": 10,
   "metadata": {},
   "outputs": [
    {
     "data": {
      "image/png": "[encoded data removed]",
      "text/plain": [
       "<Figure size 133.526x84.28 with 1 Axes>"
      ]
     },
     "execution_count": 10,
     "metadata": {},
     "output_type": "execute_result"
    }
   ],
   "source": [
    "# Let's do an H-gate on a |0> qubit\n",
    "h_gate = QuantumCircuit(1)\n",
    "h_gate.h(0)\n",
    "h_gate.draw(output='mpl')"
   ]
  },
  {
   "cell_type": "code",
   "execution_count": 11,
   "metadata": {},
   "outputs": [
    {
     "data": {
      "image/png": "[encoded data removed]",
      "text/plain": [
       "<Figure size 288x288 with 1 Axes>"
      ]
     },
     "execution_count": 11,
     "metadata": {},
     "output_type": "execute_result"
    }
   ],
   "source": [
    "# Let's see the result\n",
    "backend = Aer.get_backend('statevector_simulator')\n",
    "result = execute(h_gate, backend).result().get_statevector()\n",
    "plot_bloch_multivector(result)"
   ]
  },
  {
   "cell_type": "markdown",
   "metadata": {},
   "source": [
    "### CX gate (CNOT gate)\n",
    "\n",
    "The controlled NOT (or CNOT or CX) gate acts on two qubits. It performs the NOT operation (equivalent to applying an X gate) on the second qubit only when the first qubit is $|1\\rangle$ and otherwise leaves it unchanged. \n",
    "\n",
    "Note: Qiskit numbers the bits in a string from right to left.\n",
    "\n",
    "$CX = \\begin{pmatrix}\n",
    "1 & 0 & 0 & 0  \\\\\n",
    "0 & 1 & 0 & 0 \\\\\n",
    "0 & 0 & 0 & 1 \\\\\n",
    "0 & 0 & 1 & 0 \\\\\n",
    "\\end{pmatrix}$"
   ]
  },
  {
   "cell_type": "code",
   "execution_count": 12,
   "metadata": {},
   "outputs": [
    {
     "data": {
      "image/png": "[encoded data removed]",
      "text/plain": [
       "<Figure size 146.652x144.48 with 1 Axes>"
      ]
     },
     "execution_count": 12,
     "metadata": {},
     "output_type": "execute_result"
    }
   ],
   "source": [
    "cx_gate = QuantumCircuit(2)\n",
    "cx_gate.cx(0,1)\n",
    "cx_gate.draw(output='mpl')"
   ]
  },
  {
   "cell_type": "markdown",
   "metadata": {},
   "source": [
    "### CCX gate (Toffoli gate)\n",
    "\n",
    "The CCX gate (controlled controlled X Gate) is also called a Toffoli gate. The CCX gate is a three-bit gate, with two controls and one target as their input and output. If the first two bits are in the state $|1\\rangle$, it applies a Pauli-X (or NOT) on the third bit. Otherwise, it does nothing. \n",
    "\n",
    "Note: Qiskit numbers the bits in a string from right to left.\n",
    "\n",
    "$CCX = \\begin{pmatrix}\n",
    "1 & 0 & 0 & 0 & 0 & 0 & 0 & 0 \\\\\n",
    "0 & 1 & 0 & 0 & 0 & 0 & 0 & 0 \\\\\n",
    "0 & 0 & 1 & 0 & 0 & 0 & 0 & 0 \\\\\n",
    "0 & 0 & 0 & 1 & 0 & 0 & 0 & 0 \\\\\n",
    "0 & 0 & 0 & 0 & 1 & 0 & 0 & 0 \\\\\n",
    "0 & 0 & 0 & 0 & 0 & 1 & 0 & 0 \\\\\n",
    "0 & 0 & 0 & 0 & 0 & 0 & 0 & 1 \\\\\n",
    "0 & 0 & 0 & 0 & 0 & 0 & 1 & 0 \\\\\n",
    "\\end{pmatrix}$"
   ]
  },
  {
   "cell_type": "code",
   "execution_count": 13,
   "metadata": {},
   "outputs": [
    {
     "data": {
      "image/png": "[encoded data removed]",
      "text/plain": [
       "<Figure size 146.797x204.68 with 1 Axes>"
      ]
     },
     "execution_count": 13,
     "metadata": {},
     "output_type": "execute_result"
    }
   ],
   "source": [
    "ccx_gate = QuantumCircuit(3)\n",
    "ccx_gate.ccx(0,1,2)\n",
    "ccx_gate.draw(output='mpl')"
   ]
  },
  {
   "cell_type": "markdown",
   "metadata": {},
   "source": [
    "## Create logical gates with the help of quantum gates\n",
    "\n",
    "### NOT gate\n",
    "\n",
    "The NOT gate flips the value of a bit and, as was mentioned before, an X gate can be considered a NOT gate. The truth table for a NOT gate looks like this:\n",
    "\n",
    "| Input | Output |\n",
    "| --- | --- | \n",
    "| 1 | 0 |\n",
    "| 0 | 1 |"
   ]
  },
  {
   "cell_type": "code",
   "execution_count": 14,
   "metadata": {},
   "outputs": [
    {
     "data": {
      "image/png": "[encoded data removed]",
      "text/plain": [
       "<Figure size 193.726x144.48 with 1 Axes>"
      ]
     },
     "execution_count": 14,
     "metadata": {},
     "output_type": "execute_result"
    }
   ],
   "source": [
    "not_gate=QuantumCircuit(1,1) # Create a quantum circuit with 1 qubit and 1 classical bit\n",
    "not_gate.x(0)\n",
    "not_gate.measure(0,0)\n",
    "not_gate.draw(output='mpl')"
   ]
  },
  {
   "cell_type": "markdown",
   "metadata": {},
   "source": [
    "### AND gate\n",
    "\n",
    "The output of an AND is true if and only if both inputs are true. The truth table for an AND Gate looks like this:\n",
    "\n",
    "| A (Input) | B (Input) | Output |\n",
    "| --- | --- | --- |\n",
    "| 0 | 0 | 0 | \n",
    "| 0 | 1 | 0 |\n",
    "| 1 | 0 | 0 |\n",
    "| 1 | 1 | 1 |\n",
    "\n",
    "With a Toffoli gate, we can get the result of an AND gate by interpreting the two control bits as the input bits and the target bit as the output bit."
   ]
  },
  {
   "cell_type": "code",
   "execution_count": 15,
   "metadata": {},
   "outputs": [
    {
     "data": {
      "image/png": "[encoded data removed]",
      "text/plain": [
       "<Figure size 206.997x264.88 with 1 Axes>"
      ]
     },
     "execution_count": 15,
     "metadata": {},
     "output_type": "execute_result"
    }
   ],
   "source": [
    "and_gate=QuantumCircuit(3,1) # Create a quantum circuit with 3 qubits and 1 classical bit\n",
    "and_gate.ccx(0,1,2)\n",
    "and_gate.measure(2,0)\n",
    "and_gate.draw(output='mpl')"
   ]
  },
  {
   "cell_type": "markdown",
   "metadata": {},
   "source": [
    "### OR gate\n",
    "\n",
    "An OR gate returns true if at least one of the input gates is true.\n",
    "The truth table for an OR Gate looks like this:\n",
    "\n",
    "| A (Input) | B (Input) | Output |\n",
    "| --- | --- | --- |\n",
    "| 0 | 0 | 0 | \n",
    "| 0 | 1 | 1 |\n",
    "| 1 | 0 | 1 |\n",
    "| 1 | 1 | 1 |"
   ]
  },
  {
   "cell_type": "code",
   "execution_count": 16,
   "metadata": {
    "scrolled": true
   },
   "outputs": [
    {
     "data": {
      "image/png": "[encoded data removed]",
      "text/plain": [
       "<Figure size 327.397x264.88 with 1 Axes>"
      ]
     },
     "execution_count": 16,
     "metadata": {},
     "output_type": "execute_result"
    }
   ],
   "source": [
    "or_gate=QuantumCircuit(3,1) # Create a quantum circuit with 3 qubits and 1 classical bit\n",
    "or_gate.cx(1,2)\n",
    "or_gate.cx(0,2)\n",
    "or_gate.ccx(0,1,2)\n",
    "or_gate.measure(2,0)\n",
    "or_gate.draw(output='mpl')"
   ]
  },
  {
   "cell_type": "markdown",
   "metadata": {},
   "source": [
    "## Using the Circuit Composer widget\n",
    "\n",
    "You might be familiar with the IBM quantum circuit composer, where you can generate circuits while using a graphical interface. With the new circuit composer widget, the same functionality  can be used in a jupyter notebook. You can learn more about how to use the widget [here](https://quantum-computing.ibm.com/lab/docs/iql/composer-widget)\n",
    "\n",
    "<div class=\"alert alert-block alert-success\">\n",
    "\n",
    "**Exercise 1a:** Build a NOR (a negated OR) gate using circuit composer\n",
    "    \n",
    "This exercise is intended to encourage you to play around a bit with the composer. It is not graded. You can skip ahead if you want. Executing the cell below will show you a composer, where you can add gates by dragging them onto the correct place.    \n",
    "</div>"
   ]
  },
  {
   "cell_type": "code",
   "execution_count": 17,
   "metadata": {},
   "outputs": [
    {
     "data": {
      "application/vnd.jupyter.widget-view+json": {
       "model_id": "a75a6cb142754843b841247f2b5e73ab",
       "version_major": 2,
       "version_minor": 0
      },
      "text/plain": [
       "CircuitComposer(circuit=<qiskit.circuit.quantumcircuit.QuantumCircuit object at 0x7fbb784de490>)"
      ]
     },
     "metadata": {},
     "output_type": "display_data"
    }
   ],
   "source": [
    "from ibm_quantum_widgets import CircuitComposer\n",
    "editor = CircuitComposer()\n",
    "editor"
   ]
  },
  {
   "cell_type": "markdown",
   "metadata": {},
   "source": [
    "### Use the Circuit Composer widget to work with an existing circuit\n",
    "\n",
    "We can also use the circuit composer to open a previously created circuit. With the code below we will open the circuit created above, which represents the OR gate. You can use this to check if you constructed your OR correctly.\n",
    "\n",
    "<div class=\"alert alert-block alert-success\">\n",
    "\n",
    "You can edit the opened circuit by drag and drop. Try to delete the measurement at the end.\n",
    "    \n",
    "</div>"
   ]
  },
  {
   "cell_type": "code",
   "execution_count": 18,
   "metadata": {
    "scrolled": true
   },
   "outputs": [
    {
     "data": {
      "application/vnd.jupyter.widget-view+json": {
       "model_id": "9b84d672eef14b73ae75bf47a9e0aa58",
       "version_major": 2,
       "version_minor": 0
      },
      "text/plain": [
       "CircuitComposer(circuit=<qiskit.circuit.quantumcircuit.QuantumCircuit object at 0x7fbb73fb0af0>)"
      ]
     },
     "metadata": {},
     "output_type": "display_data"
    }
   ],
   "source": [
    "from ibm_quantum_widgets import CircuitComposer\n",
    "editor2 = CircuitComposer(circuit=or_gate)\n",
    "editor2"
   ]
  },
  {
   "cell_type": "markdown",
   "metadata": {},
   "source": [
    "In the example below we store the last circuit from the composer in the variable qc2 and then apply an X to the output and measure again.\n",
    "\n",
    "Use circuit from last editor and apply an X to the output and measure again."
   ]
  },
  {
   "cell_type": "code",
   "execution_count": 19,
   "metadata": {
    "slideshow": {
     "slide_type": "slide"
    }
   },
   "outputs": [
    {
     "data": {
      "image/png": "[encoded data removed]",
      "text/plain": [
       "<Figure size 447.797x264.88 with 1 Axes>"
      ]
     },
     "execution_count": 19,
     "metadata": {},
     "output_type": "execute_result"
    }
   ],
   "source": [
    "qc2 = editor2.circuit\n",
    "\n",
    "qc2.x(2)\n",
    "qc2.measure((2), (0))\n",
    "\n",
    "qc2.draw(output='mpl')"
   ]
  },
  {
   "cell_type": "markdown",
   "metadata": {},
   "source": [
    "We now have created a NOR the negation of an OR, it should be identical to the circuit you constructed yourself in the first exercise. \n",
    "\n",
    "## Composite quantum gates and their cost\n",
    "\n",
    "A real quantum computer normally does not have physical implementations of all gates. Instead they use a small set of base gates, which form a universal gate set, this is, similar to the classical case, a set of instructions which can be used to implement all possible operations.\n",
    "\n",
    "For this reason, quantum circuits must be transpiled into basis gates before execution. This is usually done automatically by Qiskit transpiler when a quantum circuit is sent to a IBM Quantum system. But for the learning purposes, you are expected to construct the circuit by hand using the basis gates. The basis gates for IBM Quantum system is typically CX, ID, RZ, SX and X gates. You can see [`ibmq_mumbai` system](https://quantum-computing.ibm.com/services?skip=0&systems=all&system=ibmq_mumbai) for an example.\n",
    "\n",
    "Now let’s  take a look at the circuit below:"
   ]
  },
  {
   "cell_type": "code",
   "execution_count": 20,
   "metadata": {},
   "outputs": [
    {
     "data": {
      "image/png": "[encoded data removed]",
      "text/plain": [
       "<Figure size 146.652x144.48 with 1 Axes>"
      ]
     },
     "execution_count": 20,
     "metadata": {},
     "output_type": "execute_result"
    }
   ],
   "source": [
    "qc = QuantumCircuit(2)\n",
    "qc.sxdg(0)\n",
    "qc.t(1)\n",
    "qc.draw(output='mpl')"
   ]
  },
  {
   "cell_type": "markdown",
   "metadata": {},
   "source": [
    "Now lets show how a decomposition of the above circuit for a quantum computer, using only the base gates, could look."
   ]
  },
  {
   "cell_type": "code",
   "execution_count": 21,
   "metadata": {},
   "outputs": [
    {
     "data": {
      "image/png": "[encoded data removed]",
      "text/plain": [
       "<Figure size 267.052x144.48 with 1 Axes>"
      ]
     },
     "execution_count": 21,
     "metadata": {},
     "output_type": "execute_result"
    }
   ],
   "source": [
    "qc = QuantumCircuit(2)\n",
    "qc.sx(0)\n",
    "qc.sx(0)\n",
    "qc.sx(0)\n",
    "qc.rz(pi/4,1)\n",
    "qc.draw(output='mpl')"
   ]
  },
  {
   "cell_type": "markdown",
   "metadata": {},
   "source": [
    "As you can see, we now use only the base gates, but for this reason more total gates are used. The more gates a circuit has, the more complex it is to run. So, when we want to calculate the cost of a circuit, we consider the number of gates used. However, not all gates are considered equal expensive, so when we calculate the cost of a circuit, we use the following formula:\n",
    "\n",
    "$$\n",
    "Cost = 10 N_{CNOT} + N_{other}\n",
    "$$\n",
    "\n",
    "where $N_{CNOT}$ is the number of CNOT gate and $N_{other}$ is the number of other gates.\n",
    "\n",
    "### Hadamard gate\n",
    "\n",
    "As said all operations can be expressed just using the base gates. As an example we show how to construct a Hadamard gate using our base gate set. We don't have a base gate which does a direct rotation around the axis that is in the middle of the X-axis and Z-axis, so we instead use rotations around the X-axis and Z-axis to get the same result. \n",
    "\n",
    "Can you guess what rotations we need to do?"
   ]
  },
  {
   "cell_type": "code",
   "execution_count": 22,
   "metadata": {},
   "outputs": [
    {
     "data": {
      "image/png": "[encoded data removed]",
      "text/plain": [
       "<Figure size 280.469x144.48 with 1 Axes>"
      ]
     },
     "execution_count": 22,
     "metadata": {},
     "output_type": "execute_result"
    }
   ],
   "source": [
    "q=QuantumRegister(1)\n",
    "c=ClassicalRegister(1)\n",
    "qc=QuantumCircuit(q,c)\n",
    "qc.rz(pi/2, 0)\n",
    "qc.sx(0)\n",
    "qc.rz(pi/2, 0)\n",
    "qc.draw(output='mpl')"
   ]
  },
  {
   "cell_type": "markdown",
   "metadata": {},
   "source": [
    "As you might remember, this is the circuit we had above, when we visualized the rotation of the RZ gate. Above we saw that the first RZ does nothing, when we are in the $|0\\rangle$ or $|1\\rangle$ states. So it might feel a bit useless. However, if we are in the $|+\\rangle$ and $|-\\rangle$ states the first rotation has an effect. We have the opposite scenario, since after applying the SX gate we are again in the $|0\\rangle$ or $|1\\rangle$ state and then the second RZ has no effect.\n",
    "\n",
    "### Controlled rotation\n",
    "\n",
    "We have seen above the Controlled NOT, lets now show one example on how one can build a controlled rotation around the Y-axis. The rotation $\\theta$ can be any rotation, it does not have to be $\\pi$, this is just an example. "
   ]
  },
  {
   "cell_type": "code",
   "execution_count": 23,
   "metadata": {},
   "outputs": [
    {
     "data": {
      "image/png": "[encoded data removed]",
      "text/plain": [
       "<Figure size 327.252x144.48 with 1 Axes>"
      ]
     },
     "execution_count": 23,
     "metadata": {},
     "output_type": "execute_result"
    }
   ],
   "source": [
    "qc = QuantumCircuit(2)\n",
    "theta = pi # Theta can be anything (pi chosen arbitrarily)\n",
    "qc.ry(theta/2,1)\n",
    "qc.cx(0,1)\n",
    "qc.ry(-theta/2,1)\n",
    "qc.cx(0,1)\n",
    "qc.draw(output='mpl')"
   ]
  },
  {
   "cell_type": "markdown",
   "metadata": {},
   "source": [
    "When one goes through this circuit, one can see that if the first qubit is 0 then the two rotations cancel each other out and nothing happens. \n",
    "\n",
    "On the other hand, if the first qubit is 1 we will get a state which is equal to applying the rotation $\\theta / 2$ two times which forms our initial rotation $\\theta$. This works since the X-axis and Y-axis are orthogonal. \n",
    "\n",
    "<div class=\"alert alert-block alert-danger\">\n",
    "For rotation around other axes you might need to use other tricks.\n",
    "</div>\n",
    "\n",
    "### Controlled controlled rotation\n",
    "\n",
    "Above we saw an example on how one can do a controlled rotation around the $Y$-axis.\n",
    "Now we assume we have a controlled rotation (around the axis we want) and want to build from that a double controlled rotation, which is only applied if both control qubits are 1 similar to the CCX gate."
   ]
  },
  {
   "cell_type": "code",
   "execution_count": 24,
   "metadata": {},
   "outputs": [
    {
     "data": {
      "text/html": [
       "<pre style=\"word-wrap: normal;white-space: pre;background: #fff0;line-height: 1.1;font-family: &quot;Courier New&quot;,Courier,monospace\">                                           \n",
       "q_0: ───────────■──────────────■───■───────\n",
       "              ┌─┴─┐          ┌─┴─┐ │       \n",
       "q_1: ─■───────┤ X ├─■────────┤ X ├─┼───────\n",
       "      │P(π/2) └───┘ │P(-π/2) └───┘ │P(π/2) \n",
       "q_2: ─■─────────────■──────────────■───────\n",
       "                                           </pre>"
      ],
      "text/plain": [
       "                                           \n",
       "q_0: ───────────■──────────────■───■───────\n",
       "              ┌─┴─┐          ┌─┴─┐ │       \n",
       "q_1: ─■───────┤ X ├─■────────┤ X ├─┼───────\n",
       "      │P(π/2) └───┘ │P(-π/2) └───┘ │P(π/2) \n",
       "q_2: ─■─────────────■──────────────■───────\n",
       "                                           "
      ]
     },
     "execution_count": 24,
     "metadata": {},
     "output_type": "execute_result"
    }
   ],
   "source": [
    "qc = QuantumCircuit(3)\n",
    "theta = pi # Theta can be anything (pi chosen arbitrarily)\n",
    "qc.cp(theta/2,1,2)\n",
    "qc.cx(0,1)\n",
    "qc.cp(-theta/2,1,2)\n",
    "qc.cx(0,1)\n",
    "qc.cp(theta/2,0,2)\n",
    "qc.draw()"
   ]
  },
  {
   "cell_type": "markdown",
   "metadata": {},
   "source": [
    "In this circuit if both the first and second qubit are 0, then nothing happens at all. If only the second qubit is one, first we apply a rotation by $\\pi/2$ and afterwards a rotation by $-\\pi/2$ which cancel each other out. If only the first qubit is 1, then we the second qubit will also be one after the first CX so a rotation by $-\\pi/2$ will be applied and afterwards a rotation by $\\pi/2$ will be applied and these two rotations cancel each other out again.\n",
    "\n",
    "If both the first and the second qubit are 1 then first there will be a rotation by $\\pi/2$ then the second qubit will become 0 so the next rotation does not apply and then it is flipped back to 1. Afterwards another rotation by $\\pi/2$ is applied since the first qubit is 1. So we have two times a rotation of $\\pi/2$ which form together a rotation of $\\pi$."
   ]
  },
  {
   "cell_type": "markdown",
   "metadata": {},
   "source": [
    "## The problem\n",
    "\n",
    "<div id='problem'></div>\n",
    "<div class=\"alert alert-block alert-success\">\n",
    "\n",
    "We have seen above how to construct a Hadamard gate with our base set, and now we want to build a Toffoli gate as well. Why the Toffoli gate? As mentioned above, the Toffoli gate is also a universal gate for classical computation the same way the NAND gate is, but it is reversible. Further  it builds a simple universal gate set for quantum computation if combined with the Hadamard gate. \n",
    "\n",
    "We have seen some examples on how to express more complex gates using basis gates, we now want to use the knowledge gained to construct a Toffoli gate only using our basis gates. In order to do solve this exercise the above examples on how to construct and use controlled rotations, will come in handy. The biggest challenge is to construct the needed controlled rotations.\n",
    "    \n",
    "You can use the code below using the composer widget to construct your circuit.\n",
    "    \n",
    "</div>\n",
    "\n",
    "\n",
    "<div class=\"alert alert-block alert-danger\">\n",
    "\n",
    "As a reminder the basis gates for IBM Quantum systems are CX, RZ, SX and X gates, so no other gates are allowed.\n",
    "\n",
    "Of course we want also try to minimize the cost. \n",
    "    \n",
    "$$\n",
    "Cost = 10 N_{CNOT} + N_{other}\n",
    "$$\n",
    "    \n",
    "</div>\n"
   ]
  },
  {
   "cell_type": "code",
   "execution_count": 25,
   "metadata": {},
   "outputs": [
    {
     "data": {
      "application/vnd.jupyter.widget-view+json": {
       "model_id": "7fe6c00b49314d789b787affeddde540",
       "version_major": 2,
       "version_minor": 0
      },
      "text/plain": [
       "CircuitComposer(circuit=<qiskit.circuit.quantumcircuit.QuantumCircuit object at 0x7fbb73cea3a0>)"
      ]
     },
     "metadata": {},
     "output_type": "display_data"
    }
   ],
   "source": [
    "from qiskit import QuantumRegister, ClassicalRegister, QuantumCircuit\n",
    "from qiskit import IBMQ, Aer, execute\n",
    "from ibm_quantum_widgets import CircuitComposer\n",
    "editorEx = CircuitComposer() \n",
    "editorEx\n",
    "##### Build your quantum circuit here using the composer widget."
   ]
  },
  {
   "cell_type": "code",
   "execution_count": null,
   "metadata": {},
   "outputs": [],
   "source": [
    "# You can also build your circuit programmatically using Qiskit code\n",
    "\n",
    "circuit = QuantumCircuit(3)\n",
    "\n",
    "# WRITE YOUR CODE BETWEEN THESE LINES - START\n",
    "theta = pi\n",
    "circuit.crx(theta/2,1,2)\n",
    "circuit.cx(0,1)\n",
    "circuit.crx(-theta/2,1,2)\n",
    "circuit.cx(0,1)\n",
    "circuit.crx(theta/2,0,2)\n",
    "\n",
    "\n",
    "\n",
    "# WRITE YOUR CODE BETWEEN THESE LINES - END"
   ]
  },
  {
   "cell_type": "code",
   "execution_count": 31,
   "metadata": {},
   "outputs": [
    {
     "data": {
      "image/png": "[encoded data removed]",
      "text/plain": [
       "<Figure size 387.597x204.68 with 1 Axes>"
      ]
     },
     "execution_count": 31,
     "metadata": {},
     "output_type": "execute_result"
    }
   ],
   "source": [
    "# Execute the circuit by qasm_simulator\n",
    "# qc = editorEx.circuit \n",
    "qc = circuit # Uncomment this line if you want to submit the circuit built using Qiskit code\n",
    "\n",
    "qc.draw(output='mpl')"
   ]
  },
  {
   "cell_type": "code",
   "execution_count": 36,
   "metadata": {},
   "outputs": [
    {
     "name": "stdout",
     "output_type": "stream",
     "text": [
      "Python 3.8.5\r\n"
     ]
    }
   ],
   "source": [
    "!python --version"
   ]
  },
  {
   "cell_type": "code",
   "execution_count": 34,
   "metadata": {},
   "outputs": [
    {
     "name": "stdout",
     "output_type": "stream",
     "text": [
      "Collecting git+https://github.com/qiskit-community/Quantum-Challenge-Grader.git\n",
      "  Cloning https://github.com/qiskit-community/Quantum-Challenge-Grader.git to /tmp/pip-req-build-54sd9cw4\n",
      "  Running command git clone -q https://github.com/qiskit-community/Quantum-Challenge-Grader.git /tmp/pip-req-build-54sd9cw4\n",
      "Collecting numpy\n",
      "  Using cached numpy-1.20.3-cp38-cp38-manylinux_2_12_x86_64.manylinux2010_x86_64.whl (15.4 MB)\n",
      "Collecting qiskit>=0.25\n",
      "  Using cached qiskit-0.26.2-py3-none-any.whl\n",
      "Collecting requests\n",
      "  Using cached requests-2.25.1-py2.py3-none-any.whl (61 kB)\n",
      "Collecting qiskit-aqua==0.9.1\n",
      "  Using cached qiskit_aqua-0.9.1-py3-none-any.whl (2.1 MB)\n",
      "Collecting qiskit-ibmq-provider==0.13.1\n",
      "  Using cached qiskit_ibmq_provider-0.13.1-py3-none-any.whl (228 kB)\n",
      "Collecting qiskit-terra==0.17.4\n",
      "  Using cached qiskit_terra-0.17.4-cp38-cp38-manylinux2010_x86_64.whl (6.1 MB)\n",
      "Collecting qiskit-ignis==0.6.0\n",
      "  Using cached qiskit_ignis-0.6.0-py3-none-any.whl (207 kB)\n",
      "Collecting qiskit-aer==0.8.2\n",
      "  Using cached qiskit_aer-0.8.2-cp38-cp38-manylinux2010_x86_64.whl (18.0 MB)\n",
      "Collecting pybind11>=2.6\n",
      "  Using cached pybind11-2.6.2-py2.py3-none-any.whl (191 kB)\n",
      "Collecting scipy>=1.0\n",
      "  Using cached scipy-1.6.3-cp38-cp38-manylinux1_x86_64.whl (27.2 MB)\n",
      "Collecting pandas<=1.2.3\n",
      "  Using cached pandas-1.2.3-cp38-cp38-manylinux1_x86_64.whl (9.7 MB)\n",
      "Collecting retworkx<=0.8.0,>=0.7.0\n",
      "  Using cached retworkx-0.8.0-cp38-cp38-manylinux2010_x86_64.whl (1.0 MB)\n",
      "Collecting dlx<=1.0.4\n",
      "  Using cached dlx-1.0.4-py3-none-any.whl\n",
      "Collecting psutil<=5.8.0,>=5\n",
      "  Using cached psutil-5.8.0-cp38-cp38-manylinux2010_x86_64.whl (296 kB)\n",
      "Collecting h5py<=3.1.0\n",
      "  Using cached h5py-3.1.0-cp38-cp38-manylinux1_x86_64.whl (4.4 MB)\n",
      "Collecting sympy<=1.7.1,>=1.3\n",
      "  Using cached sympy-1.7.1-py3-none-any.whl (5.9 MB)\n",
      "Collecting setuptools>=40.1.0\n",
      "  Using cached setuptools-56.2.0-py3-none-any.whl (785 kB)\n",
      "Collecting yfinance<=0.1.55\n",
      "  Using cached yfinance-0.1.55-py2.py3-none-any.whl\n",
      "Collecting numpy\n",
      "  Using cached numpy-1.20.1-cp38-cp38-manylinux2010_x86_64.whl (15.4 MB)\n",
      "Collecting quandl<=3.6.0\n",
      "  Using cached Quandl-3.6.0-py2.py3-none-any.whl (26 kB)\n",
      "Collecting docplex<=2.20.204\n",
      "  Using cached docplex-2.20.204-py3-none-any.whl\n",
      "Collecting scikit-learn<=0.24.1,>=0.20.0\n",
      "  Using cached scikit_learn-0.24.1-cp38-cp38-manylinux2010_x86_64.whl (24.9 MB)\n",
      "Collecting scipy>=1.0\n",
      "  Using cached scipy-1.6.1-cp38-cp38-manylinux1_x86_64.whl (27.3 MB)\n",
      "Collecting fastdtw<=0.3.4\n",
      "  Using cached fastdtw-0.3.4-cp38-cp38-linux_x86_64.whl\n",
      "Collecting urllib3>=1.21.1\n",
      "  Using cached urllib3-1.26.4-py2.py3-none-any.whl (153 kB)\n",
      "Collecting requests-ntlm>=1.1.0\n",
      "  Using cached requests_ntlm-1.1.0-py2.py3-none-any.whl (5.7 kB)\n",
      "Collecting nest-asyncio!=1.1.0,>=1.0.0\n",
      "  Using cached nest_asyncio-1.5.1-py3-none-any.whl (5.0 kB)\n",
      "Collecting python-dateutil>=2.8.0\n",
      "  Using cached python_dateutil-2.8.1-py2.py3-none-any.whl (227 kB)\n",
      "Collecting websockets>=8\n",
      "  Using cached websockets-9.0.2-cp38-cp38-manylinux2010_x86_64.whl (102 kB)\n",
      "Collecting dill>=0.3\n",
      "  Using cached dill-0.3.3-py2.py3-none-any.whl (81 kB)\n",
      "Collecting jsonschema>=2.6\n",
      "  Using cached jsonschema-3.2.0-py2.py3-none-any.whl (56 kB)\n",
      "Collecting ply>=3.10\n",
      "  Using cached ply-3.11-py2.py3-none-any.whl (49 kB)\n",
      "Collecting fastjsonschema>=2.10\n",
      "  Using cached fastjsonschema-2.15.1-py3-none-any.whl (21 kB)\n",
      "Collecting python-constraint>=1.4\n",
      "  Using cached python_constraint-1.4.0-py2.py3-none-any.whl\n",
      "Collecting six\n",
      "  Using cached six-1.16.0-py2.py3-none-any.whl (11 kB)\n",
      "Collecting attrs>=17.4.0\n",
      "  Using cached attrs-21.2.0-py2.py3-none-any.whl (53 kB)\n",
      "Collecting pyrsistent>=0.14.0\n",
      "  Using cached pyrsistent-0.17.3-cp38-cp38-linux_x86_64.whl\n",
      "Collecting pytz>=2017.3\n",
      "  Using cached pytz-2021.1-py2.py3-none-any.whl (510 kB)\n",
      "Collecting inflection>=0.3.1\n",
      "  Using cached inflection-0.5.1-py2.py3-none-any.whl (9.5 kB)\n",
      "Collecting more-itertools\n",
      "  Using cached more_itertools-8.7.0-py3-none-any.whl (48 kB)\n",
      "Collecting chardet<5,>=3.0.2\n",
      "  Using cached chardet-4.0.0-py2.py3-none-any.whl (178 kB)\n",
      "Collecting certifi>=2017.4.17\n",
      "  Using cached certifi-2020.12.5-py2.py3-none-any.whl (147 kB)\n",
      "Collecting idna<3,>=2.5\n",
      "  Using cached idna-2.10-py2.py3-none-any.whl (58 kB)\n",
      "Collecting ntlm-auth>=1.0.2\n",
      "  Using cached ntlm_auth-1.5.0-py2.py3-none-any.whl (29 kB)\n",
      "Collecting cryptography>=1.3\n",
      "  Using cached cryptography-3.4.7-cp36-abi3-manylinux2014_x86_64.whl (3.2 MB)\n",
      "Collecting cffi>=1.12\n",
      "  Using cached cffi-1.14.5-cp38-cp38-manylinux1_x86_64.whl (411 kB)\n",
      "Collecting pycparser\n",
      "  Using cached pycparser-2.20-py2.py3-none-any.whl (112 kB)\n",
      "Collecting threadpoolctl>=2.0.0\n",
      "  Using cached threadpoolctl-2.1.0-py3-none-any.whl (12 kB)\n",
      "Collecting joblib>=0.11\n",
      "  Using cached joblib-1.0.1-py3-none-any.whl (303 kB)\n",
      "Collecting mpmath>=0.19\n",
      "  Using cached mpmath-1.2.1-py3-none-any.whl (532 kB)\n",
      "Collecting multitasking>=0.0.7\n",
      "  Using cached multitasking-0.0.9-py3-none-any.whl\n",
      "Collecting lxml>=4.5.1\n",
      "  Using cached lxml-4.6.3-cp38-cp38-manylinux2014_x86_64.whl (6.8 MB)\n",
      "Building wheels for collected packages: qc-grader\n",
      "  Building wheel for qc-grader (setup.py) ... \u001b[?25ldone\n",
      "\u001b[?25h  Created wheel for qc-grader: filename=qc_grader-0.5.8-py3-none-any.whl size=22196 sha256=7418192121ce5b1f820509641f834ba605acc15b696adf4ec006710783f0b0a9\n",
      "  Stored in directory: /tmp/pip-ephem-wheel-cache-e1zgnthw/wheels/03/70/28/3caacd615248d56b9d2149a17c16c47b1c42b8bc08524ac0c6\n",
      "Successfully built qc-grader\n",
      "Installing collected packages: six, setuptools, pyrsistent, pycparser, numpy, mpmath, attrs, urllib3, sympy, scipy, retworkx, pytz, python-dateutil, python-constraint, psutil, ply, jsonschema, idna, fastjsonschema, dill, chardet, cffi, certifi, threadpoolctl, requests, qiskit-terra, pandas, ntlm-auth, multitasking, more-itertools, lxml, joblib, inflection, cryptography, yfinance, websockets, scikit-learn, requests-ntlm, quandl, qiskit-ignis, pybind11, nest-asyncio, h5py, fastdtw, docplex, dlx, qiskit-ibmq-provider, qiskit-aqua, qiskit-aer, qiskit, qc-grader\n",
      "\u001b[31mERROR: pip's dependency resolver does not currently take into account all the packages that are installed. This behaviour is the source of the following dependency conflicts.\n",
      "spyder 4.1.5 requires pyqt5<5.13; python_version >= \"3\", which is not installed.\n",
      "spyder 4.1.5 requires pyqtwebengine<5.13; python_version >= \"3\", which is not installed.\n",
      "conda 4.10.1 requires ruamel_yaml_conda>=0.11.14, which is not installed.\n",
      "spyder 4.1.5 requires jedi==0.17.1, but you have jedi 0.17.2 which is incompatible.\n",
      "spyder 4.1.5 requires parso==0.7.0, but you have parso 0.7.1 which is incompatible.\u001b[0m\n",
      "Successfully installed attrs-21.2.0 certifi-2020.12.5 cffi-1.14.5 chardet-4.0.0 cryptography-3.4.7 dill-0.3.3 dlx-1.0.4 docplex-2.20.204 fastdtw-0.3.4 fastjsonschema-2.15.1 h5py-3.1.0 idna-2.10 inflection-0.5.1 joblib-1.0.1 jsonschema-3.2.0 lxml-4.6.3 more-itertools-8.7.0 mpmath-1.2.1 multitasking-0.0.9 nest-asyncio-1.5.1 ntlm-auth-1.5.0 numpy-1.20.1 pandas-1.2.3 ply-3.11 psutil-5.8.0 pybind11-2.6.2 pycparser-2.20 pyrsistent-0.17.3 python-constraint-1.4.0 python-dateutil-2.8.1 pytz-2021.1 qc-grader-0.5.8 qiskit-0.26.2 qiskit-aer-0.8.2 qiskit-aqua-0.9.1 qiskit-ibmq-provider-0.13.1 qiskit-ignis-0.6.0 qiskit-terra-0.17.4 quandl-3.6.0 requests-2.25.1 requests-ntlm-1.1.0 retworkx-0.8.0 scikit-learn-0.24.1 scipy-1.6.1 setuptools-56.2.0 six-1.16.0 sympy-1.7.1 threadpoolctl-2.1.0 urllib3-1.26.4 websockets-9.0.2 yfinance-0.1.55\n"
     ]
    }
   ],
   "source": [
    "!pip install -I git+https://github.com/qiskit-community/Quantum-Challenge-Grader.git"
   ]
  },
  {
   "cell_type": "code",
   "execution_count": 35,
   "metadata": {},
   "outputs": [
    {
     "ename": "ImportError",
     "evalue": "cannot import name 'float_factorial' from 'scipy._lib._util' (/home/navaneeth/anaconda3/lib/python3.8/site-packages/scipy/_lib/_util.py)",
     "output_type": "error",
     "traceback": [
      "\u001b[0;31m---------------------------------------------------------------------------\u001b[0m",
      "\u001b[0;31mImportError\u001b[0m                               Traceback (most recent call last)",
      "\u001b[0;32m<ipython-input-35-b38db8bc498b>\u001b[0m in \u001b[0;36m<module>\u001b[0;34m\u001b[0m\n\u001b[1;32m      1\u001b[0m \u001b[0;31m# Check your answer using following code\u001b[0m\u001b[0;34m\u001b[0m\u001b[0;34m\u001b[0m\u001b[0;34m\u001b[0m\u001b[0m\n\u001b[0;32m----> 2\u001b[0;31m \u001b[0;32mfrom\u001b[0m \u001b[0mqc_grader\u001b[0m \u001b[0;32mimport\u001b[0m \u001b[0mgrade_ex1\u001b[0m\u001b[0;34m\u001b[0m\u001b[0;34m\u001b[0m\u001b[0m\n\u001b[0m\u001b[1;32m      3\u001b[0m \u001b[0mgrade_ex1\u001b[0m\u001b[0;34m(\u001b[0m\u001b[0mqc\u001b[0m\u001b[0;34m)\u001b[0m\u001b[0;34m\u001b[0m\u001b[0;34m\u001b[0m\u001b[0m\n",
      "\u001b[0;32m~/anaconda3/lib/python3.8/site-packages/qc_grader/__init__.py\u001b[0m in \u001b[0;36m<module>\u001b[0;34m\u001b[0m\n\u001b[1;32m     11\u001b[0m \u001b[0m__version__\u001b[0m \u001b[0;34m=\u001b[0m \u001b[0;34m'0.5.8'\u001b[0m\u001b[0;34m\u001b[0m\u001b[0;34m\u001b[0m\u001b[0m\n\u001b[1;32m     12\u001b[0m \u001b[0;34m\u001b[0m\u001b[0m\n\u001b[0;32m---> 13\u001b[0;31m \u001b[0;32mfrom\u001b[0m \u001b[0mqc_grader\u001b[0m\u001b[0;34m.\u001b[0m\u001b[0mexercises\u001b[0m\u001b[0;34m.\u001b[0m\u001b[0miqc_2021\u001b[0m \u001b[0;32mimport\u001b[0m \u001b[0;34m*\u001b[0m\u001b[0;34m\u001b[0m\u001b[0;34m\u001b[0m\u001b[0m\n\u001b[0m\u001b[1;32m     14\u001b[0m \u001b[0;34m\u001b[0m\u001b[0m\n",
      "\u001b[0;32m~/anaconda3/lib/python3.8/site-packages/qc_grader/exercises/iqc_2021/__init__.py\u001b[0m in \u001b[0;36m<module>\u001b[0;34m\u001b[0m\n\u001b[1;32m      9\u001b[0m \u001b[0;32mfrom\u001b[0m \u001b[0;34m.\u001b[0m\u001b[0mexercise4\u001b[0m \u001b[0;32mimport\u001b[0m \u001b[0mgrade_ex4\u001b[0m\u001b[0;34m,\u001b[0m \u001b[0msubmit_ex4\u001b[0m\u001b[0;34m\u001b[0m\u001b[0;34m\u001b[0m\u001b[0m\n\u001b[1;32m     10\u001b[0m \u001b[0;34m\u001b[0m\u001b[0m\n\u001b[0;32m---> 11\u001b[0;31m \u001b[0;32mfrom\u001b[0m \u001b[0;34m.\u001b[0m\u001b[0mexercise5\u001b[0m \u001b[0;32mimport\u001b[0m \u001b[0mgrade_ex5\u001b[0m\u001b[0;34m,\u001b[0m \u001b[0msubmit_ex5\u001b[0m\u001b[0;34m\u001b[0m\u001b[0;34m\u001b[0m\u001b[0m\n\u001b[0m",
      "\u001b[0;32m~/anaconda3/lib/python3.8/site-packages/qc_grader/exercises/iqc_2021/exercise5.py\u001b[0m in \u001b[0;36m<module>\u001b[0;34m\u001b[0m\n\u001b[1;32m      2\u001b[0m \u001b[0;34m\u001b[0m\u001b[0m\n\u001b[1;32m      3\u001b[0m \u001b[0;32mfrom\u001b[0m \u001b[0mqiskit\u001b[0m \u001b[0;32mimport\u001b[0m \u001b[0mQuantumCircuit\u001b[0m\u001b[0;34m\u001b[0m\u001b[0;34m\u001b[0m\u001b[0m\n\u001b[0;32m----> 4\u001b[0;31m \u001b[0;32mfrom\u001b[0m \u001b[0mqiskit\u001b[0m\u001b[0;34m.\u001b[0m\u001b[0malgorithms\u001b[0m\u001b[0;34m.\u001b[0m\u001b[0mminimum_eigen_solvers\u001b[0m\u001b[0;34m.\u001b[0m\u001b[0mvqe\u001b[0m \u001b[0;32mimport\u001b[0m \u001b[0mVQEResult\u001b[0m\u001b[0;34m\u001b[0m\u001b[0;34m\u001b[0m\u001b[0m\n\u001b[0m\u001b[1;32m      5\u001b[0m \u001b[0;32mfrom\u001b[0m \u001b[0mqiskit\u001b[0m\u001b[0;34m.\u001b[0m\u001b[0mopflow\u001b[0m\u001b[0;34m.\u001b[0m\u001b[0mprimitive_ops\u001b[0m\u001b[0;34m.\u001b[0m\u001b[0mpauli_sum_op\u001b[0m \u001b[0;32mimport\u001b[0m \u001b[0mPauliSumOp\u001b[0m\u001b[0;34m\u001b[0m\u001b[0;34m\u001b[0m\u001b[0m\n\u001b[1;32m      6\u001b[0m \u001b[0;34m\u001b[0m\u001b[0m\n",
      "\u001b[0;32m~/anaconda3/lib/python3.8/site-packages/qiskit/algorithms/__init__.py\u001b[0m in \u001b[0;36m<module>\u001b[0;34m\u001b[0m\n\u001b[1;32m    165\u001b[0m \u001b[0;32mfrom\u001b[0m \u001b[0;34m.\u001b[0m\u001b[0mvariational_algorithm\u001b[0m \u001b[0;32mimport\u001b[0m \u001b[0mVariationalAlgorithm\u001b[0m\u001b[0;34m,\u001b[0m \u001b[0mVariationalResult\u001b[0m\u001b[0;34m\u001b[0m\u001b[0;34m\u001b[0m\u001b[0m\n\u001b[1;32m    166\u001b[0m \u001b[0;32mfrom\u001b[0m \u001b[0;34m.\u001b[0m\u001b[0mamplitude_amplifiers\u001b[0m \u001b[0;32mimport\u001b[0m \u001b[0mGrover\u001b[0m\u001b[0;34m,\u001b[0m \u001b[0mGroverResult\u001b[0m\u001b[0;34m,\u001b[0m \u001b[0mAmplificationProblem\u001b[0m\u001b[0;34m\u001b[0m\u001b[0;34m\u001b[0m\u001b[0m\n\u001b[0;32m--> 167\u001b[0;31m from .amplitude_estimators import (\n\u001b[0m\u001b[1;32m    168\u001b[0m     \u001b[0mAmplitudeEstimator\u001b[0m\u001b[0;34m,\u001b[0m \u001b[0mAmplitudeEstimatorResult\u001b[0m\u001b[0;34m,\u001b[0m\u001b[0;34m\u001b[0m\u001b[0;34m\u001b[0m\u001b[0m\n\u001b[1;32m    169\u001b[0m     \u001b[0mAmplitudeEstimation\u001b[0m\u001b[0;34m,\u001b[0m \u001b[0mAmplitudeEstimationResult\u001b[0m\u001b[0;34m,\u001b[0m\u001b[0;34m\u001b[0m\u001b[0;34m\u001b[0m\u001b[0m\n",
      "\u001b[0;32m~/anaconda3/lib/python3.8/site-packages/qiskit/algorithms/amplitude_estimators/__init__.py\u001b[0m in \u001b[0;36m<module>\u001b[0;34m\u001b[0m\n\u001b[1;32m     14\u001b[0m \u001b[0;34m\u001b[0m\u001b[0m\n\u001b[1;32m     15\u001b[0m \u001b[0;32mfrom\u001b[0m \u001b[0;34m.\u001b[0m\u001b[0mamplitude_estimator\u001b[0m \u001b[0;32mimport\u001b[0m \u001b[0mAmplitudeEstimator\u001b[0m\u001b[0;34m,\u001b[0m \u001b[0mAmplitudeEstimatorResult\u001b[0m\u001b[0;34m\u001b[0m\u001b[0;34m\u001b[0m\u001b[0m\n\u001b[0;32m---> 16\u001b[0;31m \u001b[0;32mfrom\u001b[0m \u001b[0;34m.\u001b[0m\u001b[0mae\u001b[0m \u001b[0;32mimport\u001b[0m \u001b[0mAmplitudeEstimation\u001b[0m\u001b[0;34m,\u001b[0m \u001b[0mAmplitudeEstimationResult\u001b[0m\u001b[0;34m\u001b[0m\u001b[0;34m\u001b[0m\u001b[0m\n\u001b[0m\u001b[1;32m     17\u001b[0m \u001b[0;32mfrom\u001b[0m \u001b[0;34m.\u001b[0m\u001b[0mfae\u001b[0m \u001b[0;32mimport\u001b[0m \u001b[0mFasterAmplitudeEstimation\u001b[0m\u001b[0;34m,\u001b[0m \u001b[0mFasterAmplitudeEstimationResult\u001b[0m\u001b[0;34m\u001b[0m\u001b[0;34m\u001b[0m\u001b[0m\n\u001b[1;32m     18\u001b[0m \u001b[0;32mfrom\u001b[0m \u001b[0;34m.\u001b[0m\u001b[0miae\u001b[0m \u001b[0;32mimport\u001b[0m \u001b[0mIterativeAmplitudeEstimation\u001b[0m\u001b[0;34m,\u001b[0m \u001b[0mIterativeAmplitudeEstimationResult\u001b[0m\u001b[0;34m\u001b[0m\u001b[0;34m\u001b[0m\u001b[0m\n",
      "\u001b[0;32m~/anaconda3/lib/python3.8/site-packages/qiskit/algorithms/amplitude_estimators/ae.py\u001b[0m in \u001b[0;36m<module>\u001b[0;34m\u001b[0m\n\u001b[1;32m     16\u001b[0m \u001b[0;32mfrom\u001b[0m \u001b[0mcollections\u001b[0m \u001b[0;32mimport\u001b[0m \u001b[0mOrderedDict\u001b[0m\u001b[0;34m\u001b[0m\u001b[0;34m\u001b[0m\u001b[0m\n\u001b[1;32m     17\u001b[0m \u001b[0;32mimport\u001b[0m \u001b[0mnumpy\u001b[0m \u001b[0;32mas\u001b[0m \u001b[0mnp\u001b[0m\u001b[0;34m\u001b[0m\u001b[0;34m\u001b[0m\u001b[0m\n\u001b[0;32m---> 18\u001b[0;31m \u001b[0;32mfrom\u001b[0m \u001b[0mscipy\u001b[0m\u001b[0;34m.\u001b[0m\u001b[0mstats\u001b[0m \u001b[0;32mimport\u001b[0m \u001b[0mchi2\u001b[0m\u001b[0;34m,\u001b[0m \u001b[0mnorm\u001b[0m\u001b[0;34m\u001b[0m\u001b[0;34m\u001b[0m\u001b[0m\n\u001b[0m\u001b[1;32m     19\u001b[0m \u001b[0;32mfrom\u001b[0m \u001b[0mscipy\u001b[0m\u001b[0;34m.\u001b[0m\u001b[0moptimize\u001b[0m \u001b[0;32mimport\u001b[0m \u001b[0mbisect\u001b[0m\u001b[0;34m\u001b[0m\u001b[0;34m\u001b[0m\u001b[0m\n\u001b[1;32m     20\u001b[0m \u001b[0;34m\u001b[0m\u001b[0m\n",
      "\u001b[0;32m~/anaconda3/lib/python3.8/site-packages/scipy/stats/__init__.py\u001b[0m in \u001b[0;36m<module>\u001b[0;34m\u001b[0m\n\u001b[1;32m    389\u001b[0m \u001b[0;34m\u001b[0m\u001b[0m\n\u001b[1;32m    390\u001b[0m \"\"\"\n\u001b[0;32m--> 391\u001b[0;31m \u001b[0;32mfrom\u001b[0m \u001b[0;34m.\u001b[0m\u001b[0mstats\u001b[0m \u001b[0;32mimport\u001b[0m \u001b[0;34m*\u001b[0m\u001b[0;34m\u001b[0m\u001b[0;34m\u001b[0m\u001b[0m\n\u001b[0m\u001b[1;32m    392\u001b[0m \u001b[0;32mfrom\u001b[0m \u001b[0;34m.\u001b[0m\u001b[0mdistributions\u001b[0m \u001b[0;32mimport\u001b[0m \u001b[0;34m*\u001b[0m\u001b[0;34m\u001b[0m\u001b[0;34m\u001b[0m\u001b[0m\n\u001b[1;32m    393\u001b[0m \u001b[0;32mfrom\u001b[0m \u001b[0;34m.\u001b[0m\u001b[0mmorestats\u001b[0m \u001b[0;32mimport\u001b[0m \u001b[0;34m*\u001b[0m\u001b[0;34m\u001b[0m\u001b[0;34m\u001b[0m\u001b[0m\n",
      "\u001b[0;32m~/anaconda3/lib/python3.8/site-packages/scipy/stats/stats.py\u001b[0m in \u001b[0;36m<module>\u001b[0;34m\u001b[0m\n\u001b[1;32m    174\u001b[0m \u001b[0;32mfrom\u001b[0m \u001b[0mscipy\u001b[0m\u001b[0;34m.\u001b[0m\u001b[0mspatial\u001b[0m\u001b[0;34m.\u001b[0m\u001b[0mdistance\u001b[0m \u001b[0;32mimport\u001b[0m \u001b[0mcdist\u001b[0m\u001b[0;34m\u001b[0m\u001b[0;34m\u001b[0m\u001b[0m\n\u001b[1;32m    175\u001b[0m \u001b[0;32mfrom\u001b[0m \u001b[0mscipy\u001b[0m\u001b[0;34m.\u001b[0m\u001b[0mndimage\u001b[0m \u001b[0;32mimport\u001b[0m \u001b[0mmeasurements\u001b[0m\u001b[0;34m\u001b[0m\u001b[0;34m\u001b[0m\u001b[0m\n\u001b[0;32m--> 176\u001b[0;31m from scipy._lib._util import (_lazywhere, check_random_state, MapWrapper,\n\u001b[0m\u001b[1;32m    177\u001b[0m                               rng_integers, float_factorial)\n\u001b[1;32m    178\u001b[0m \u001b[0;32mimport\u001b[0m \u001b[0mscipy\u001b[0m\u001b[0;34m.\u001b[0m\u001b[0mspecial\u001b[0m \u001b[0;32mas\u001b[0m \u001b[0mspecial\u001b[0m\u001b[0;34m\u001b[0m\u001b[0;34m\u001b[0m\u001b[0m\n",
      "\u001b[0;31mImportError\u001b[0m: cannot import name 'float_factorial' from 'scipy._lib._util' (/home/navaneeth/anaconda3/lib/python3.8/site-packages/scipy/_lib/_util.py)"
     ]
    }
   ],
   "source": [
    "# Check your answer using following code\n",
    "from qc_grader import grade_ex1\n",
    "grade_ex1(qc)"
   ]
  },
  {
   "cell_type": "code",
   "execution_count": null,
   "metadata": {},
   "outputs": [],
   "source": [
    "# Submit your answer. You can re-submit at any time.\n",
    "from qc_grader import submit_ex1\n",
    "submit_ex1(qc)"
   ]
  },
  {
   "cell_type": "markdown",
   "metadata": {},
   "source": [
    "## Additional information\n",
    "\n",
    "**Created by:** Marcel Pfaffhauser, Brahmani Thota, Junye Huang\n",
    "\n",
    "**Version:** 1.0.0"
   ]
  }
 ],
 "metadata": {
  "kernelspec": {
   "display_name": "Python 3",
   "language": "python",
   "name": "python3"
  },
  "language_info": {
   "codemirror_mode": {
    "name": "ipython",
    "version": 3
   },
   "file_extension": ".py",
   "mimetype": "text/x-python",
   "name": "python",
   "nbconvert_exporter": "python",
   "pygments_lexer": "ipython3",
   "version": "3.8.5"
  },
  "widgets": {
   "application/vnd.jupyter.widget-state+json": {
    "state": {
     "005ed033e79e4c91906ce462f1d08f39": {
      "model_module": "@quantum/ibm-q-lab-widgets",
      "model_module_version": "^1.0.3",
      "model_name": "CircuitComposerModel",
      "state": {
       "_model_module_version": "^1.0.3",
       "_view_module_version": "^1.0.3",
       "circuit": "\"OPENQASM 2.0;\\ninclude \\\"qelib1.inc\\\";\\n\\nqreg q[1];\\n\\nrz(pi/2) q[0];\\nsx q[0];\\nrz(pi/2) q[0];\"",
       "editable": true,
       "layout": "IPY_MODEL_b645d55afc6649dd807e38ab30da764b",
       "qiskit_code_cell_index": -1
      }
     },
     "00687b8b531246e18e62ef79ad5c6970": {
      "model_module": "@jupyter-widgets/controls",
      "model_module_version": "1.5.0",
      "model_name": "DescriptionStyleModel",
      "state": {
       "description_width": ""
      }
     },
     "006a465b0969400c8b27c83965d6e5fd": {
      "model_module": "@jupyter-widgets/controls",
      "model_module_version": "1.5.0",
      "model_name": "DescriptionStyleModel",
      "state": {
       "description_width": ""
      }
     },
     "00a937f8db7d46bf8d5069e36be30898": {
      "model_module": "@jupyter-widgets/controls",
      "model_module_version": "1.5.0",
      "model_name": "HTMLModel",
      "state": {
       "layout": "IPY_MODEL_2c06893d8e4d4ab8bddea3ac23076c37",
       "style": "IPY_MODEL_c88cdfec06954233bc054aaf4cba9576",
       "value": "<p style='font-family: IBM Plex Sans, Arial, Helvetica, sans-serif; font-size: 20px; font-weight: medium;'>Circuit Properties</p>"
      }
     },
     "00f963df94fc41a4a33664cc02f98546": {
      "model_module": "@jupyter-widgets/controls",
      "model_module_version": "1.5.0",
      "model_name": "DescriptionStyleModel",
      "state": {
       "description_width": ""
      }
     },
     "00fec089e9a247ee81746cd2e8672b95": {
      "model_module": "@jupyter-widgets/controls",
      "model_module_version": "1.5.0",
      "model_name": "DescriptionStyleModel",
      "state": {
       "description_width": ""
      }
     },
     "0110afce174844c9b3cadfb724091721": {
      "model_module": "@quantum/ibm-q-lab-widgets",
      "model_module_version": "^1.0.3",
      "model_name": "CircuitComposerModel",
      "state": {
       "_model_module_version": "^1.0.3",
       "_view_module_version": "^1.0.3",
       "circuit": "\"OPENQASM 2.0;\\ninclude \\\"qelib1.inc\\\";\\n\\nqreg q[3];\\ncreg c[3];\\n\\n\"",
       "editable": true,
       "layout": "IPY_MODEL_4f5a6b0a58964ec39418de154fe26573",
       "qiskit_code_cell_index": -1
      }
     },
     "01c879086b934219b29d792417520512": {
      "model_module": "@jupyter-widgets/base",
      "model_module_version": "1.2.0",
      "model_name": "LayoutModel",
      "state": {
       "width": "145px"
      }
     },
     "01ec1d1813484c968dbcca4b508b99e4": {
      "model_module": "@jupyter-widgets/base",
      "model_module_version": "1.2.0",
      "model_name": "LayoutModel",
      "state": {
       "grid_template_areas": "\n                                       \". . . . right \"\n                                        ",
       "grid_template_columns": "20% 20% 20% 20% 20%",
       "width": "100%"
      }
     },
     "020d9c6ddd9a4f4eaa95e3627f4f211e": {
      "model_module": "@jupyter-widgets/base",
      "model_module_version": "1.2.0",
      "model_name": "LayoutModel",
      "state": {}
     },
     "02aee6b7777c41c5989acace1c0973bd": {
      "model_module": "@jupyter-widgets/base",
      "model_module_version": "1.2.0",
      "model_name": "LayoutModel",
      "state": {
       "width": "70px"
      }
     },
     "030a012c6ecd4829857f874f5abcae9f": {
      "model_module": "@jupyter-widgets/base",
      "model_module_version": "1.2.0",
      "model_name": "LayoutModel",
      "state": {
       "grid_area": "right",
       "padding": "0px 0px 0px 0px",
       "width": "70px"
      }
     },
     "0345bc4b7b3747dab426bb2d459c2cf5": {
      "model_module": "@jupyter-widgets/controls",
      "model_module_version": "1.5.0",
      "model_name": "HBoxModel",
      "state": {
       "children": [
        "IPY_MODEL_54efbfd8da3447b3b19543ec279e915b",
        "IPY_MODEL_2cc38e474f8b4e2d92366b1db0afbdc0",
        "IPY_MODEL_e58ce75f933d4be3bfcac31727c0e302",
        "IPY_MODEL_96d5c6d26c994fc19a437928578a9b8d",
        "IPY_MODEL_4b884917539c49feaf716e2f58ae1bb3"
       ],
       "layout": "IPY_MODEL_e5bc9438b0974491a248e55d6fa86515"
      }
     },
     "058c0ab1f10246ce985c0d6923f85ea6": {
      "model_module": "@jupyter-widgets/base",
      "model_module_version": "1.2.0",
      "model_name": "LayoutModel",
      "state": {
       "grid_template_areas": "\n                                       \". . . . right \"\n                                        ",
       "grid_template_columns": "20% 20% 20% 20% 20%",
       "width": "100%"
      }
     },
     "058e7134ba8d42448de67dec87d4f5f5": {
      "model_module": "@quantum/ibm-q-lab-widgets",
      "model_module_version": "^1.0.3",
      "model_name": "CircuitComposerModel",
      "state": {
       "_model_module_version": "^1.0.3",
       "_view_module_version": "^1.0.3",
       "circuit": "\"OPENQASM 2.0;\\ninclude \\\"qelib1.inc\\\";\\n\\nqreg q[3];\\ncreg c[3];\\n\\ncx q[0],q[1];\\ncx q[1],q[0];\\ncx q[0],q[1];\\nrz(pi) q[2];\"",
       "editable": true,
       "layout": "IPY_MODEL_e61dea173c9a4870a47e6a93f3be63b9",
       "qiskit_code_cell_index": 58
      }
     },
     "0631a355ddda42ef83569e488403b044": {
      "model_module": "@jupyter-widgets/controls",
      "model_module_version": "1.5.0",
      "model_name": "ButtonStyleModel",
      "state": {}
     },
     "06322bc8616649e49340f1d1676124ab": {
      "model_module": "@quantum/ibm-q-lab-widgets",
      "model_module_version": "^1.0.3",
      "model_name": "CircuitComposerModel",
      "state": {
       "_model_module_version": "^1.0.3",
       "_view_module_version": "^1.0.3",
       "circuit": "\"OPENQASM 2.0;\\ninclude \\\"qelib1.inc\\\";\\n\\nqreg q[3];\\ncreg c[1];\\n\\ncx q[1],q[2];\\ncx q[0],q[2];\\nccx q[0],q[1],q[2];\\nmeasure q[2] -> c[0];\\nx q[2];\\nmeasure q[2] -> c[0];\"",
       "editable": true,
       "layout": "IPY_MODEL_4f15a5d259ce4062898bdae92f1e6edd",
       "qiskit_code_cell_index": -1
      }
     },
     "06e37e6a43f14b90a29ed82464f87774": {
      "model_module": "@jupyter-widgets/controls",
      "model_module_version": "1.5.0",
      "model_name": "HTMLModel",
      "state": {
       "layout": "IPY_MODEL_e80410c2c9264536aef853f7f4964a35",
       "style": "IPY_MODEL_78c05694575a4c6d843467f766cb5ceb",
       "value": "<h5>Backend</h5>"
      }
     },
     "06e4de917d1b4c46bc108eacc4daee76": {
      "model_module": "@quantum/ibm-q-lab-widgets",
      "model_module_version": "^1.0.3",
      "model_name": "CircuitComposerModel",
      "state": {
       "_model_module_version": "^1.0.3",
       "_view_module_version": "^1.0.3",
       "circuit": "\"OPENQASM 2.0;\\ninclude \\\"qelib1.inc\\\";\\n\\nqreg q[3];\\ncreg c[3];\\n\\n\"",
       "editable": true,
       "layout": "IPY_MODEL_11ede97ae89842c6b1732fd28f999ed8",
       "qiskit_code_cell_index": -1
      }
     },
     "070fe16ae3524f3e9e9fbaaf9e43e662": {
      "model_module": "@quantum/ibm-q-lab-widgets",
      "model_module_version": "^1.0.3",
      "model_name": "CircuitComposerModel",
      "state": {
       "_model_module_version": "^1.0.3",
       "_view_module_version": "^1.0.3",
       "circuit": "\"OPENQASM 2.0;\\ninclude \\\"qelib1.inc\\\";\\n\\nqreg q[3];\\ncreg c[3];\\n\\nswap q[0],q[1];\\nrz(pi/2) q[2];\"",
       "editable": true,
       "layout": "IPY_MODEL_74519cce23de44ca8ee162293804ce2c",
       "qiskit_code_cell_index": 54
      }
     },
     "071b8b592b2b4ba987a324d459eeb994": {
      "model_module": "@jupyter-widgets/base",
      "model_module_version": "1.2.0",
      "model_name": "LayoutModel",
      "state": {
       "margin": "0px 0px 10px 0px"
      }
     },
     "072cd4a0c48b4b72a95c77b837b43184": {
      "model_module": "@jupyter-widgets/controls",
      "model_module_version": "1.5.0",
      "model_name": "HTMLModel",
      "state": {
       "layout": "IPY_MODEL_eeafb44abbab42468f144dc0c926d287",
       "style": "IPY_MODEL_459cc2edaabd4cb3bb3d5fdf8f473254",
       "value": "<h5>Queue</h5>"
      }
     },
     "07fd227e7fcf4dd1860ffb8ebd34b4d2": {
      "model_module": "@jupyter-widgets/controls",
      "model_module_version": "1.5.0",
      "model_name": "DescriptionStyleModel",
      "state": {
       "description_width": ""
      }
     },
     "085e7fb517c245eaa3d75b078c0e1751": {
      "model_module": "@quantum/ibm-q-lab-widgets",
      "model_module_version": "^1.0.3",
      "model_name": "CircuitComposerModel",
      "state": {
       "_model_module_version": "^1.0.3",
       "_view_module_version": "^1.0.3",
       "circuit": "\"OPENQASM 2.0;\\ninclude \\\"qelib1.inc\\\";\\n\\nqreg q[3];\\ncreg c[3];\\n\\n\"",
       "editable": true,
       "layout": "IPY_MODEL_d396a016b63543358b93758839379b62",
       "qiskit_code_cell_index": -1
      }
     },
     "091123743b774ed39186e57d7a6db20a": {
      "model_module": "@jupyter-widgets/base",
      "model_module_version": "1.2.0",
      "model_name": "LayoutModel",
      "state": {}
     },
     "098146a76288479d8f34020f737f6605": {
      "model_module": "@jupyter-widgets/base",
      "model_module_version": "1.2.0",
      "model_name": "LayoutModel",
      "state": {}
     },
     "09b693d891784d9c99a637ec1f37b4b8": {
      "model_module": "@quantum/ibm-q-lab-widgets",
      "model_module_version": "^1.0.3",
      "model_name": "CircuitComposerModel",
      "state": {
       "_model_module_version": "^1.0.3",
       "_view_module_version": "^1.0.3",
       "circuit": "\"OPENQASM 2.0;\\ninclude \\\"qelib1.inc\\\";\\n\\nqreg q[3];\\ncreg c[3];\\n\\n\"",
       "editable": true,
       "layout": "IPY_MODEL_7b8426cc9f7244c98a8c22eca9c9eb18",
       "qiskit_code_cell_index": -1
      }
     },
     "09df53fcfd534ea3ac0ac8d3eba69d85": {
      "model_module": "@jupyter-widgets/controls",
      "model_module_version": "1.5.0",
      "model_name": "DescriptionStyleModel",
      "state": {
       "description_width": ""
      }
     },
     "09e29575306f418b92d9a2c28662e772": {
      "model_module": "@jupyter-widgets/base",
      "model_module_version": "1.2.0",
      "model_name": "LayoutModel",
      "state": {
       "grid_area": "right",
       "padding": "0px 0px 0px 0px",
       "width": "70px"
      }
     },
     "0a0e1409d8fc4c22be026b67930a0cd4": {
      "model_module": "@jupyter-widgets/controls",
      "model_module_version": "1.5.0",
      "model_name": "HTMLModel",
      "state": {
       "layout": "IPY_MODEL_57e0ccc3cf694508933fdb6e66835851",
       "style": "IPY_MODEL_9ed9590323aa46688e2ba31f633e3f78",
       "value": "<h5>Message</h5>"
      }
     },
     "0ab79d11ac1f44dfbbf2bafdac27f926": {
      "model_module": "@jupyter-widgets/controls",
      "model_module_version": "1.5.0",
      "model_name": "HBoxModel",
      "state": {
       "children": [
        "IPY_MODEL_4700a02cfb7b4ac39225242433cd7711",
        "IPY_MODEL_25192d15e13a4389a20ff624c2705f55",
        "IPY_MODEL_16ae250874e04ab4b4bd906333443214",
        "IPY_MODEL_b445f0e465864ce282896f13ec86a2b1",
        "IPY_MODEL_1c050fce70034ed7bab1bc571055a895"
       ],
       "layout": "IPY_MODEL_8b3a8e1e875840d1b5f26a70860cfb00"
      }
     },
     "0ac17f4552964785bbd1e7a39d02c9aa": {
      "model_module": "@quantum/ibm-q-lab-widgets",
      "model_module_version": "^1.0.3",
      "model_name": "CircuitComposerModel",
      "state": {
       "_model_module_version": "^1.0.3",
       "_view_module_version": "^1.0.3",
       "circuit": "\"OPENQASM 2.0;\\ninclude \\\"qelib1.inc\\\";\\n\\nqreg q[3];\\ncreg c[1];\\n\\ncx q[1],q[2];\\ncx q[0],q[2];\\nccx q[0],q[1],q[2];\\nmeasure q[2] -> c[0];\"",
       "editable": true,
       "layout": "IPY_MODEL_f0d64f6e58414d33b497548bf8504e8a",
       "qiskit_code_cell_index": -1
      }
     },
     "0bea43da5d56445a88974e61b66c52be": {
      "model_module": "@jupyter-widgets/controls",
      "model_module_version": "1.5.0",
      "model_name": "DescriptionStyleModel",
      "state": {
       "description_width": ""
      }
     },
     "0c2790117be5423b9b19274d3a3c386a": {
      "model_module": "@jupyter-widgets/base",
      "model_module_version": "1.2.0",
      "model_name": "LayoutModel",
      "state": {}
     },
     "0c6085a10676474d9df1193395266c46": {
      "model_module": "@jupyter-widgets/base",
      "model_module_version": "1.2.0",
      "model_name": "LayoutModel",
      "state": {}
     },
     "0d0ccd77aa0a49d68bb466838a3f5214": {
      "model_module": "@jupyter-widgets/base",
      "model_module_version": "1.2.0",
      "model_name": "LayoutModel",
      "state": {
       "grid_template_areas": "\n                                       \". . . . right \"\n                                        ",
       "grid_template_columns": "20% 20% 20% 20% 20%",
       "width": "100%"
      }
     },
     "0d31fd6aff07413bbc087ef5b2b80573": {
      "model_module": "@jupyter-widgets/base",
      "model_module_version": "1.2.0",
      "model_name": "LayoutModel",
      "state": {
       "width": "95px"
      }
     },
     "0d95e1d0d2f648b98d76d1b28dfb392e": {
      "model_module": "@jupyter-widgets/controls",
      "model_module_version": "1.5.0",
      "model_name": "GridBoxModel",
      "state": {
       "children": [
        "IPY_MODEL_b09c4aebd3c04d00ba6c15ccca3c0bf5"
       ],
       "layout": "IPY_MODEL_3260ea3536cd441184144a0e2ec4488a"
      }
     },
     "0da50320e5bd46b3aa7042daf06cab2b": {
      "model_module": "@jupyter-widgets/base",
      "model_module_version": "1.2.0",
      "model_name": "LayoutModel",
      "state": {
       "margin": "0px 0px 0px 37px",
       "width": "600px"
      }
     },
     "0e4467ae7db249a1a33c46d2b9b495bc": {
      "model_module": "@quantum/ibm-q-lab-widgets",
      "model_module_version": "^1.0.3",
      "model_name": "CircuitComposerModel",
      "state": {
       "_model_module_version": "^1.0.3",
       "_view_module_version": "^1.0.3",
       "circuit": "\"OPENQASM 2.0;\\ninclude \\\"qelib1.inc\\\";\\n\\nqreg q29[3];\\ncreg c2[3];\\n\\ncx q29[1],q29[2];\\ncx q29[0],q29[2];\\nccx q29[0],q29[1],q29[2];\\nmeasure q29[2] -> c2[0];\"",
       "editable": true,
       "layout": "IPY_MODEL_3fb4a8913a5049b09d3d417371eccb3c",
       "qiskit_code_cell_index": -1
      }
     },
     "0fdff5dfd0fa447480de43a89a8d0f6a": {
      "model_module": "@jupyter-widgets/base",
      "model_module_version": "1.2.0",
      "model_name": "LayoutModel",
      "state": {
       "grid_area": "right",
       "padding": "0px 0px 0px 0px",
       "width": "70px"
      }
     },
     "0ff22eb9feaf477bbc7a94460d34f8ff": {
      "model_module": "@jupyter-widgets/base",
      "model_module_version": "1.2.0",
      "model_name": "LayoutModel",
      "state": {}
     },
     "115e321a54064c15af84960de9afcd39": {
      "model_module": "@jupyter-widgets/controls",
      "model_module_version": "1.5.0",
      "model_name": "HTMLModel",
      "state": {
       "layout": "IPY_MODEL_18b47e3100be465abf040e6e432af411",
       "style": "IPY_MODEL_f656da7b0e564e1eb512c2058b0bdc65",
       "value": "<h5>Queue</h5>"
      }
     },
     "118b63139f6a449e91afa426c715f9ca": {
      "model_module": "@jupyter-widgets/controls",
      "model_module_version": "1.5.0",
      "model_name": "DescriptionStyleModel",
      "state": {
       "description_width": ""
      }
     },
     "11ede97ae89842c6b1732fd28f999ed8": {
      "model_module": "@jupyter-widgets/base",
      "model_module_version": "1.2.0",
      "model_name": "LayoutModel",
      "state": {}
     },
     "126994084b7f4f81bdff9facbcd3bddb": {
      "model_module": "@quantum/ibm-q-lab-widgets",
      "model_module_version": "^1.0.3",
      "model_name": "CircuitComposerModel",
      "state": {
       "_model_module_version": "^1.0.3",
       "_view_module_version": "^1.0.3",
       "circuit": "\"OPENQASM 2.0;\\ninclude \\\"qelib1.inc\\\";\\n\\nqreg q2[3];\\ncreg c2[3];\\n\\ncx q2[1],q2[2];\\ncx q2[0],q2[2];\\nccx q2[0],q2[1],q2[2];\\nmeasure q2[2] -> c2[0];\\nx q2[2];\\nmeasure q2[2] -> c2[0];\"",
       "editable": true,
       "layout": "IPY_MODEL_4c5850b093234f35bf5afe995313fe91",
       "qiskit_code_cell_index": -1
      }
     },
     "131291ce9e3f45fc82895be047bf656e": {
      "model_module": "@quantum/ibm-q-lab-widgets",
      "model_module_version": "^1.0.3",
      "model_name": "CircuitComposerModel",
      "state": {
       "_model_module_version": "^1.0.3",
       "_view_module_version": "^1.0.3",
       "circuit": "\"OPENQASM 2.0;\\ninclude \\\"qelib1.inc\\\";\\n\\nqreg q[3];\\ncreg c[3];\\n\\n\"",
       "editable": true,
       "layout": "IPY_MODEL_ece0b69da4ef42e89e2399b90ef89a51",
       "qiskit_code_cell_index": -1
      }
     },
     "148d5853e7934d2eaa27c5607540d375": {
      "model_module": "@quantum/ibm-q-lab-widgets",
      "model_module_version": "^1.0.3",
      "model_name": "CircuitComposerModel",
      "state": {
       "_model_module_version": "^1.0.3",
       "_view_module_version": "^1.0.3",
       "circuit": "\"OPENQASM 2.0;\\ninclude \\\"qelib1.inc\\\";\\n\\nqreg q0[3];\\ncreg c0[3];\\n\\ncx q0[1],q0[2];\\ncx q0[0],q0[2];\\nccx q0[0],q0[1],q0[2];\"",
       "editable": true,
       "layout": "IPY_MODEL_baf8a86c6f7c4fd98bf0e0f0ea0aa3cb",
       "qiskit_code_cell_index": -1
      }
     },
     "148dbc5ca6d54610a7cae53105d55710": {
      "model_module": "@jupyter-widgets/controls",
      "model_module_version": "1.5.0",
      "model_name": "ButtonStyleModel",
      "state": {}
     },
     "14ca63ea4128479da9f01354ea081f79": {
      "model_module": "@jupyter-widgets/controls",
      "model_module_version": "1.5.0",
      "model_name": "HTMLModel",
      "state": {
       "layout": "IPY_MODEL_8568082cdd16496d851d248b56d69d2c",
       "style": "IPY_MODEL_5158b4f4b69c4af89080e709bc5a3a2f",
       "value": "<h5>Job ID</h5>"
      }
     },
     "14e8c2acb28b48479a3f576feb0c0a75": {
      "model_module": "@jupyter-widgets/controls",
      "model_module_version": "1.5.0",
      "model_name": "HTMLModel",
      "state": {
       "layout": "IPY_MODEL_30488cbcf7d34bae82270607d5513607",
       "style": "IPY_MODEL_b4c22c7c95864dfc9209e214aac7ccf8",
       "value": "<h5>Job ID</h5>"
      }
     },
     "1555d2ac5d1c4c93a2c43c5fc1189ac0": {
      "model_module": "@jupyter-widgets/base",
      "model_module_version": "1.2.0",
      "model_name": "LayoutModel",
      "state": {}
     },
     "157664f9cd124216918b16ca4a323852": {
      "model_module": "@jupyter-widgets/base",
      "model_module_version": "1.2.0",
      "model_name": "LayoutModel",
      "state": {
       "width": "70px"
      }
     },
     "1690149b711b40619ce096d9bf256b0b": {
      "model_module": "@jupyter-widgets/controls",
      "model_module_version": "1.5.0",
      "model_name": "HTMLModel",
      "state": {
       "layout": "IPY_MODEL_ab588bab3fce4010917bbdd2666df29b",
       "style": "IPY_MODEL_5d49d5dc262f49b5b489d94e32d0e3eb",
       "value": "<h5>Status</h5>"
      }
     },
     "16ae250874e04ab4b4bd906333443214": {
      "model_module": "@jupyter-widgets/controls",
      "model_module_version": "1.5.0",
      "model_name": "HTMLModel",
      "state": {
       "layout": "IPY_MODEL_ee01cfa5318f49bbb51da895d9cbfe98",
       "style": "IPY_MODEL_8c8ebb9ab7814f49b7f124610764c2a1",
       "value": "<h5>Status</h5>"
      }
     },
     "17348b8a33824cd09153c1b47f0680ea": {
      "model_module": "@jupyter-widgets/controls",
      "model_module_version": "1.5.0",
      "model_name": "HTMLModel",
      "state": {
       "layout": "IPY_MODEL_4a6a065b70c740de915404c28f00e124",
       "style": "IPY_MODEL_f446398c98694b16b1c5979c3eca916e",
       "value": "<h5>Message</h5>"
      }
     },
     "173a109f9c714f3f9bbbf01294cc4a4b": {
      "model_module": "@jupyter-widgets/controls",
      "model_module_version": "1.5.0",
      "model_name": "DescriptionStyleModel",
      "state": {
       "description_width": ""
      }
     },
     "17f077333f584b6fa33d45902be16c2d": {
      "model_module": "@quantum/ibm-q-lab-widgets",
      "model_module_version": "^1.0.3",
      "model_name": "CircuitComposerModel",
      "state": {
       "_model_module_version": "^1.0.3",
       "_view_module_version": "^1.0.3",
       "circuit": "\"OPENQASM 2.0;\\ninclude \\\"qelib1.inc\\\";\\n\\nqreg q[3];\\ncreg c[3];\\n\\n\"",
       "editable": true,
       "layout": "IPY_MODEL_be615fa4e37f46f4b2bd64f94695d231",
       "qiskit_code_cell_index": -1
      }
     },
     "18446bda42004779b833ddc7297f73d5": {
      "model_module": "@jupyter-widgets/base",
      "model_module_version": "1.2.0",
      "model_name": "LayoutModel",
      "state": {}
     },
     "18a91f3d40c4476b8b1891c2bfd3e25d": {
      "model_module": "@quantum/ibm-q-lab-widgets",
      "model_module_version": "^1.0.3",
      "model_name": "CircuitComposerModel",
      "state": {
       "_model_module_version": "^1.0.3",
       "_view_module_version": "^1.0.3",
       "circuit": "\"OPENQASM 2.0;\\ninclude \\\"qelib1.inc\\\";\\n\\nqreg q[3];\\ncreg c[3];\\n\\nswap q[0],q[1];\\nz q[2];\"",
       "editable": true,
       "layout": "IPY_MODEL_3c34729028824a69ab2e3998c1c73b89",
       "qiskit_code_cell_index": 54
      }
     },
     "18b47e3100be465abf040e6e432af411": {
      "model_module": "@jupyter-widgets/base",
      "model_module_version": "1.2.0",
      "model_name": "LayoutModel",
      "state": {
       "width": "70px"
      }
     },
     "190ab006afe144f38c0f9abe87812c1c": {
      "model_module": "@jupyter-widgets/base",
      "model_module_version": "1.2.0",
      "model_name": "LayoutModel",
      "state": {}
     },
     "19a85304b4f2488fa6d1714369f1e0a9": {
      "model_module": "@quantum/ibm-q-lab-widgets",
      "model_module_version": "^1.0.3",
      "model_name": "CircuitComposerModel",
      "state": {
       "_model_module_version": "^1.0.3",
       "_view_module_version": "^1.0.3",
       "circuit": "\"OPENQASM 2.0;\\ninclude \\\"qelib1.inc\\\";\\n\\nqreg q[3];\\ncreg c[3];\\n\\n\"",
       "editable": true,
       "layout": "IPY_MODEL_be119dbd25db4e1bae2fc6935a3478a3",
       "qiskit_code_cell_index": -1
      }
     },
     "19b8d73ac1f749e09104efdee38f636f": {
      "model_module": "@jupyter-widgets/base",
      "model_module_version": "1.2.0",
      "model_name": "LayoutModel",
      "state": {
       "width": "190px"
      }
     },
     "19f41ae3198c4e6da5051f0c5babf10a": {
      "model_module": "@jupyter-widgets/base",
      "model_module_version": "1.2.0",
      "model_name": "LayoutModel",
      "state": {
       "width": "70px"
      }
     },
     "1ae18da521ee4927b3438a6a5e76ba9e": {
      "model_module": "@jupyter-widgets/base",
      "model_module_version": "1.2.0",
      "model_name": "LayoutModel",
      "state": {
       "width": "95px"
      }
     },
     "1b3f60623c0e4faaa16c2594c6f052e5": {
      "model_module": "@jupyter-widgets/controls",
      "model_module_version": "1.5.0",
      "model_name": "GridBoxModel",
      "state": {
       "children": [
        "IPY_MODEL_c6ab8065cab84bf6b7252daeabe56432"
       ],
       "layout": "IPY_MODEL_90b0ee9a82e741008e8569543d914998"
      }
     },
     "1b72d96987b74aa880eebf6aabc2a993": {
      "model_module": "@jupyter-widgets/controls",
      "model_module_version": "1.5.0",
      "model_name": "HTMLModel",
      "state": {
       "layout": "IPY_MODEL_852c60eab2d74300b9014d1e064ccacc",
       "style": "IPY_MODEL_df04f5479d67433cb432e45f7a35cecb",
       "value": "<h5>Job ID</h5>"
      }
     },
     "1bb0bd14b17c43fdb984eb3c70c2cef6": {
      "model_module": "@jupyter-widgets/base",
      "model_module_version": "1.2.0",
      "model_name": "LayoutModel",
      "state": {}
     },
     "1bdc1f0e036e4e28b74d6d141034bfe8": {
      "model_module": "@quantum/ibm-q-lab-widgets",
      "model_module_version": "^1.0.3",
      "model_name": "CircuitComposerModel",
      "state": {
       "_model_module_version": "^1.0.3",
       "_view_module_version": "^1.0.3",
       "circuit": "\"OPENQASM 2.0;\\ninclude \\\"qelib1.inc\\\";\\n\\nqreg q[3];\\ncreg c[3];\\n\\n\"",
       "editable": true,
       "layout": "IPY_MODEL_3008efe61d4e4458a8deb713662f4e8e",
       "qiskit_code_cell_index": -1
      }
     },
     "1c050fce70034ed7bab1bc571055a895": {
      "model_module": "@jupyter-widgets/controls",
      "model_module_version": "1.5.0",
      "model_name": "HTMLModel",
      "state": {
       "layout": "IPY_MODEL_8b98c82060564483b39a625bdccd5376",
       "style": "IPY_MODEL_7da40d40aaf44de5bee9dde02e9d3ae5",
       "value": "<h5>Message</h5>"
      }
     },
     "1c3b669f5cb7414782648203af7c1ff7": {
      "model_module": "@jupyter-widgets/base",
      "model_module_version": "1.2.0",
      "model_name": "LayoutModel",
      "state": {}
     },
     "1c8068c149294210bb3ca556b2573ee4": {
      "model_module": "@jupyter-widgets/base",
      "model_module_version": "1.2.0",
      "model_name": "LayoutModel",
      "state": {
       "width": "70px"
      }
     },
     "1cba501f75bd4a2da9f0fbe8ce460347": {
      "model_module": "@quantum/ibm-q-lab-widgets",
      "model_module_version": "^1.0.3",
      "model_name": "CircuitComposerModel",
      "state": {
       "_model_module_version": "^1.0.3",
       "_view_module_version": "^1.0.3",
       "circuit": "\"OPENQASM 2.0;\\ninclude \\\"qelib1.inc\\\";\\n\\nqreg q4[3];\\ncreg c3[3];\\n\\ncx q4[1],q4[2];\\ncx q4[0],q4[2];\\nccx q4[0],q4[1],q4[2];\"",
       "editable": true,
       "layout": "IPY_MODEL_3e431b46e6564178a35fee7efc7bd715",
       "qiskit_code_cell_index": 47
      }
     },
     "1d98343600cd4098b9b788327fe207ff": {
      "model_module": "@jupyter-widgets/controls",
      "model_module_version": "1.5.0",
      "model_name": "HTMLModel",
      "state": {
       "layout": "IPY_MODEL_e7cc84e132ee485d935102b3c198d255",
       "style": "IPY_MODEL_71b76fdeebd543f2a86f657a6e7a31c9",
       "value": "<h5>Status</h5>"
      }
     },
     "1eb60f17514c47cdb7f2250c7d78f174": {
      "model_module": "@jupyter-widgets/controls",
      "model_module_version": "1.5.0",
      "model_name": "DescriptionStyleModel",
      "state": {
       "description_width": ""
      }
     },
     "1f31aa46a28643fbab939ce5970ead46": {
      "model_module": "@jupyter-widgets/controls",
      "model_module_version": "1.5.0",
      "model_name": "HTMLModel",
      "state": {
       "layout": "IPY_MODEL_19b8d73ac1f749e09104efdee38f636f",
       "style": "IPY_MODEL_31409a0d8ce24aa2809310106b643add",
       "value": "<h5>Job ID</h5>"
      }
     },
     "1fcda1a45e3e47b0b03746787b6eec9e": {
      "model_module": "@jupyter-widgets/controls",
      "model_module_version": "1.5.0",
      "model_name": "DescriptionStyleModel",
      "state": {
       "description_width": ""
      }
     },
     "205d43046c3a467fae0274b728c28fb7": {
      "model_module": "@jupyter-widgets/base",
      "model_module_version": "1.2.0",
      "model_name": "LayoutModel",
      "state": {
       "width": "70px"
      }
     },
     "2066912682fe43fa90445fe370a1da17": {
      "model_module": "@jupyter-widgets/controls",
      "model_module_version": "1.5.0",
      "model_name": "HTMLModel",
      "state": {
       "layout": "IPY_MODEL_0d31fd6aff07413bbc087ef5b2b80573",
       "style": "IPY_MODEL_aff87702f540424da09390ab205e01ae",
       "value": "<h5>Status</h5>"
      }
     },
     "20a1cc7a64da45599e25f0f717b7fa9b": {
      "model_module": "@jupyter-widgets/base",
      "model_module_version": "1.2.0",
      "model_name": "LayoutModel",
      "state": {}
     },
     "20ad527cae0742dcb69e548ff04ba59c": {
      "model_module": "@jupyter-widgets/controls",
      "model_module_version": "1.5.0",
      "model_name": "DescriptionStyleModel",
      "state": {
       "description_width": ""
      }
     },
     "2306d7980f53425ca9f65282852911db": {
      "model_module": "@quantum/ibm-q-lab-widgets",
      "model_module_version": "^1.0.3",
      "model_name": "CircuitComposerModel",
      "state": {
       "_model_module_version": "^1.0.3",
       "_view_module_version": "^1.0.3",
       "circuit": "\"OPENQASM 2.0;\\ninclude \\\"qelib1.inc\\\";\\n\\nqreg q[3];\\ncreg c[3];\\n\\n\"",
       "editable": true,
       "layout": "IPY_MODEL_53a3f392a64b4b16907ba5432fbd75ba",
       "qiskit_code_cell_index": -1
      }
     },
     "23179b1b37c14621b715b07cddce4ea6": {
      "model_module": "@jupyter-widgets/base",
      "model_module_version": "1.2.0",
      "model_name": "LayoutModel",
      "state": {}
     },
     "24b2811721fb477786959cc922d47fac": {
      "model_module": "@jupyter-widgets/base",
      "model_module_version": "1.2.0",
      "model_name": "LayoutModel",
      "state": {
       "grid_area": "right",
       "padding": "0px 0px 0px 0px",
       "width": "70px"
      }
     },
     "24c870a8c65440a78e05286f3b64f13f": {
      "model_module": "@jupyter-widgets/controls",
      "model_module_version": "1.5.0",
      "model_name": "HTMLModel",
      "state": {
       "layout": "IPY_MODEL_8ec78aac5d1449279de38faad5b8dd76",
       "style": "IPY_MODEL_7e216fc602244fb28f7b12c242a55747",
       "value": "<h5>Job ID</h5>"
      }
     },
     "25192d15e13a4389a20ff624c2705f55": {
      "model_module": "@jupyter-widgets/controls",
      "model_module_version": "1.5.0",
      "model_name": "HTMLModel",
      "state": {
       "layout": "IPY_MODEL_7fb7467660ba4818b224a760bf18d2d4",
       "style": "IPY_MODEL_00687b8b531246e18e62ef79ad5c6970",
       "value": "<h5>Backend</h5>"
      }
     },
     "258eae7128724a828fd604a4df2853d7": {
      "model_module": "@jupyter-widgets/base",
      "model_module_version": "1.2.0",
      "model_name": "LayoutModel",
      "state": {
       "margin": "0px 0px 0px 37px",
       "width": "600px"
      }
     },
     "25a2771bfc724c4485ce18e45e93e148": {
      "model_module": "@jupyter-widgets/base",
      "model_module_version": "1.2.0",
      "model_name": "LayoutModel",
      "state": {}
     },
     "264de026736c4158b88c260d5ad43c67": {
      "model_module": "@jupyter-widgets/base",
      "model_module_version": "1.2.0",
      "model_name": "LayoutModel",
      "state": {
       "grid_template_areas": "\n                                       \". . . . right \"\n                                        ",
       "grid_template_columns": "20% 20% 20% 20% 20%",
       "width": "100%"
      }
     },
     "26a0a8fe3fac4463b480b23e2ce39eba": {
      "model_module": "@jupyter-widgets/controls",
      "model_module_version": "1.5.0",
      "model_name": "HTMLModel",
      "state": {
       "layout": "IPY_MODEL_3ee74cc8d36c4e5391415f79be6aa2fd",
       "style": "IPY_MODEL_626bcbf09ded4e12afa57f4a476189b0",
       "value": "<p style='font-family: IBM Plex Sans, Arial, Helvetica, sans-serif; font-size: 20px; font-weight: medium;'>Circuit Properties</p>"
      }
     },
     "26ca92d21d6149828724dd6d4b588389": {
      "model_module": "@jupyter-widgets/controls",
      "model_module_version": "1.5.0",
      "model_name": "ButtonModel",
      "state": {
       "button_style": "primary",
       "description": "Clear",
       "layout": "IPY_MODEL_50b875d9ab2d4acaa815061f478fbf47",
       "style": "IPY_MODEL_b08b187f73454353a24f8751a6892126"
      }
     },
     "26cb2ef0ef144ba299224d37e4b427bd": {
      "model_module": "@jupyter-widgets/controls",
      "model_module_version": "1.5.0",
      "model_name": "DescriptionStyleModel",
      "state": {
       "description_width": ""
      }
     },
     "26cbbc69c88e4e8b83105bf0cdf77a86": {
      "model_module": "@jupyter-widgets/base",
      "model_module_version": "1.2.0",
      "model_name": "LayoutModel",
      "state": {}
     },
     "26e3aaa102d345c8ae70a39dbe56c7f1": {
      "model_module": "@jupyter-widgets/base",
      "model_module_version": "1.2.0",
      "model_name": "LayoutModel",
      "state": {
       "margin": "0px 0px 10px 0px"
      }
     },
     "275e96c24bb045cdaeb001306313a482": {
      "model_module": "@jupyter-widgets/base",
      "model_module_version": "1.2.0",
      "model_name": "LayoutModel",
      "state": {
       "margin": "0px 0px 10px 0px"
      }
     },
     "277b45ec464a4ee9b89fe8eadf3a2b15": {
      "model_module": "@quantum/ibm-q-lab-widgets",
      "model_module_version": "^1.0.3",
      "model_name": "CircuitComposerModel",
      "state": {
       "_model_module_version": "^1.0.3",
       "_view_module_version": "^1.0.3",
       "circuit": "\"OPENQASM 2.0;\\ninclude \\\"qelib1.inc\\\";\\n\\nqreg q[3];\\ncreg c[3];\\n\\n\"",
       "editable": true,
       "layout": "IPY_MODEL_020d9c6ddd9a4f4eaa95e3627f4f211e",
       "qiskit_code_cell_index": -1
      }
     },
     "2853186d26fc4485bc9b3becd6b6d591": {
      "model_module": "@quantum/ibm-q-lab-widgets",
      "model_module_version": "^1.0.3",
      "model_name": "CircuitComposerModel",
      "state": {
       "_model_module_version": "^1.0.3",
       "_view_module_version": "^1.0.3",
       "circuit": "\"OPENQASM 2.0;\\ninclude \\\"qelib1.inc\\\";\\n\\nqreg q[3];\\ncreg c[3];\\n\\n\"",
       "editable": true,
       "layout": "IPY_MODEL_62c3c65bf4b641df91023a0da1721604",
       "qiskit_code_cell_index": -1
      }
     },
     "28774d699ac64c6f8080058a12362bb3": {
      "model_module": "@jupyter-widgets/controls",
      "model_module_version": "1.5.0",
      "model_name": "DescriptionStyleModel",
      "state": {
       "description_width": ""
      }
     },
     "28b34ea527e348f18b88558bdddc0e1b": {
      "model_module": "@jupyter-widgets/base",
      "model_module_version": "1.2.0",
      "model_name": "LayoutModel",
      "state": {
       "grid_template_areas": "\n                                       \". . . . right \"\n                                        ",
       "grid_template_columns": "20% 20% 20% 20% 20%",
       "width": "100%"
      }
     },
     "29b01891f7e3469597d7ba8c98e1c656": {
      "model_module": "@jupyter-widgets/base",
      "model_module_version": "1.2.0",
      "model_name": "LayoutModel",
      "state": {
       "margin": "0px 0px 0px 37px",
       "width": "600px"
      }
     },
     "2a0fc29ac3d44f4c9b57e3851cffb1d1": {
      "model_module": "@jupyter-widgets/controls",
      "model_module_version": "1.5.0",
      "model_name": "HTMLModel",
      "state": {
       "layout": "IPY_MODEL_ff65bb72e7dd4615a2fd83de47a80910",
       "style": "IPY_MODEL_3e99420eef28485cb78daaf45616a10e",
       "value": "<h5>Backend</h5>"
      }
     },
     "2a3f5839c24349d797ee73bb5bf4f9bc": {
      "model_module": "@jupyter-widgets/base",
      "model_module_version": "1.2.0",
      "model_name": "LayoutModel",
      "state": {
       "width": "190px"
      }
     },
     "2a9203a4ceee4fb686a41d581b26cc94": {
      "model_module": "@jupyter-widgets/base",
      "model_module_version": "1.2.0",
      "model_name": "LayoutModel",
      "state": {
       "grid_template_areas": "\n                                       \". . . . right \"\n                                        ",
       "grid_template_columns": "20% 20% 20% 20% 20%",
       "width": "100%"
      }
     },
     "2af0523c340145e1bfd0029d8ad6a853": {
      "model_module": "@quantum/ibm-q-lab-widgets",
      "model_module_version": "^1.0.3",
      "model_name": "CircuitComposerModel",
      "state": {
       "_model_module_version": "^1.0.3",
       "_view_module_version": "^1.0.3",
       "circuit": "\"OPENQASM 2.0;\\ninclude \\\"qelib1.inc\\\";\\n\\nqreg q[3];\\ncreg c[3];\\n\\nx q[0];\\nrz(pi/2) q[0];\\ncx q[2],q[1];\"",
       "editable": true,
       "layout": "IPY_MODEL_5ea9466bb7114fb085a065ae44e374e6",
       "qiskit_code_cell_index": 43
      }
     },
     "2afb6579aec34ebe93556f1b7df10c0b": {
      "model_module": "@jupyter-widgets/controls",
      "model_module_version": "1.5.0",
      "model_name": "HTMLModel",
      "state": {
       "layout": "IPY_MODEL_ec3d6cec43f64d109cce41e91a207abf",
       "style": "IPY_MODEL_90cd23bb0ffe4124af34bee073d37774",
       "value": "<p style='font-family: IBM Plex Sans, Arial, Helvetica, sans-serif; font-size: 20px; font-weight: medium;'>Circuit Properties</p>"
      }
     },
     "2b9798c62a184803ae701efa4c985337": {
      "model_module": "@jupyter-widgets/controls",
      "model_module_version": "1.5.0",
      "model_name": "HTMLModel",
      "state": {
       "layout": "IPY_MODEL_f41b6aa2f189400e9b216228b90a4ee3",
       "style": "IPY_MODEL_118b63139f6a449e91afa426c715f9ca",
       "value": "<h5>Status</h5>"
      }
     },
     "2bd8b0b47bbb454dbc0457fc2070b2da": {
      "model_module": "@jupyter-widgets/base",
      "model_module_version": "1.2.0",
      "model_name": "LayoutModel",
      "state": {
       "grid_area": "right",
       "padding": "0px 0px 0px 0px",
       "width": "70px"
      }
     },
     "2c06893d8e4d4ab8bddea3ac23076c37": {
      "model_module": "@jupyter-widgets/base",
      "model_module_version": "1.2.0",
      "model_name": "LayoutModel",
      "state": {
       "margin": "0px 0px 10px 0px"
      }
     },
     "2cc38e474f8b4e2d92366b1db0afbdc0": {
      "model_module": "@jupyter-widgets/controls",
      "model_module_version": "1.5.0",
      "model_name": "HTMLModel",
      "state": {
       "layout": "IPY_MODEL_901433422340420db62e9ae3127d4235",
       "style": "IPY_MODEL_eaf2aee64d05485aa35ea40fab729616",
       "value": "<h5>Backend</h5>"
      }
     },
     "2d2ce5a6866c461ba81c12a2707933eb": {
      "model_module": "@jupyter-widgets/base",
      "model_module_version": "1.2.0",
      "model_name": "LayoutModel",
      "state": {
       "grid_template_areas": "\n                                       \". . . . right \"\n                                        ",
       "grid_template_columns": "20% 20% 20% 20% 20%",
       "width": "100%"
      }
     },
     "2d392305286b4fd8915177da73a938c6": {
      "model_module": "@quantum/ibm-q-lab-widgets",
      "model_module_version": "^1.0.3",
      "model_name": "CircuitComposerModel",
      "state": {
       "_model_module_version": "^1.0.3",
       "_view_module_version": "^1.0.3",
       "circuit": "\"OPENQASM 2.0;\\ninclude \\\"qelib1.inc\\\";\\n\\nqreg q[3];\\ncreg c[3];\\n\\n\"",
       "editable": true,
       "layout": "IPY_MODEL_396a31949c0b4ce6ac818e6b356eff07",
       "qiskit_code_cell_index": -1
      }
     },
     "2d9a5f3ecb7844d9a235518bf29aa502": {
      "model_module": "@jupyter-widgets/base",
      "model_module_version": "1.2.0",
      "model_name": "LayoutModel",
      "state": {}
     },
     "2dbfeffcb9814e2bb68f0a08f38d9b18": {
      "model_module": "@jupyter-widgets/controls",
      "model_module_version": "1.5.0",
      "model_name": "ButtonStyleModel",
      "state": {}
     },
     "2dc5151d292d44f3bee2dd4cba36ec92": {
      "model_module": "@jupyter-widgets/controls",
      "model_module_version": "1.5.0",
      "model_name": "ButtonStyleModel",
      "state": {}
     },
     "2e195b1fe536491d841531d597416fa5": {
      "model_module": "@jupyter-widgets/controls",
      "model_module_version": "1.5.0",
      "model_name": "ButtonStyleModel",
      "state": {}
     },
     "2eaa8833e44744439a072efced3f32ae": {
      "model_module": "@jupyter-widgets/controls",
      "model_module_version": "1.5.0",
      "model_name": "ButtonModel",
      "state": {
       "button_style": "primary",
       "description": "Clear",
       "layout": "IPY_MODEL_30e5e068668a4af9ae3f5e9510ba4cf9",
       "style": "IPY_MODEL_c2e484c5d6af4da2983d5d54c1f28343"
      }
     },
     "2eb21c61c63d4abc806bb17d0afddd9e": {
      "model_module": "@jupyter-widgets/controls",
      "model_module_version": "1.5.0",
      "model_name": "DescriptionStyleModel",
      "state": {
       "description_width": ""
      }
     },
     "2ef205c7351d4b46974af47b64b9e2d9": {
      "model_module": "@jupyter-widgets/controls",
      "model_module_version": "1.5.0",
      "model_name": "DescriptionStyleModel",
      "state": {
       "description_width": ""
      }
     },
     "2fa82dae3b0b44c7b106fa28f21631bc": {
      "model_module": "@jupyter-widgets/controls",
      "model_module_version": "1.5.0",
      "model_name": "DescriptionStyleModel",
      "state": {
       "description_width": ""
      }
     },
     "3008efe61d4e4458a8deb713662f4e8e": {
      "model_module": "@jupyter-widgets/base",
      "model_module_version": "1.2.0",
      "model_name": "LayoutModel",
      "state": {}
     },
     "30488cbcf7d34bae82270607d5513607": {
      "model_module": "@jupyter-widgets/base",
      "model_module_version": "1.2.0",
      "model_name": "LayoutModel",
      "state": {
       "width": "190px"
      }
     },
     "30713c7a16084465bd6a7f2a44667b59": {
      "model_module": "@jupyter-widgets/controls",
      "model_module_version": "1.5.0",
      "model_name": "HTMLModel",
      "state": {
       "layout": "IPY_MODEL_2a3f5839c24349d797ee73bb5bf4f9bc",
       "style": "IPY_MODEL_bcb101c56e4d479f872baa56e4d66bf2",
       "value": "<h5>Job ID</h5>"
      }
     },
     "30ba74b5cbbe4c95b5c8afb17631bc86": {
      "model_module": "@jupyter-widgets/base",
      "model_module_version": "1.2.0",
      "model_name": "LayoutModel",
      "state": {
       "width": "190px"
      }
     },
     "30e5e068668a4af9ae3f5e9510ba4cf9": {
      "model_module": "@jupyter-widgets/base",
      "model_module_version": "1.2.0",
      "model_name": "LayoutModel",
      "state": {
       "grid_area": "right",
       "padding": "0px 0px 0px 0px",
       "width": "70px"
      }
     },
     "3108dd9dff1948ecae64c2103780cd4e": {
      "model_module": "@quantum/ibm-q-lab-widgets",
      "model_module_version": "^1.0.3",
      "model_name": "CircuitComposerModel",
      "state": {
       "_model_module_version": "^1.0.3",
       "_view_module_version": "^1.0.3",
       "circuit": "\"OPENQASM 2.0;\\ninclude \\\"qelib1.inc\\\";\\n\\nqreg q33[3];\\ncreg c4[3];\\n\\ncx q33[1],q33[2];\\ncx q33[0],q33[2];\\nccx q33[0],q33[1],q33[2];\\nmeasure q33[2] -> c4[0];\"",
       "editable": true,
       "layout": "IPY_MODEL_85525067dff94970af9dd5e04b5d4f95",
       "qiskit_code_cell_index": -1
      }
     },
     "31409a0d8ce24aa2809310106b643add": {
      "model_module": "@jupyter-widgets/controls",
      "model_module_version": "1.5.0",
      "model_name": "DescriptionStyleModel",
      "state": {
       "description_width": ""
      }
     },
     "3260ea3536cd441184144a0e2ec4488a": {
      "model_module": "@jupyter-widgets/base",
      "model_module_version": "1.2.0",
      "model_name": "LayoutModel",
      "state": {
       "grid_template_areas": "\n                                       \". . . . right \"\n                                        ",
       "grid_template_columns": "20% 20% 20% 20% 20%",
       "width": "100%"
      }
     },
     "3288d28e9f454327bb9deae1d3dbae2d": {
      "model_module": "@quantum/ibm-q-lab-widgets",
      "model_module_version": "^1.0.3",
      "model_name": "CircuitComposerModel",
      "state": {
       "_model_module_version": "^1.0.3",
       "_view_module_version": "^1.0.3",
       "circuit": "\"OPENQASM 2.0;\\ninclude \\\"qelib1.inc\\\";\\n\\nqreg q[3];\\ncreg c[3];\\n\\n\"",
       "editable": true,
       "layout": "IPY_MODEL_3299c8aa5bbc411db8ff1c07f3821d84",
       "qiskit_code_cell_index": -1
      }
     },
     "3299c8aa5bbc411db8ff1c07f3821d84": {
      "model_module": "@jupyter-widgets/base",
      "model_module_version": "1.2.0",
      "model_name": "LayoutModel",
      "state": {}
     },
     "32f919e0f5134760a9df0d89d2e77b51": {
      "model_module": "@jupyter-widgets/controls",
      "model_module_version": "1.5.0",
      "model_name": "ButtonModel",
      "state": {
       "button_style": "primary",
       "description": "Clear",
       "layout": "IPY_MODEL_b6762a63f86c494393bc4024ef5d6ec7",
       "style": "IPY_MODEL_89aa7532228f44319c6b71354eb29dd3"
      }
     },
     "331e3257365741db8def52287f2769b5": {
      "model_module": "@jupyter-widgets/controls",
      "model_module_version": "1.5.0",
      "model_name": "ButtonModel",
      "state": {
       "button_style": "primary",
       "description": "Clear",
       "layout": "IPY_MODEL_09e29575306f418b92d9a2c28662e772",
       "style": "IPY_MODEL_7f7ec52f7c9d43d683e3bf46d5b8af28"
      }
     },
     "3326f789e1454d848be17beeadad59cd": {
      "model_module": "@jupyter-widgets/base",
      "model_module_version": "1.2.0",
      "model_name": "LayoutModel",
      "state": {
       "width": "190px"
      }
     },
     "332b33d947fe4fe1824bea4d9e54d7fd": {
      "model_module": "@jupyter-widgets/controls",
      "model_module_version": "1.5.0",
      "model_name": "HTMLModel",
      "state": {
       "layout": "IPY_MODEL_6c9e2fcaa9a94d0aa61975a91a432150",
       "style": "IPY_MODEL_776b4b70a59846898f102ac3e50852a2",
       "value": "<h5>Backend</h5>"
      }
     },
     "338a750d86c34cd6842713614c3f386c": {
      "model_module": "@jupyter-widgets/base",
      "model_module_version": "1.2.0",
      "model_name": "LayoutModel",
      "state": {
       "margin": "0px 0px 0px 37px",
       "width": "600px"
      }
     },
     "33e5c437cd6949e4b1fc9b6de04f30af": {
      "model_module": "@jupyter-widgets/base",
      "model_module_version": "1.2.0",
      "model_name": "LayoutModel",
      "state": {}
     },
     "3420bbc7352f48d4a23dadc9ba0df71a": {
      "model_module": "@quantum/ibm-q-lab-widgets",
      "model_module_version": "^1.0.3",
      "model_name": "CircuitComposerModel",
      "state": {
       "_model_module_version": "^1.0.3",
       "_view_module_version": "^1.0.3",
       "circuit": "\"OPENQASM 2.0;\\ninclude \\\"qelib1.inc\\\";\\n\\nqreg q[3];\\ncreg c[3];\\n\\n\"",
       "editable": true,
       "layout": "IPY_MODEL_e99a25578a3a413ab0b267672b43f72b",
       "qiskit_code_cell_index": -1
      }
     },
     "3550cd9a049f480f8b952c93869e96e2": {
      "model_module": "@jupyter-widgets/controls",
      "model_module_version": "1.5.0",
      "model_name": "ButtonStyleModel",
      "state": {}
     },
     "36321f592adf424e8904aba14040ce4d": {
      "model_module": "@quantum/ibm-q-lab-widgets",
      "model_module_version": "^1.0.3",
      "model_name": "CircuitComposerModel",
      "state": {
       "_model_module_version": "^1.0.3",
       "_view_module_version": "^1.0.3",
       "circuit": "\"OPENQASM 2.0;\\ninclude \\\"qelib1.inc\\\";\\n\\nqreg q[3];\\ncreg c[3];\\n\\n\"",
       "editable": true,
       "layout": "IPY_MODEL_a116878984b741f7ac6690e44f038947",
       "qiskit_code_cell_index": -1
      }
     },
     "37b7d129f94342e1abcce40399056637": {
      "model_module": "@jupyter-widgets/base",
      "model_module_version": "1.2.0",
      "model_name": "LayoutModel",
      "state": {}
     },
     "37d358e0a49f4aa5875f775a31a84858": {
      "model_module": "@jupyter-widgets/controls",
      "model_module_version": "1.5.0",
      "model_name": "HTMLModel",
      "state": {
       "layout": "IPY_MODEL_a8af894664164b2e82c73d8bd47c7485",
       "style": "IPY_MODEL_905541cbe239467da30cbd81517e9772",
       "value": "<p style='font-family: IBM Plex Sans, Arial, Helvetica, sans-serif; font-size: 20px; font-weight: medium;'>Circuit Properties</p>"
      }
     },
     "381788a926d744ae8cb7edf5993b71d5": {
      "model_module": "@quantum/ibm-q-lab-widgets",
      "model_module_version": "^1.0.3",
      "model_name": "CircuitComposerModel",
      "state": {
       "_model_module_version": "^1.0.3",
       "_view_module_version": "^1.0.3",
       "circuit": "\"OPENQASM 2.0;\\ninclude \\\"qelib1.inc\\\";\\n\\nqreg q[3];\\ncreg c[3];\\n\\nswap q[0],q[1];\\nz q[2];\"",
       "editable": true,
       "layout": "IPY_MODEL_dd55d56845324b43a32881e7e6333e38",
       "qiskit_code_cell_index": -1
      }
     },
     "385ab6ea8d9f401ab85b126425aef694": {
      "model_module": "@jupyter-widgets/base",
      "model_module_version": "1.2.0",
      "model_name": "LayoutModel",
      "state": {
       "width": "145px"
      }
     },
     "396a31949c0b4ce6ac818e6b356eff07": {
      "model_module": "@jupyter-widgets/base",
      "model_module_version": "1.2.0",
      "model_name": "LayoutModel",
      "state": {}
     },
     "39782c8ea2ed4e56b5f99ec2f8661601": {
      "model_module": "@jupyter-widgets/controls",
      "model_module_version": "1.5.0",
      "model_name": "HBoxModel",
      "state": {
       "children": [
        "IPY_MODEL_30713c7a16084465bd6a7f2a44667b59",
        "IPY_MODEL_ed3cbe7ebda9455c9a24e1c7818550a4",
        "IPY_MODEL_94bc1af61c5747b2a910f1aecfbdeab9",
        "IPY_MODEL_b49c1fe056564115bf410c9a8c7e2cc4",
        "IPY_MODEL_17348b8a33824cd09153c1b47f0680ea"
       ],
       "layout": "IPY_MODEL_9683e57a66a14fa7a77c054cee435a42"
      }
     },
     "398571c7156041b5bdbebc3b04974e2f": {
      "model_module": "@jupyter-widgets/controls",
      "model_module_version": "1.5.0",
      "model_name": "GridBoxModel",
      "state": {
       "children": [
        "IPY_MODEL_fd9e1e3b36b04bf191eb9f11ed9fba6e"
       ],
       "layout": "IPY_MODEL_058c0ab1f10246ce985c0d6923f85ea6"
      }
     },
     "3b9a86da9f5240df818956e4fb25e041": {
      "model_module": "@jupyter-widgets/controls",
      "model_module_version": "1.5.0",
      "model_name": "DescriptionStyleModel",
      "state": {
       "description_width": ""
      }
     },
     "3b9ee684c0b444be9b23282f91770fcf": {
      "model_module": "@quantum/ibm-q-lab-widgets",
      "model_module_version": "^1.0.3",
      "model_name": "CircuitComposerModel",
      "state": {
       "_model_module_version": "^1.0.3",
       "_view_module_version": "^1.0.3",
       "circuit": "\"OPENQASM 2.0;\\ninclude \\\"qelib1.inc\\\";\\n\\nqreg q[3];\\ncreg c[3];\\n\\ncx q[1],q[0];\\ncx q[0],q[1];\\ncx q[1],q[0];\\ncx q[2],q[1];\\nrz(pi) q[2];\"",
       "editable": true,
       "layout": "IPY_MODEL_4261461ae4cc4835a4c7277f6ca7de3f",
       "qiskit_code_cell_index": 44
      }
     },
     "3c34729028824a69ab2e3998c1c73b89": {
      "model_module": "@jupyter-widgets/base",
      "model_module_version": "1.2.0",
      "model_name": "LayoutModel",
      "state": {}
     },
     "3c7db4d0f27f4603bbd9303ab4cc6ea6": {
      "model_module": "@jupyter-widgets/controls",
      "model_module_version": "1.5.0",
      "model_name": "HTMLModel",
      "state": {
       "layout": "IPY_MODEL_071b8b592b2b4ba987a324d459eeb994",
       "style": "IPY_MODEL_a7e387ce624b4fdd927af7426dbf7025",
       "value": "<p style='font-family: IBM Plex Sans, Arial, Helvetica, sans-serif; font-size: 20px; font-weight: medium;'>Circuit Properties</p>"
      }
     },
     "3d1f573966184a569534b055061790af": {
      "model_module": "@quantum/ibm-q-lab-widgets",
      "model_module_version": "^1.0.3",
      "model_name": "CircuitComposerModel",
      "state": {
       "_model_module_version": "^1.0.3",
       "_view_module_version": "^1.0.3",
       "circuit": "\"OPENQASM 2.0;\\ninclude \\\"qelib1.inc\\\";\\n\\nqreg q[3];\\ncreg c[3];\\n\\n\"",
       "editable": true,
       "layout": "IPY_MODEL_5eb85f37ded7402f93252122f2ef5c20",
       "qiskit_code_cell_index": -1
      }
     },
     "3d62cadf9a5f465d9583cda6d521b504": {
      "model_module": "@jupyter-widgets/controls",
      "model_module_version": "1.5.0",
      "model_name": "DescriptionStyleModel",
      "state": {
       "description_width": ""
      }
     },
     "3e174dd3d8544ac88043f17a5ecc8500": {
      "model_module": "@jupyter-widgets/controls",
      "model_module_version": "1.5.0",
      "model_name": "HTMLModel",
      "state": {
       "layout": "IPY_MODEL_6f05f9fe4c734814ae7c24818dd8c8e4",
       "style": "IPY_MODEL_d00d6210a81d40af8b725a661b8be93b",
       "value": "<h5>Job ID</h5>"
      }
     },
     "3e431b46e6564178a35fee7efc7bd715": {
      "model_module": "@jupyter-widgets/base",
      "model_module_version": "1.2.0",
      "model_name": "LayoutModel",
      "state": {}
     },
     "3e89aebbd7284b79a0481c5b3284a03c": {
      "model_module": "@jupyter-widgets/base",
      "model_module_version": "1.2.0",
      "model_name": "LayoutModel",
      "state": {}
     },
     "3e99420eef28485cb78daaf45616a10e": {
      "model_module": "@jupyter-widgets/controls",
      "model_module_version": "1.5.0",
      "model_name": "DescriptionStyleModel",
      "state": {
       "description_width": ""
      }
     },
     "3ee74cc8d36c4e5391415f79be6aa2fd": {
      "model_module": "@jupyter-widgets/base",
      "model_module_version": "1.2.0",
      "model_name": "LayoutModel",
      "state": {
       "margin": "0px 0px 10px 0px"
      }
     },
     "3fb4a8913a5049b09d3d417371eccb3c": {
      "model_module": "@jupyter-widgets/base",
      "model_module_version": "1.2.0",
      "model_name": "LayoutModel",
      "state": {}
     },
     "40201056b9a044548deb5e4729fe30b3": {
      "model_module": "@jupyter-widgets/controls",
      "model_module_version": "1.5.0",
      "model_name": "HBoxModel",
      "state": {
       "children": [
        "IPY_MODEL_abfb4fc29dd1406cbbb7f5b53d45638f",
        "IPY_MODEL_bcdb4f764418464d876656ff47969d41",
        "IPY_MODEL_d78743e18e6b47308381f245818f1dd5",
        "IPY_MODEL_b2a697572d834a1e92bfd7109dd150e0",
        "IPY_MODEL_0a0e1409d8fc4c22be026b67930a0cd4"
       ],
       "layout": "IPY_MODEL_4338c0483ad74d4fb6419f99e522d6d4"
      }
     },
     "40a9e1e7c0a54ca0b3482f31af76b784": {
      "model_module": "@jupyter-widgets/controls",
      "model_module_version": "1.5.0",
      "model_name": "DescriptionStyleModel",
      "state": {
       "description_width": ""
      }
     },
     "40b07e1e3e7b4e3d8391b6d150fc0201": {
      "model_module": "@jupyter-widgets/base",
      "model_module_version": "1.2.0",
      "model_name": "LayoutModel",
      "state": {}
     },
     "40efb9a1549147f1ad1f826f3d7905f6": {
      "model_module": "@jupyter-widgets/base",
      "model_module_version": "1.2.0",
      "model_name": "LayoutModel",
      "state": {
       "width": "145px"
      }
     },
     "414a1068e8f64ea38065b2c17a5219bb": {
      "model_module": "@jupyter-widgets/base",
      "model_module_version": "1.2.0",
      "model_name": "LayoutModel",
      "state": {
       "grid_template_areas": "\n                                       \". . . . right \"\n                                        ",
       "grid_template_columns": "20% 20% 20% 20% 20%",
       "width": "100%"
      }
     },
     "4261461ae4cc4835a4c7277f6ca7de3f": {
      "model_module": "@jupyter-widgets/base",
      "model_module_version": "1.2.0",
      "model_name": "LayoutModel",
      "state": {}
     },
     "42dbbbccda4d499694c43f824f861d75": {
      "model_module": "@quantum/ibm-q-lab-widgets",
      "model_module_version": "^1.0.3",
      "model_name": "CircuitComposerModel",
      "state": {
       "_model_module_version": "^1.0.3",
       "_view_module_version": "^1.0.3",
       "circuit": "\"OPENQASM 2.0;\\ninclude \\\"qelib1.inc\\\";\\n\\nqreg q[3];\\ncreg c[3];\\n\\n\"",
       "editable": true,
       "layout": "IPY_MODEL_ed9909234c0b4720b1ef938213c784b5",
       "qiskit_code_cell_index": -1
      }
     },
     "42f3b30f55f64d82b1c6439cd4367cb8": {
      "model_module": "@jupyter-widgets/base",
      "model_module_version": "1.2.0",
      "model_name": "LayoutModel",
      "state": {}
     },
     "4338c0483ad74d4fb6419f99e522d6d4": {
      "model_module": "@jupyter-widgets/base",
      "model_module_version": "1.2.0",
      "model_name": "LayoutModel",
      "state": {
       "margin": "0px 0px 0px 37px",
       "width": "600px"
      }
     },
     "4347878a5164474f8caad7c3568100b4": {
      "model_module": "@quantum/ibm-q-lab-widgets",
      "model_module_version": "^1.0.3",
      "model_name": "CircuitComposerModel",
      "state": {
       "_model_module_version": "^1.0.3",
       "_view_module_version": "^1.0.3",
       "circuit": "\"OPENQASM 2.0;\\ninclude \\\"qelib1.inc\\\";\\n\\nqreg q[3];\\ncreg c[3];\\n\\n\"",
       "editable": true,
       "layout": "IPY_MODEL_647adaf252504ebb89f5ac424e82288b",
       "qiskit_code_cell_index": -1
      }
     },
     "437750a22d3f469f91ab47ad757e2a45": {
      "model_module": "@jupyter-widgets/base",
      "model_module_version": "1.2.0",
      "model_name": "LayoutModel",
      "state": {
       "width": "95px"
      }
     },
     "4400777ab0fe475b8bf004b489e25a8a": {
      "model_module": "@jupyter-widgets/base",
      "model_module_version": "1.2.0",
      "model_name": "LayoutModel",
      "state": {
       "margin": "0px 0px 0px 37px",
       "width": "600px"
      }
     },
     "4416440c57b64bd0b1e93f7a9c657faa": {
      "model_module": "@jupyter-widgets/controls",
      "model_module_version": "1.5.0",
      "model_name": "DescriptionStyleModel",
      "state": {
       "description_width": ""
      }
     },
     "4434f9bbf9164c36a5948c834c777739": {
      "model_module": "@jupyter-widgets/base",
      "model_module_version": "1.2.0",
      "model_name": "LayoutModel",
      "state": {
       "margin": "0px 0px 0px 37px",
       "width": "600px"
      }
     },
     "445317bcd81a4c328824dea9ff477ed7": {
      "model_module": "@jupyter-widgets/base",
      "model_module_version": "1.2.0",
      "model_name": "LayoutModel",
      "state": {
       "grid_template_areas": "\n                                       \". . . . right \"\n                                        ",
       "grid_template_columns": "20% 20% 20% 20% 20%",
       "width": "100%"
      }
     },
     "44a79fd77b9e477684de365174366130": {
      "model_module": "@jupyter-widgets/base",
      "model_module_version": "1.2.0",
      "model_name": "LayoutModel",
      "state": {}
     },
     "44c3084221074279a1fe65621ffec4c0": {
      "model_module": "@jupyter-widgets/controls",
      "model_module_version": "1.5.0",
      "model_name": "HTMLModel",
      "state": {
       "layout": "IPY_MODEL_20a1cc7a64da45599e25f0f717b7fa9b",
       "style": "IPY_MODEL_20ad527cae0742dcb69e548ff04ba59c",
       "value": "<h5>Message</h5>"
      }
     },
     "44f669391a4d42b282d9bf437d5305d0": {
      "model_module": "@jupyter-widgets/controls",
      "model_module_version": "1.5.0",
      "model_name": "HTMLModel",
      "state": {
       "layout": "IPY_MODEL_bfb91f9f217844568337ce77202b67bc",
       "style": "IPY_MODEL_0bea43da5d56445a88974e61b66c52be",
       "value": "<h5>Job ID</h5>"
      }
     },
     "458b76229ac9466a93968d7ac98a73a7": {
      "model_module": "@jupyter-widgets/controls",
      "model_module_version": "1.5.0",
      "model_name": "DescriptionStyleModel",
      "state": {
       "description_width": ""
      }
     },
     "459cc2edaabd4cb3bb3d5fdf8f473254": {
      "model_module": "@jupyter-widgets/controls",
      "model_module_version": "1.5.0",
      "model_name": "DescriptionStyleModel",
      "state": {
       "description_width": ""
      }
     },
     "45c8857a37a24a34ad5810c13d23651b": {
      "model_module": "@jupyter-widgets/controls",
      "model_module_version": "1.5.0",
      "model_name": "HTMLModel",
      "state": {
       "layout": "IPY_MODEL_01c879086b934219b29d792417520512",
       "style": "IPY_MODEL_95d604d7edcc461ab11870eea046e295",
       "value": "<h5>Backend</h5>"
      }
     },
     "467754524cdf4049b19bd6ea03eca647": {
      "model_module": "@jupyter-widgets/controls",
      "model_module_version": "1.5.0",
      "model_name": "DescriptionStyleModel",
      "state": {
       "description_width": ""
      }
     },
     "4700a02cfb7b4ac39225242433cd7711": {
      "model_module": "@jupyter-widgets/controls",
      "model_module_version": "1.5.0",
      "model_name": "HTMLModel",
      "state": {
       "layout": "IPY_MODEL_30ba74b5cbbe4c95b5c8afb17631bc86",
       "style": "IPY_MODEL_07fd227e7fcf4dd1860ffb8ebd34b4d2",
       "value": "<h5>Job ID</h5>"
      }
     },
     "481e565624ec4cd2b0b9af63e6c7958e": {
      "model_module": "@jupyter-widgets/base",
      "model_module_version": "1.2.0",
      "model_name": "LayoutModel",
      "state": {}
     },
     "48b56f32910541c1999e1ccaef3d090c": {
      "model_module": "@jupyter-widgets/controls",
      "model_module_version": "1.5.0",
      "model_name": "DescriptionStyleModel",
      "state": {
       "description_width": ""
      }
     },
     "4a470e12eac549b9a75888e6eb387d0b": {
      "model_module": "@quantum/ibm-q-lab-widgets",
      "model_module_version": "^1.0.3",
      "model_name": "CircuitComposerModel",
      "state": {
       "_model_module_version": "^1.0.3",
       "_view_module_version": "^1.0.3",
       "circuit": "\"OPENQASM 2.0;\\ninclude \\\"qelib1.inc\\\";\\n\\nqreg q[3];\\ncreg c[3];\\n\\n\"",
       "editable": true,
       "layout": "IPY_MODEL_481e565624ec4cd2b0b9af63e6c7958e",
       "qiskit_code_cell_index": -1
      }
     },
     "4a5cfb75bcf9448d87e0f33ed9eb18a0": {
      "model_module": "@quantum/ibm-q-lab-widgets",
      "model_module_version": "^1.0.3",
      "model_name": "CircuitComposerModel",
      "state": {
       "_model_module_version": "^1.0.3",
       "_view_module_version": "^1.0.3",
       "circuit": "\"OPENQASM 2.0;\\ninclude \\\"qelib1.inc\\\";\\n\\nqreg q[3];\\ncreg c[3];\\n\\n\"",
       "editable": true,
       "layout": "IPY_MODEL_25a2771bfc724c4485ce18e45e93e148",
       "qiskit_code_cell_index": -1
      }
     },
     "4a6a065b70c740de915404c28f00e124": {
      "model_module": "@jupyter-widgets/base",
      "model_module_version": "1.2.0",
      "model_name": "LayoutModel",
      "state": {}
     },
     "4b884917539c49feaf716e2f58ae1bb3": {
      "model_module": "@jupyter-widgets/controls",
      "model_module_version": "1.5.0",
      "model_name": "HTMLModel",
      "state": {
       "layout": "IPY_MODEL_0c6085a10676474d9df1193395266c46",
       "style": "IPY_MODEL_af50ed8c616640dda8dfe43cd971e526",
       "value": "<h5>Message</h5>"
      }
     },
     "4c0fb4b914e64e90afb7735c4cd3cda9": {
      "model_module": "@jupyter-widgets/base",
      "model_module_version": "1.2.0",
      "model_name": "LayoutModel",
      "state": {
       "grid_area": "right",
       "padding": "0px 0px 0px 0px",
       "width": "70px"
      }
     },
     "4c5850b093234f35bf5afe995313fe91": {
      "model_module": "@jupyter-widgets/base",
      "model_module_version": "1.2.0",
      "model_name": "LayoutModel",
      "state": {}
     },
     "4d698ff3886446f2ad8fbbb4f76fbd02": {
      "model_module": "@quantum/ibm-q-lab-widgets",
      "model_module_version": "^1.0.3",
      "model_name": "CircuitComposerModel",
      "state": {
       "_model_module_version": "^1.0.3",
       "_view_module_version": "^1.0.3",
       "circuit": "\"OPENQASM 2.0;\\ninclude \\\"qelib1.inc\\\";\\n\\nqreg q[3];\\ncreg c[3];\\n\\n\"",
       "editable": true,
       "layout": "IPY_MODEL_f6e003da05d349118f38ae2a64663871",
       "qiskit_code_cell_index": -1
      }
     },
     "4eb2200cb71e4110bfe473b01ae616bf": {
      "model_module": "@jupyter-widgets/controls",
      "model_module_version": "1.5.0",
      "model_name": "HTMLModel",
      "state": {
       "layout": "IPY_MODEL_854dd58f9d564fc5a8a9ed09aaf3c44d",
       "style": "IPY_MODEL_d51d581f462e44dc8ffa1f3664a2b073",
       "value": "<h5>Job ID</h5>"
      }
     },
     "4f15a5d259ce4062898bdae92f1e6edd": {
      "model_module": "@jupyter-widgets/base",
      "model_module_version": "1.2.0",
      "model_name": "LayoutModel",
      "state": {}
     },
     "4f5a6b0a58964ec39418de154fe26573": {
      "model_module": "@jupyter-widgets/base",
      "model_module_version": "1.2.0",
      "model_name": "LayoutModel",
      "state": {}
     },
     "4ff1b32437774bbbae4e9a5e0650e8a1": {
      "model_module": "@jupyter-widgets/base",
      "model_module_version": "1.2.0",
      "model_name": "LayoutModel",
      "state": {}
     },
     "50091921f7684addb5afd14d51d0de14": {
      "model_module": "@jupyter-widgets/base",
      "model_module_version": "1.2.0",
      "model_name": "LayoutModel",
      "state": {}
     },
     "50b875d9ab2d4acaa815061f478fbf47": {
      "model_module": "@jupyter-widgets/base",
      "model_module_version": "1.2.0",
      "model_name": "LayoutModel",
      "state": {
       "grid_area": "right",
       "padding": "0px 0px 0px 0px",
       "width": "70px"
      }
     },
     "50dfd93bae63492d84ad39f8f3cbed18": {
      "model_module": "@jupyter-widgets/controls",
      "model_module_version": "1.5.0",
      "model_name": "DescriptionStyleModel",
      "state": {
       "description_width": ""
      }
     },
     "512ecf2552b446b09dd0d4623e53676f": {
      "model_module": "@jupyter-widgets/base",
      "model_module_version": "1.2.0",
      "model_name": "LayoutModel",
      "state": {}
     },
     "5158b4f4b69c4af89080e709bc5a3a2f": {
      "model_module": "@jupyter-widgets/controls",
      "model_module_version": "1.5.0",
      "model_name": "DescriptionStyleModel",
      "state": {
       "description_width": ""
      }
     },
     "51cd6436bd0f4612b7e5a3cd267f5a7f": {
      "model_module": "@jupyter-widgets/controls",
      "model_module_version": "1.5.0",
      "model_name": "HTMLModel",
      "state": {
       "layout": "IPY_MODEL_a9483f14f95c4d539945ca3e77071d62",
       "style": "IPY_MODEL_d54997dae4d54069b5bc9b180de4abb7",
       "value": "<h5>Message</h5>"
      }
     },
     "522abd193d5143a6bd304bb1f5073fa0": {
      "model_module": "@jupyter-widgets/base",
      "model_module_version": "1.2.0",
      "model_name": "LayoutModel",
      "state": {
       "width": "70px"
      }
     },
     "5237b6e70e6546d78cb4d87363fb449b": {
      "model_module": "@jupyter-widgets/controls",
      "model_module_version": "1.5.0",
      "model_name": "DescriptionStyleModel",
      "state": {
       "description_width": ""
      }
     },
     "5238da7ddc1e4b659a3feb351eb7b3d4": {
      "model_module": "@jupyter-widgets/controls",
      "model_module_version": "1.5.0",
      "model_name": "DescriptionStyleModel",
      "state": {
       "description_width": ""
      }
     },
     "524573dfc9b3457eb1fc65d94bd5cc19": {
      "model_module": "@quantum/ibm-q-lab-widgets",
      "model_module_version": "^1.0.3",
      "model_name": "CircuitComposerModel",
      "state": {
       "_model_module_version": "^1.0.3",
       "_view_module_version": "^1.0.3",
       "circuit": "\"OPENQASM 2.0;\\ninclude \\\"qelib1.inc\\\";\\n\\nqreg q29[3];\\ncreg c2[3];\\n\\ncx q29[1],q29[2];\\ncx q29[0],q29[2];\\nccx q29[0],q29[1],q29[2];\\nmeasure q29[2] -> c2[0];\"",
       "editable": true,
       "layout": "IPY_MODEL_a4b896b34a244855abd723ca174724cf",
       "qiskit_code_cell_index": -1
      }
     },
     "52b7a4d861f34d46b947838bca90c284": {
      "model_module": "@jupyter-widgets/base",
      "model_module_version": "1.2.0",
      "model_name": "LayoutModel",
      "state": {}
     },
     "539edb2fa7d64f7d8fc82c8a6c9ca8f8": {
      "model_module": "@jupyter-widgets/controls",
      "model_module_version": "1.5.0",
      "model_name": "DescriptionStyleModel",
      "state": {
       "description_width": ""
      }
     },
     "53a3f392a64b4b16907ba5432fbd75ba": {
      "model_module": "@jupyter-widgets/base",
      "model_module_version": "1.2.0",
      "model_name": "LayoutModel",
      "state": {}
     },
     "548e972a51da40e59bfaef01d57be088": {
      "model_module": "@quantum/ibm-q-lab-widgets",
      "model_module_version": "^1.0.3",
      "model_name": "CircuitComposerModel",
      "state": {
       "_model_module_version": "^1.0.3",
       "_view_module_version": "^1.0.3",
       "circuit": "\"OPENQASM 2.0;\\ninclude \\\"qelib1.inc\\\";\\n\\nqreg q[3];\\ncreg c[3];\\n\\nswap q[0],q[1];\\nz q[2];\"",
       "editable": true,
       "layout": "IPY_MODEL_faab740a976848f08ac890a0120e954c",
       "qiskit_code_cell_index": -1
      }
     },
     "54efbfd8da3447b3b19543ec279e915b": {
      "model_module": "@jupyter-widgets/controls",
      "model_module_version": "1.5.0",
      "model_name": "HTMLModel",
      "state": {
       "layout": "IPY_MODEL_e63ca0a4b446490daf05d3f795cd346e",
       "style": "IPY_MODEL_d813abd4f19d43f4a5a0dffecb2f433a",
       "value": "<h5>Job ID</h5>"
      }
     },
     "55f86eb388c2442283628ff2043c9385": {
      "model_module": "@jupyter-widgets/controls",
      "model_module_version": "1.5.0",
      "model_name": "HBoxModel",
      "state": {
       "children": [
        "IPY_MODEL_14e8c2acb28b48479a3f576feb0c0a75",
        "IPY_MODEL_b5cf49e4ff684a9db08840ab0a980035",
        "IPY_MODEL_5d4b99b53a55436db64f13abe8ed4bf4",
        "IPY_MODEL_d0de14d57e3d4a6ca32e7bc02a805600",
        "IPY_MODEL_c2c9c6b295d843cba77b4835e43fec85"
       ],
       "layout": "IPY_MODEL_59a5b35ab93e4224afa2ecac49171bdf"
      }
     },
     "5617775f6e0240b0bafd6c591c590c2e": {
      "model_module": "@jupyter-widgets/base",
      "model_module_version": "1.2.0",
      "model_name": "LayoutModel",
      "state": {}
     },
     "565a6f272c6e41e8a9c1a7d6ec236c5a": {
      "model_module": "@jupyter-widgets/base",
      "model_module_version": "1.2.0",
      "model_name": "LayoutModel",
      "state": {}
     },
     "56fb45c8fe2f429e86a11e69e17f6b5c": {
      "model_module": "@jupyter-widgets/base",
      "model_module_version": "1.2.0",
      "model_name": "LayoutModel",
      "state": {
       "width": "95px"
      }
     },
     "57e0ccc3cf694508933fdb6e66835851": {
      "model_module": "@jupyter-widgets/base",
      "model_module_version": "1.2.0",
      "model_name": "LayoutModel",
      "state": {}
     },
     "588bc871b8504160921bb354051fb360": {
      "model_module": "@jupyter-widgets/controls",
      "model_module_version": "1.5.0",
      "model_name": "GridBoxModel",
      "state": {
       "children": [
        "IPY_MODEL_e695ad78ca804203a654c3eb4b097ab7"
       ],
       "layout": "IPY_MODEL_0d0ccd77aa0a49d68bb466838a3f5214"
      }
     },
     "58dc1b9b38d24ed49244be4634dbfd75": {
      "model_module": "@jupyter-widgets/base",
      "model_module_version": "1.2.0",
      "model_name": "LayoutModel",
      "state": {
       "margin": "0px 0px 10px 0px"
      }
     },
     "58df896f45dd4fc480852242017408a4": {
      "model_module": "@jupyter-widgets/controls",
      "model_module_version": "1.5.0",
      "model_name": "ButtonModel",
      "state": {
       "button_style": "primary",
       "description": "Clear",
       "layout": "IPY_MODEL_708f57cb5f17430db0df148fcad6d731",
       "style": "IPY_MODEL_b09656910fce43c2aa88f441e8ae49b1"
      }
     },
     "5901f5b47e3c4e06bcfb63ff4463ed63": {
      "model_module": "@jupyter-widgets/controls",
      "model_module_version": "1.5.0",
      "model_name": "HTMLModel",
      "state": {
       "layout": "IPY_MODEL_92b84366ab0e4745bf4558430002b003",
       "style": "IPY_MODEL_26cb2ef0ef144ba299224d37e4b427bd",
       "value": "<h5>Queue</h5>"
      }
     },
     "59a5b35ab93e4224afa2ecac49171bdf": {
      "model_module": "@jupyter-widgets/base",
      "model_module_version": "1.2.0",
      "model_name": "LayoutModel",
      "state": {
       "margin": "0px 0px 0px 37px",
       "width": "600px"
      }
     },
     "59adb0fd062b4416a6869480b9acc0e1": {
      "model_module": "@jupyter-widgets/controls",
      "model_module_version": "1.5.0",
      "model_name": "HTMLModel",
      "state": {
       "layout": "IPY_MODEL_6f15393cd1824bbb982518094b13478e",
       "style": "IPY_MODEL_5238da7ddc1e4b659a3feb351eb7b3d4",
       "value": "<h5>Status</h5>"
      }
     },
     "59af2373b1854b66826e9d1b4752c19a": {
      "model_module": "@jupyter-widgets/base",
      "model_module_version": "1.2.0",
      "model_name": "LayoutModel",
      "state": {
       "margin": "0px 0px 10px 0px"
      }
     },
     "5a1b4823434e45edac423b5cf0fcbbcf": {
      "model_module": "@jupyter-widgets/controls",
      "model_module_version": "1.5.0",
      "model_name": "HBoxModel",
      "state": {
       "children": [
        "IPY_MODEL_8ea306f791db457b90507ec65f340861",
        "IPY_MODEL_aed2fff20a4a42d281bc7563fe6254ec",
        "IPY_MODEL_9b5c2380d1f64e5ba44920313943086c",
        "IPY_MODEL_bee7af23f12e42298f23a7ff2a775cb3",
        "IPY_MODEL_8bc40f254f74420fb63df5318f871ea7"
       ],
       "layout": "IPY_MODEL_9bc7db62d4d541cd92e7cd19d340bf19"
      }
     },
     "5b954be6f7cf4d63b93eca6bfa84bc2b": {
      "model_module": "@jupyter-widgets/base",
      "model_module_version": "1.2.0",
      "model_name": "LayoutModel",
      "state": {
       "width": "95px"
      }
     },
     "5bc193b0eeb1448f910da3da50af72be": {
      "model_module": "@jupyter-widgets/base",
      "model_module_version": "1.2.0",
      "model_name": "LayoutModel",
      "state": {
       "width": "95px"
      }
     },
     "5bfc0f9613df450989a98e0a200d3b2f": {
      "model_module": "@jupyter-widgets/base",
      "model_module_version": "1.2.0",
      "model_name": "LayoutModel",
      "state": {
       "margin": "0px 0px 0px 37px",
       "width": "600px"
      }
     },
     "5c5b2c7391ff46ada2f9d2f3b2492762": {
      "model_module": "@jupyter-widgets/controls",
      "model_module_version": "1.5.0",
      "model_name": "HTMLModel",
      "state": {
       "layout": "IPY_MODEL_dc1c71ed198447fe97929c7e4e7b889f",
       "style": "IPY_MODEL_df8d9601fbb84f53bbcaf189b5e16430",
       "value": "<p style='font-family: IBM Plex Sans, Arial, Helvetica, sans-serif; font-size: 20px; font-weight: medium;'>Circuit Properties</p>"
      }
     },
     "5d424631bc2546f7b402aa7e7ccb75ca": {
      "model_module": "@jupyter-widgets/base",
      "model_module_version": "1.2.0",
      "model_name": "LayoutModel",
      "state": {
       "width": "190px"
      }
     },
     "5d49d5dc262f49b5b489d94e32d0e3eb": {
      "model_module": "@jupyter-widgets/controls",
      "model_module_version": "1.5.0",
      "model_name": "DescriptionStyleModel",
      "state": {
       "description_width": ""
      }
     },
     "5d4b99b53a55436db64f13abe8ed4bf4": {
      "model_module": "@jupyter-widgets/controls",
      "model_module_version": "1.5.0",
      "model_name": "HTMLModel",
      "state": {
       "layout": "IPY_MODEL_ed2398d7377940a19feadec9738c8911",
       "style": "IPY_MODEL_7e436ffd7e3a4f05bf1d5598fef6d6dc",
       "value": "<h5>Status</h5>"
      }
     },
     "5e0164820c4e4fe19740e00a387699ca": {
      "model_module": "@quantum/ibm-q-lab-widgets",
      "model_module_version": "^1.0.3",
      "model_name": "CircuitComposerModel",
      "state": {
       "_model_module_version": "^1.0.3",
       "_view_module_version": "^1.0.3",
       "circuit": "\"OPENQASM 2.0;\\ninclude \\\"qelib1.inc\\\";\\n\\nqreg q2[3];\\ncreg c1[3];\\n\\ncx q2[1],q2[2];\\ncx q2[0],q2[2];\\nccx q2[0],q2[1],q2[2];\\nx q2[2];\\nmeasure q2[2] -> c1[0];\"",
       "editable": true,
       "layout": "IPY_MODEL_190ab006afe144f38c0f9abe87812c1c",
       "qiskit_code_cell_index": 47
      }
     },
     "5e2164ebdde64440b793779b9188b83d": {
      "model_module": "@jupyter-widgets/base",
      "model_module_version": "1.2.0",
      "model_name": "LayoutModel",
      "state": {}
     },
     "5ea9466bb7114fb085a065ae44e374e6": {
      "model_module": "@jupyter-widgets/base",
      "model_module_version": "1.2.0",
      "model_name": "LayoutModel",
      "state": {}
     },
     "5eb85f37ded7402f93252122f2ef5c20": {
      "model_module": "@jupyter-widgets/base",
      "model_module_version": "1.2.0",
      "model_name": "LayoutModel",
      "state": {}
     },
     "5ed4af38f61345b881395254191fa693": {
      "model_module": "@jupyter-widgets/controls",
      "model_module_version": "1.5.0",
      "model_name": "HBoxModel",
      "state": {
       "children": [
        "IPY_MODEL_d89af909d9b449f78f7ad0d3992f8dec",
        "IPY_MODEL_d08d82ed729f4159a75b712499aad162",
        "IPY_MODEL_2b9798c62a184803ae701efa4c985337",
        "IPY_MODEL_f85491e06e184d8ea92219eabe3d965f",
        "IPY_MODEL_f193048343fd41128afbeb8eca6e7401"
       ],
       "layout": "IPY_MODEL_a2cf13b0153145f8ac7d332020f87ffd"
      }
     },
     "5f4a503db4894223b5dfa7edaff2a2ba": {
      "model_module": "@jupyter-widgets/controls",
      "model_module_version": "1.5.0",
      "model_name": "DescriptionStyleModel",
      "state": {
       "description_width": ""
      }
     },
     "5fa5e5ac4e9f420dbd2c859eeed13c74": {
      "model_module": "@quantum/ibm-q-lab-widgets",
      "model_module_version": "^1.0.3",
      "model_name": "CircuitComposerModel",
      "state": {
       "_model_module_version": "^1.0.3",
       "_view_module_version": "^1.0.3",
       "circuit": "\"OPENQASM 2.0;\\ninclude \\\"qelib1.inc\\\";\\n\\nqreg q3[3];\\ncreg c3[3];\\n\\ncx q3[1],q3[2];\\ncx q3[0],q3[2];\\nccx q3[0],q3[1],q3[2];\\nx q3[2];\\nmeasure q3[2] -> c3[0];\"",
       "editable": true,
       "layout": "IPY_MODEL_0c2790117be5423b9b19274d3a3c386a",
       "qiskit_code_cell_index": 34
      }
     },
     "602567b829324270a8ac201d69a4df37": {
      "model_module": "@jupyter-widgets/base",
      "model_module_version": "1.2.0",
      "model_name": "LayoutModel",
      "state": {}
     },
     "602fd472a90e4e0881c932ac3137a452": {
      "model_module": "@jupyter-widgets/base",
      "model_module_version": "1.2.0",
      "model_name": "LayoutModel",
      "state": {
       "width": "95px"
      }
     },
     "60d9d629460144a688bb2e9773b36ef1": {
      "model_module": "@jupyter-widgets/base",
      "model_module_version": "1.2.0",
      "model_name": "LayoutModel",
      "state": {
       "grid_area": "right",
       "padding": "0px 0px 0px 0px",
       "width": "70px"
      }
     },
     "615af80a815142e9ae2f628501d2a061": {
      "model_module": "@jupyter-widgets/controls",
      "model_module_version": "1.5.0",
      "model_name": "DescriptionStyleModel",
      "state": {
       "description_width": ""
      }
     },
     "61aeb577b8eb48e18a4b87207c5f8963": {
      "model_module": "@jupyter-widgets/base",
      "model_module_version": "1.2.0",
      "model_name": "LayoutModel",
      "state": {
       "grid_area": "right",
       "padding": "0px 0px 0px 0px",
       "width": "70px"
      }
     },
     "626bcbf09ded4e12afa57f4a476189b0": {
      "model_module": "@jupyter-widgets/controls",
      "model_module_version": "1.5.0",
      "model_name": "DescriptionStyleModel",
      "state": {
       "description_width": ""
      }
     },
     "62c3c65bf4b641df91023a0da1721604": {
      "model_module": "@jupyter-widgets/base",
      "model_module_version": "1.2.0",
      "model_name": "LayoutModel",
      "state": {}
     },
     "62fed7858e2d4d5e8efe1b6a4b529075": {
      "model_module": "@jupyter-widgets/controls",
      "model_module_version": "1.5.0",
      "model_name": "DescriptionStyleModel",
      "state": {
       "description_width": ""
      }
     },
     "63250eaac69b49b3bb8906e8b51782f8": {
      "model_module": "@jupyter-widgets/controls",
      "model_module_version": "1.5.0",
      "model_name": "HBoxModel",
      "state": {
       "children": [
        "IPY_MODEL_711101cbd9724bfc9741364f1ee35bf6",
        "IPY_MODEL_9195aa3bf23a4f1db12c184ef545292c",
        "IPY_MODEL_1d98343600cd4098b9b788327fe207ff",
        "IPY_MODEL_692243ec871840548696b28ef1a71b0f",
        "IPY_MODEL_d49fb7f7f12c494aba1cead52c0259ff"
       ],
       "layout": "IPY_MODEL_338a750d86c34cd6842713614c3f386c"
      }
     },
     "63b9f8f7a3e04a5cb8bf7488f1d8cc75": {
      "model_module": "@quantum/ibm-q-lab-widgets",
      "model_module_version": "^1.0.3",
      "model_name": "CircuitComposerModel",
      "state": {
       "_model_module_version": "^1.0.3",
       "_view_module_version": "^1.0.3",
       "circuit": "\"OPENQASM 2.0;\\ninclude \\\"qelib1.inc\\\";\\n\\nqreg q[3];\\ncreg c[3];\\n\\n\"",
       "editable": true,
       "layout": "IPY_MODEL_512ecf2552b446b09dd0d4623e53676f",
       "qiskit_code_cell_index": -1
      }
     },
     "642c9ceedc4140cdb66870edf338b9c2": {
      "model_module": "@jupyter-widgets/base",
      "model_module_version": "1.2.0",
      "model_name": "LayoutModel",
      "state": {
       "grid_area": "right",
       "padding": "0px 0px 0px 0px",
       "width": "70px"
      }
     },
     "646f38fbda294bc1b82e21ec5c417b63": {
      "model_module": "@jupyter-widgets/controls",
      "model_module_version": "1.5.0",
      "model_name": "DescriptionStyleModel",
      "state": {
       "description_width": ""
      }
     },
     "647adaf252504ebb89f5ac424e82288b": {
      "model_module": "@jupyter-widgets/base",
      "model_module_version": "1.2.0",
      "model_name": "LayoutModel",
      "state": {}
     },
     "663821625faf4cf18279a0cb70a5df3b": {
      "model_module": "@jupyter-widgets/controls",
      "model_module_version": "1.5.0",
      "model_name": "HTMLModel",
      "state": {
       "layout": "IPY_MODEL_a0669cb8aa644cd1bbe036acbd656053",
       "style": "IPY_MODEL_1fcda1a45e3e47b0b03746787b6eec9e",
       "value": "<h5>Queue</h5>"
      }
     },
     "66423f7c452749c1a55a4e6885cf4ac6": {
      "model_module": "@jupyter-widgets/base",
      "model_module_version": "1.2.0",
      "model_name": "LayoutModel",
      "state": {}
     },
     "685e193ac6ee4050870c824dd57d9e2b": {
      "model_module": "@jupyter-widgets/base",
      "model_module_version": "1.2.0",
      "model_name": "LayoutModel",
      "state": {
       "margin": "0px 0px 10px 0px"
      }
     },
     "6863cbb083e04d5c9c1a95731ce70f20": {
      "model_module": "@jupyter-widgets/base",
      "model_module_version": "1.2.0",
      "model_name": "LayoutModel",
      "state": {
       "width": "145px"
      }
     },
     "692243ec871840548696b28ef1a71b0f": {
      "model_module": "@jupyter-widgets/controls",
      "model_module_version": "1.5.0",
      "model_name": "HTMLModel",
      "state": {
       "layout": "IPY_MODEL_6e4aa442580040c4a11667fa19022af5",
       "style": "IPY_MODEL_467754524cdf4049b19bd6ea03eca647",
       "value": "<h5>Queue</h5>"
      }
     },
     "69ea08366f8e4be08dddde0c0fbcc764": {
      "model_module": "@jupyter-widgets/base",
      "model_module_version": "1.2.0",
      "model_name": "LayoutModel",
      "state": {}
     },
     "6aa1493f207842bba2c6300020935a88": {
      "model_module": "@jupyter-widgets/controls",
      "model_module_version": "1.5.0",
      "model_name": "DescriptionStyleModel",
      "state": {
       "description_width": ""
      }
     },
     "6aa4a23a6b6d4519b7e4587b09caded8": {
      "model_module": "@jupyter-widgets/controls",
      "model_module_version": "1.5.0",
      "model_name": "DescriptionStyleModel",
      "state": {
       "description_width": ""
      }
     },
     "6b4e274670fe40068558a248feeffa6a": {
      "model_module": "@jupyter-widgets/base",
      "model_module_version": "1.2.0",
      "model_name": "LayoutModel",
      "state": {}
     },
     "6ba14da99fbb492d8c19ed1663b0c316": {
      "model_module": "@jupyter-widgets/controls",
      "model_module_version": "1.5.0",
      "model_name": "DescriptionStyleModel",
      "state": {
       "description_width": ""
      }
     },
     "6c228e5b113d4a998c9ddb2245170d23": {
      "model_module": "@jupyter-widgets/controls",
      "model_module_version": "1.5.0",
      "model_name": "HTMLModel",
      "state": {
       "layout": "IPY_MODEL_522abd193d5143a6bd304bb1f5073fa0",
       "style": "IPY_MODEL_d1e4ae0f595b4df19d172c6af221c849",
       "value": "<h5>Queue</h5>"
      }
     },
     "6c9e2fcaa9a94d0aa61975a91a432150": {
      "model_module": "@jupyter-widgets/base",
      "model_module_version": "1.2.0",
      "model_name": "LayoutModel",
      "state": {
       "width": "145px"
      }
     },
     "6cc701461412458ca8245149cec18326": {
      "model_module": "@jupyter-widgets/base",
      "model_module_version": "1.2.0",
      "model_name": "LayoutModel",
      "state": {}
     },
     "6d78da2cb743401b88df3de8f2a62634": {
      "model_module": "@jupyter-widgets/controls",
      "model_module_version": "1.5.0",
      "model_name": "ButtonModel",
      "state": {
       "button_style": "primary",
       "description": "Clear",
       "layout": "IPY_MODEL_61aeb577b8eb48e18a4b87207c5f8963",
       "style": "IPY_MODEL_e143cd6b9bdd4026b13ed57fc89715b5"
      }
     },
     "6d7ad7f0b06f4995b487297d0ccbd9a0": {
      "model_module": "@quantum/ibm-q-lab-widgets",
      "model_module_version": "^1.0.3",
      "model_name": "CircuitComposerModel",
      "state": {
       "_model_module_version": "^1.0.3",
       "_view_module_version": "^1.0.3",
       "circuit": "\"OPENQASM 2.0;\\ninclude \\\"qelib1.inc\\\";\\n\\nqreg q[3];\\ncreg c[3];\\n\\n\"",
       "editable": true,
       "layout": "IPY_MODEL_6e54f495f9e34958abf09fe70ba8a7a6",
       "qiskit_code_cell_index": -1
      }
     },
     "6dbddc0ddb0a4ecc9df90c8cfd27fc66": {
      "model_module": "@jupyter-widgets/base",
      "model_module_version": "1.2.0",
      "model_name": "LayoutModel",
      "state": {
       "grid_template_areas": "\n                                       \". . . . right \"\n                                        ",
       "grid_template_columns": "20% 20% 20% 20% 20%",
       "width": "100%"
      }
     },
     "6deb558b337f49df897c73c33b6260bf": {
      "model_module": "@quantum/ibm-q-lab-widgets",
      "model_module_version": "^1.0.3",
      "model_name": "CircuitComposerModel",
      "state": {
       "_model_module_version": "^1.0.3",
       "_view_module_version": "^1.0.3",
       "circuit": "\"OPENQASM 2.0;\\ninclude \\\"qelib1.inc\\\";\\n\\nqreg q3[3];\\ncreg c3[3];\\n\\ncx q3[1],q3[2];\\ncx q3[0],q3[2];\\nccx q3[0],q3[1],q3[2];\\nmeasure q3[2] -> c3[0];\"",
       "editable": true,
       "layout": "IPY_MODEL_6b4e274670fe40068558a248feeffa6a",
       "qiskit_code_cell_index": -1
      }
     },
     "6df98145a8614a84b72c65622704b00a": {
      "model_module": "@jupyter-widgets/controls",
      "model_module_version": "1.5.0",
      "model_name": "DescriptionStyleModel",
      "state": {
       "description_width": ""
      }
     },
     "6e4aa442580040c4a11667fa19022af5": {
      "model_module": "@jupyter-widgets/base",
      "model_module_version": "1.2.0",
      "model_name": "LayoutModel",
      "state": {
       "width": "70px"
      }
     },
     "6e54f495f9e34958abf09fe70ba8a7a6": {
      "model_module": "@jupyter-widgets/base",
      "model_module_version": "1.2.0",
      "model_name": "LayoutModel",
      "state": {}
     },
     "6e6dcd0ba35c40cbb57375b033fec87f": {
      "model_module": "@jupyter-widgets/controls",
      "model_module_version": "1.5.0",
      "model_name": "GridBoxModel",
      "state": {
       "children": [
        "IPY_MODEL_32f919e0f5134760a9df0d89d2e77b51"
       ],
       "layout": "IPY_MODEL_01ec1d1813484c968dbcca4b508b99e4"
      }
     },
     "6f05f9fe4c734814ae7c24818dd8c8e4": {
      "model_module": "@jupyter-widgets/base",
      "model_module_version": "1.2.0",
      "model_name": "LayoutModel",
      "state": {
       "width": "190px"
      }
     },
     "6f15393cd1824bbb982518094b13478e": {
      "model_module": "@jupyter-widgets/base",
      "model_module_version": "1.2.0",
      "model_name": "LayoutModel",
      "state": {
       "width": "95px"
      }
     },
     "6fffde7c383f4bbeb8ebb3faea17920e": {
      "model_module": "@jupyter-widgets/base",
      "model_module_version": "1.2.0",
      "model_name": "LayoutModel",
      "state": {
       "width": "145px"
      }
     },
     "7039e4855fa24b4fb551de5b163bc636": {
      "model_module": "@jupyter-widgets/controls",
      "model_module_version": "1.5.0",
      "model_name": "DescriptionStyleModel",
      "state": {
       "description_width": ""
      }
     },
     "7073bbfee267411fbf836caeae310ca5": {
      "model_module": "@jupyter-widgets/controls",
      "model_module_version": "1.5.0",
      "model_name": "HTMLModel",
      "state": {
       "layout": "IPY_MODEL_a539ea37afa84225bda9b0b1a4124d73",
       "style": "IPY_MODEL_7ce557786a2d41cab652e557786eb0bc",
       "value": "<h5>Job ID</h5>"
      }
     },
     "708f57cb5f17430db0df148fcad6d731": {
      "model_module": "@jupyter-widgets/base",
      "model_module_version": "1.2.0",
      "model_name": "LayoutModel",
      "state": {
       "grid_area": "right",
       "padding": "0px 0px 0px 0px",
       "width": "70px"
      }
     },
     "711101cbd9724bfc9741364f1ee35bf6": {
      "model_module": "@jupyter-widgets/controls",
      "model_module_version": "1.5.0",
      "model_name": "HTMLModel",
      "state": {
       "layout": "IPY_MODEL_77119a792e294ddbbee08fcc30379c05",
       "style": "IPY_MODEL_6ba14da99fbb492d8c19ed1663b0c316",
       "value": "<h5>Job ID</h5>"
      }
     },
     "71b76fdeebd543f2a86f657a6e7a31c9": {
      "model_module": "@jupyter-widgets/controls",
      "model_module_version": "1.5.0",
      "model_name": "DescriptionStyleModel",
      "state": {
       "description_width": ""
      }
     },
     "71c11faf7d59453eb1a9aa7675fe3f68": {
      "model_module": "@jupyter-widgets/base",
      "model_module_version": "1.2.0",
      "model_name": "LayoutModel",
      "state": {}
     },
     "72656d306b10434fb73aa01b09f15b85": {
      "model_module": "@jupyter-widgets/controls",
      "model_module_version": "1.5.0",
      "model_name": "ButtonStyleModel",
      "state": {}
     },
     "733280e940c8467c98f8dad1d664c470": {
      "model_module": "@jupyter-widgets/base",
      "model_module_version": "1.2.0",
      "model_name": "LayoutModel",
      "state": {}
     },
     "744f1cadf5124e6695ed0ce837a98414": {
      "model_module": "@jupyter-widgets/controls",
      "model_module_version": "1.5.0",
      "model_name": "DescriptionStyleModel",
      "state": {
       "description_width": ""
      }
     },
     "74519cce23de44ca8ee162293804ce2c": {
      "model_module": "@jupyter-widgets/base",
      "model_module_version": "1.2.0",
      "model_name": "LayoutModel",
      "state": {}
     },
     "746eefff70994b2ca689a2790ab4e164": {
      "model_module": "@jupyter-widgets/controls",
      "model_module_version": "1.5.0",
      "model_name": "ButtonStyleModel",
      "state": {}
     },
     "74f24cd3a4464234a81526166562b963": {
      "model_module": "@jupyter-widgets/controls",
      "model_module_version": "1.5.0",
      "model_name": "DescriptionStyleModel",
      "state": {
       "description_width": ""
      }
     },
     "7568b8a678284642aaa444741d4a26a5": {
      "model_module": "@jupyter-widgets/controls",
      "model_module_version": "1.5.0",
      "model_name": "HBoxModel",
      "state": {
       "children": [
        "IPY_MODEL_7073bbfee267411fbf836caeae310ca5",
        "IPY_MODEL_2a0fc29ac3d44f4c9b57e3851cffb1d1",
        "IPY_MODEL_99347a4d58dc47348a9578c398b24209",
        "IPY_MODEL_6c228e5b113d4a998c9ddb2245170d23",
        "IPY_MODEL_a54bf7efb7cd44c2a489e20092ccfadb"
       ],
       "layout": "IPY_MODEL_e29f6ed0cb8f41cb913d36c9457a2c1b"
      }
     },
     "76b56b1183514586b8a28fd90a4f76d8": {
      "model_module": "@jupyter-widgets/controls",
      "model_module_version": "1.5.0",
      "model_name": "GridBoxModel",
      "state": {
       "children": [
        "IPY_MODEL_8c6217d8abbc419e86dade3c4630ae4a"
       ],
       "layout": "IPY_MODEL_445317bcd81a4c328824dea9ff477ed7"
      }
     },
     "77119a792e294ddbbee08fcc30379c05": {
      "model_module": "@jupyter-widgets/base",
      "model_module_version": "1.2.0",
      "model_name": "LayoutModel",
      "state": {
       "width": "190px"
      }
     },
     "77570b98646b4e6b8ee7602f2234bca1": {
      "model_module": "@quantum/ibm-q-lab-widgets",
      "model_module_version": "^1.0.3",
      "model_name": "CircuitComposerModel",
      "state": {
       "_model_module_version": "^1.0.3",
       "_view_module_version": "^1.0.3",
       "circuit": "\"OPENQASM 2.0;\\ninclude \\\"qelib1.inc\\\";\\n\\nqreg q[3];\\ncreg c[3];\\n\\n\"",
       "editable": true,
       "layout": "IPY_MODEL_d206048b600b470fa0e695c6a2c29915",
       "qiskit_code_cell_index": -1
      }
     },
     "776b4b70a59846898f102ac3e50852a2": {
      "model_module": "@jupyter-widgets/controls",
      "model_module_version": "1.5.0",
      "model_name": "DescriptionStyleModel",
      "state": {
       "description_width": ""
      }
     },
     "77bcaf6d5cdd4db2a5d70a7b8a493456": {
      "model_module": "@jupyter-widgets/controls",
      "model_module_version": "1.5.0",
      "model_name": "DescriptionStyleModel",
      "state": {
       "description_width": ""
      }
     },
     "7821ec4026ad477cba313d37ea9131ee": {
      "model_module": "@jupyter-widgets/base",
      "model_module_version": "1.2.0",
      "model_name": "LayoutModel",
      "state": {
       "margin": "0px 0px 10px 0px"
      }
     },
     "78c05694575a4c6d843467f766cb5ceb": {
      "model_module": "@jupyter-widgets/controls",
      "model_module_version": "1.5.0",
      "model_name": "DescriptionStyleModel",
      "state": {
       "description_width": ""
      }
     },
     "78f8fc1fadbf4fd480defe0f2e557997": {
      "model_module": "@jupyter-widgets/controls",
      "model_module_version": "1.5.0",
      "model_name": "DescriptionStyleModel",
      "state": {
       "description_width": ""
      }
     },
     "791934bf3d9341cda49c154379622d16": {
      "model_module": "@jupyter-widgets/controls",
      "model_module_version": "1.5.0",
      "model_name": "DescriptionStyleModel",
      "state": {
       "description_width": ""
      }
     },
     "791ee719ffcf47699877ff7253a067a3": {
      "model_module": "@jupyter-widgets/controls",
      "model_module_version": "1.5.0",
      "model_name": "HTMLModel",
      "state": {
       "layout": "IPY_MODEL_bc4d49ec36884ca08d7e3c361c8f2eb9",
       "style": "IPY_MODEL_cb6e53942e7d45c7a8ca94514e6d2951",
       "value": "<h5>Message</h5>"
      }
     },
     "799fa903848b49e5b2b5b83869c3825c": {
      "model_module": "@jupyter-widgets/controls",
      "model_module_version": "1.5.0",
      "model_name": "HTMLModel",
      "state": {
       "layout": "IPY_MODEL_f62bbcfe06b54122ad83f33297fc140b",
       "style": "IPY_MODEL_e458643f1ca9444f854bfbe6e1923944",
       "value": "<h5>Queue</h5>"
      }
     },
     "7a6576a2ab9f40b0b5e0f9d2aee56d10": {
      "model_module": "@jupyter-widgets/base",
      "model_module_version": "1.2.0",
      "model_name": "LayoutModel",
      "state": {
       "width": "145px"
      }
     },
     "7aa1ea80fabc4a74a04a47d302486a90": {
      "model_module": "@jupyter-widgets/base",
      "model_module_version": "1.2.0",
      "model_name": "LayoutModel",
      "state": {}
     },
     "7b8426cc9f7244c98a8c22eca9c9eb18": {
      "model_module": "@jupyter-widgets/base",
      "model_module_version": "1.2.0",
      "model_name": "LayoutModel",
      "state": {}
     },
     "7ce3d8940b17469e9e285c7670e28900": {
      "model_module": "@jupyter-widgets/base",
      "model_module_version": "1.2.0",
      "model_name": "LayoutModel",
      "state": {}
     },
     "7ce557786a2d41cab652e557786eb0bc": {
      "model_module": "@jupyter-widgets/controls",
      "model_module_version": "1.5.0",
      "model_name": "DescriptionStyleModel",
      "state": {
       "description_width": ""
      }
     },
     "7d9409179b6849d08b4cf61e30b7f9f8": {
      "model_module": "@jupyter-widgets/base",
      "model_module_version": "1.2.0",
      "model_name": "LayoutModel",
      "state": {
       "grid_template_areas": "\n                                       \". . . . right \"\n                                        ",
       "grid_template_columns": "20% 20% 20% 20% 20%",
       "width": "100%"
      }
     },
     "7da40d40aaf44de5bee9dde02e9d3ae5": {
      "model_module": "@jupyter-widgets/controls",
      "model_module_version": "1.5.0",
      "model_name": "DescriptionStyleModel",
      "state": {
       "description_width": ""
      }
     },
     "7e216fc602244fb28f7b12c242a55747": {
      "model_module": "@jupyter-widgets/controls",
      "model_module_version": "1.5.0",
      "model_name": "DescriptionStyleModel",
      "state": {
       "description_width": ""
      }
     },
     "7e436ffd7e3a4f05bf1d5598fef6d6dc": {
      "model_module": "@jupyter-widgets/controls",
      "model_module_version": "1.5.0",
      "model_name": "DescriptionStyleModel",
      "state": {
       "description_width": ""
      }
     },
     "7e732e6c6ca4421fa05d83888515d312": {
      "model_module": "@jupyter-widgets/controls",
      "model_module_version": "1.5.0",
      "model_name": "ButtonModel",
      "state": {
       "button_style": "primary",
       "description": "Clear",
       "layout": "IPY_MODEL_2bd8b0b47bbb454dbc0457fc2070b2da",
       "style": "IPY_MODEL_2e195b1fe536491d841531d597416fa5"
      }
     },
     "7eb7d592b7364615842e585ec91e5d11": {
      "model_module": "@jupyter-widgets/controls",
      "model_module_version": "1.5.0",
      "model_name": "HTMLModel",
      "state": {
       "layout": "IPY_MODEL_e8845e95893040278aff985df15467dc",
       "style": "IPY_MODEL_d1335188923643bfb57240e633bab22a",
       "value": "<h5>Backend</h5>"
      }
     },
     "7f34b188d2de4f6698308fc62b378fab": {
      "model_module": "@jupyter-widgets/base",
      "model_module_version": "1.2.0",
      "model_name": "LayoutModel",
      "state": {
       "margin": "0px 0px 10px 0px"
      }
     },
     "7f7ec52f7c9d43d683e3bf46d5b8af28": {
      "model_module": "@jupyter-widgets/controls",
      "model_module_version": "1.5.0",
      "model_name": "ButtonStyleModel",
      "state": {}
     },
     "7fb7467660ba4818b224a760bf18d2d4": {
      "model_module": "@jupyter-widgets/base",
      "model_module_version": "1.2.0",
      "model_name": "LayoutModel",
      "state": {
       "width": "145px"
      }
     },
     "7fe6c00b49314d789b787affeddde540": {
      "model_module": "@quantum/ibm-q-lab-widgets",
      "model_module_version": "^1.0.3",
      "model_name": "CircuitComposerModel",
      "state": {
       "_model_module_version": "^1.0.3",
       "_view_module_version": "^1.0.3",
       "circuit": "\"OPENQASM 2.0;\\ninclude \\\"qelib1.inc\\\";\\n\\nqreg q[3];\\ncreg c[3];\\n\\n\"",
       "editable": true,
       "layout": "IPY_MODEL_deaed9cf498b41119d66b336d7bd2348",
       "qiskit_code_cell_index": -1
      }
     },
     "80ad5a6c1fc94be9b43465cfd51d345a": {
      "model_module": "@jupyter-widgets/controls",
      "model_module_version": "1.5.0",
      "model_name": "DescriptionStyleModel",
      "state": {
       "description_width": ""
      }
     },
     "81c00e1676ed404ca7efacd7c80fb9df": {
      "model_module": "@jupyter-widgets/controls",
      "model_module_version": "1.5.0",
      "model_name": "HTMLModel",
      "state": {
       "layout": "IPY_MODEL_a6ffbad732774df8bf8910abbd018ceb",
       "style": "IPY_MODEL_646f38fbda294bc1b82e21ec5c417b63",
       "value": "<h5>Status</h5>"
      }
     },
     "82231b026e924401b018112f62c5e103": {
      "model_module": "@jupyter-widgets/base",
      "model_module_version": "1.2.0",
      "model_name": "LayoutModel",
      "state": {
       "grid_template_areas": "\n                                       \". . . . right \"\n                                        ",
       "grid_template_columns": "20% 20% 20% 20% 20%",
       "width": "100%"
      }
     },
     "82b98116d62c4ebb892f4468d53c518c": {
      "model_module": "@jupyter-widgets/base",
      "model_module_version": "1.2.0",
      "model_name": "LayoutModel",
      "state": {
       "grid_area": "right",
       "padding": "0px 0px 0px 0px",
       "width": "70px"
      }
     },
     "852c60eab2d74300b9014d1e064ccacc": {
      "model_module": "@jupyter-widgets/base",
      "model_module_version": "1.2.0",
      "model_name": "LayoutModel",
      "state": {
       "width": "190px"
      }
     },
     "854dd58f9d564fc5a8a9ed09aaf3c44d": {
      "model_module": "@jupyter-widgets/base",
      "model_module_version": "1.2.0",
      "model_name": "LayoutModel",
      "state": {
       "width": "190px"
      }
     },
     "8551369d40ec48bd8b59681e53dc8761": {
      "model_module": "@jupyter-widgets/controls",
      "model_module_version": "1.5.0",
      "model_name": "GridBoxModel",
      "state": {
       "children": [
        "IPY_MODEL_6d78da2cb743401b88df3de8f2a62634"
       ],
       "layout": "IPY_MODEL_ac107e6edc494695971ac37c5661a386"
      }
     },
     "85525067dff94970af9dd5e04b5d4f95": {
      "model_module": "@jupyter-widgets/base",
      "model_module_version": "1.2.0",
      "model_name": "LayoutModel",
      "state": {}
     },
     "8568082cdd16496d851d248b56d69d2c": {
      "model_module": "@jupyter-widgets/base",
      "model_module_version": "1.2.0",
      "model_name": "LayoutModel",
      "state": {
       "width": "190px"
      }
     },
     "862e6925e2384b30961b06c36e059459": {
      "model_module": "@jupyter-widgets/controls",
      "model_module_version": "1.5.0",
      "model_name": "GridBoxModel",
      "state": {
       "children": [
        "IPY_MODEL_c23d34059bd94326a2db9a68e34a2296"
       ],
       "layout": "IPY_MODEL_264de026736c4158b88c260d5ad43c67"
      }
     },
     "867281371bda41c9a144f55b81f5cb41": {
      "model_module": "@jupyter-widgets/controls",
      "model_module_version": "1.5.0",
      "model_name": "HTMLModel",
      "state": {
       "layout": "IPY_MODEL_df958bfd89d04fc096f9002c8adf0b01",
       "style": "IPY_MODEL_09df53fcfd534ea3ac0ac8d3eba69d85",
       "value": "<h5>Queue</h5>"
      }
     },
     "87e5b80d6e534ef79b8c1311e137fd98": {
      "model_module": "@jupyter-widgets/base",
      "model_module_version": "1.2.0",
      "model_name": "LayoutModel",
      "state": {}
     },
     "883b175146d344bf9c74af87605d42fb": {
      "model_module": "@jupyter-widgets/base",
      "model_module_version": "1.2.0",
      "model_name": "LayoutModel",
      "state": {
       "width": "145px"
      }
     },
     "89aa7532228f44319c6b71354eb29dd3": {
      "model_module": "@jupyter-widgets/controls",
      "model_module_version": "1.5.0",
      "model_name": "ButtonStyleModel",
      "state": {}
     },
     "8a53040bf3a247678bb21bde9af43923": {
      "model_module": "@jupyter-widgets/controls",
      "model_module_version": "1.5.0",
      "model_name": "GridBoxModel",
      "state": {
       "children": [
        "IPY_MODEL_998d339fc5d14c328bd4b0431ab10de4"
       ],
       "layout": "IPY_MODEL_7d9409179b6849d08b4cf61e30b7f9f8"
      }
     },
     "8af40c979d2f4abf8eb79c65190883f4": {
      "model_module": "@jupyter-widgets/controls",
      "model_module_version": "1.5.0",
      "model_name": "DescriptionStyleModel",
      "state": {
       "description_width": ""
      }
     },
     "8af8905c98d14605aec36fc840b02344": {
      "model_module": "@jupyter-widgets/base",
      "model_module_version": "1.2.0",
      "model_name": "LayoutModel",
      "state": {
       "width": "70px"
      }
     },
     "8b3a8e1e875840d1b5f26a70860cfb00": {
      "model_module": "@jupyter-widgets/base",
      "model_module_version": "1.2.0",
      "model_name": "LayoutModel",
      "state": {
       "margin": "0px 0px 0px 37px",
       "width": "600px"
      }
     },
     "8b98c82060564483b39a625bdccd5376": {
      "model_module": "@jupyter-widgets/base",
      "model_module_version": "1.2.0",
      "model_name": "LayoutModel",
      "state": {}
     },
     "8bc40f254f74420fb63df5318f871ea7": {
      "model_module": "@jupyter-widgets/controls",
      "model_module_version": "1.5.0",
      "model_name": "HTMLModel",
      "state": {
       "layout": "IPY_MODEL_2d9a5f3ecb7844d9a235518bf29aa502",
       "style": "IPY_MODEL_8d80167d95cb401f9d40e10105415ebc",
       "value": "<h5>Message</h5>"
      }
     },
     "8c6217d8abbc419e86dade3c4630ae4a": {
      "model_module": "@jupyter-widgets/controls",
      "model_module_version": "1.5.0",
      "model_name": "ButtonModel",
      "state": {
       "button_style": "primary",
       "description": "Clear",
       "layout": "IPY_MODEL_60d9d629460144a688bb2e9773b36ef1",
       "style": "IPY_MODEL_3550cd9a049f480f8b952c93869e96e2"
      }
     },
     "8c70f0a9bbdf4282abc5ebed499d2b3d": {
      "model_module": "@jupyter-widgets/base",
      "model_module_version": "1.2.0",
      "model_name": "LayoutModel",
      "state": {}
     },
     "8c8ebb9ab7814f49b7f124610764c2a1": {
      "model_module": "@jupyter-widgets/controls",
      "model_module_version": "1.5.0",
      "model_name": "DescriptionStyleModel",
      "state": {
       "description_width": ""
      }
     },
     "8ce36385b1d940f786f5ca2cf45ef9e3": {
      "model_module": "@jupyter-widgets/base",
      "model_module_version": "1.2.0",
      "model_name": "LayoutModel",
      "state": {
       "width": "190px"
      }
     },
     "8d80167d95cb401f9d40e10105415ebc": {
      "model_module": "@jupyter-widgets/controls",
      "model_module_version": "1.5.0",
      "model_name": "DescriptionStyleModel",
      "state": {
       "description_width": ""
      }
     },
     "8e9c726f02214302bca28d27fcdb997e": {
      "model_module": "@jupyter-widgets/controls",
      "model_module_version": "1.5.0",
      "model_name": "HTMLModel",
      "state": {
       "layout": "IPY_MODEL_1c8068c149294210bb3ca556b2573ee4",
       "style": "IPY_MODEL_ef20b21a3be842a1932eabbd1d8f78d4",
       "value": "<h5>Queue</h5>"
      }
     },
     "8ea306f791db457b90507ec65f340861": {
      "model_module": "@jupyter-widgets/controls",
      "model_module_version": "1.5.0",
      "model_name": "HTMLModel",
      "state": {
       "layout": "IPY_MODEL_e6dbad990ed34d75859d6d820ea44eea",
       "style": "IPY_MODEL_615af80a815142e9ae2f628501d2a061",
       "value": "<h5>Job ID</h5>"
      }
     },
     "8ec78aac5d1449279de38faad5b8dd76": {
      "model_module": "@jupyter-widgets/base",
      "model_module_version": "1.2.0",
      "model_name": "LayoutModel",
      "state": {
       "width": "190px"
      }
     },
     "8fd2ff76c6d6443f893204196915d077": {
      "model_module": "@quantum/ibm-q-lab-widgets",
      "model_module_version": "^1.0.3",
      "model_name": "CircuitComposerModel",
      "state": {
       "_model_module_version": "^1.0.3",
       "_view_module_version": "^1.0.3",
       "circuit": "\"OPENQASM 2.0;\\ninclude \\\"qelib1.inc\\\";\\n\\nqreg q1[3];\\ncreg c1[3];\\n\\ncx q1[1],q1[2];\\ncx q1[0],q1[2];\\nccx q1[0],q1[1],q1[2];\\nmeasure q1[2] -> c1[0];\\nx q1[2];\\nmeasure q1[2] -> c1[0];\"",
       "editable": true,
       "layout": "IPY_MODEL_098146a76288479d8f34020f737f6605",
       "qiskit_code_cell_index": -1
      }
     },
     "901433422340420db62e9ae3127d4235": {
      "model_module": "@jupyter-widgets/base",
      "model_module_version": "1.2.0",
      "model_name": "LayoutModel",
      "state": {
       "width": "145px"
      }
     },
     "905541cbe239467da30cbd81517e9772": {
      "model_module": "@jupyter-widgets/controls",
      "model_module_version": "1.5.0",
      "model_name": "DescriptionStyleModel",
      "state": {
       "description_width": ""
      }
     },
     "907ca8dcd51d4ae99b6476f8c8286168": {
      "model_module": "@jupyter-widgets/controls",
      "model_module_version": "1.5.0",
      "model_name": "ButtonModel",
      "state": {
       "button_style": "primary",
       "description": "Clear",
       "layout": "IPY_MODEL_24b2811721fb477786959cc922d47fac",
       "style": "IPY_MODEL_95d8d7a648bd4ed8a9b3f20ae1afa148"
      }
     },
     "90a5746f0bfc425598c87b0865033aaf": {
      "model_module": "@jupyter-widgets/controls",
      "model_module_version": "1.5.0",
      "model_name": "HTMLModel",
      "state": {
       "layout": "IPY_MODEL_f716d34fb3e34c4e9731810376427b3b",
       "style": "IPY_MODEL_b5e2b7928d0249aaba6c60bb33f86a00",
       "value": "<p style='font-family: IBM Plex Sans, Arial, Helvetica, sans-serif; font-size: 20px; font-weight: medium;'>Circuit Properties</p>"
      }
     },
     "90b0ee9a82e741008e8569543d914998": {
      "model_module": "@jupyter-widgets/base",
      "model_module_version": "1.2.0",
      "model_name": "LayoutModel",
      "state": {
       "grid_template_areas": "\n                                       \". . . . right \"\n                                        ",
       "grid_template_columns": "20% 20% 20% 20% 20%",
       "width": "100%"
      }
     },
     "90cd23bb0ffe4124af34bee073d37774": {
      "model_module": "@jupyter-widgets/controls",
      "model_module_version": "1.5.0",
      "model_name": "DescriptionStyleModel",
      "state": {
       "description_width": ""
      }
     },
     "9195aa3bf23a4f1db12c184ef545292c": {
      "model_module": "@jupyter-widgets/controls",
      "model_module_version": "1.5.0",
      "model_name": "HTMLModel",
      "state": {
       "layout": "IPY_MODEL_6fffde7c383f4bbeb8ebb3faea17920e",
       "style": "IPY_MODEL_80ad5a6c1fc94be9b43465cfd51d345a",
       "value": "<h5>Backend</h5>"
      }
     },
     "92b84366ab0e4745bf4558430002b003": {
      "model_module": "@jupyter-widgets/base",
      "model_module_version": "1.2.0",
      "model_name": "LayoutModel",
      "state": {
       "width": "70px"
      }
     },
     "933383d4dae5451db183349b7948a6c8": {
      "model_module": "@quantum/ibm-q-lab-widgets",
      "model_module_version": "^1.0.3",
      "model_name": "CircuitComposerModel",
      "state": {
       "_model_module_version": "^1.0.3",
       "_view_module_version": "^1.0.3",
       "circuit": "\"OPENQASM 2.0;\\ninclude \\\"qelib1.inc\\\";\\n\\nqreg q[3];\\ncreg c[3];\\n\\n\"",
       "editable": true,
       "layout": "IPY_MODEL_1555d2ac5d1c4c93a2c43c5fc1189ac0",
       "qiskit_code_cell_index": -1
      }
     },
     "93bcccc0815f47f880a809b94c71b54b": {
      "model_module": "@quantum/ibm-q-lab-widgets",
      "model_module_version": "^1.0.3",
      "model_name": "CircuitComposerModel",
      "state": {
       "_model_module_version": "^1.0.3",
       "_view_module_version": "^1.0.3",
       "circuit": "\"OPENQASM 2.0;\\ninclude \\\"qelib1.inc\\\";\\n\\nqreg q[3];\\ncreg c[3];\\n\\nswap q[0],q[1];\\ncx q[1],q[2];\\nz q[2];\"",
       "editable": true,
       "layout": "IPY_MODEL_a59c703276e04f1caaf8770a25e129c9",
       "qiskit_code_cell_index": 41
      }
     },
     "94bc1af61c5747b2a910f1aecfbdeab9": {
      "model_module": "@jupyter-widgets/controls",
      "model_module_version": "1.5.0",
      "model_name": "HTMLModel",
      "state": {
       "layout": "IPY_MODEL_9b6e65a168e549fe9d00bef1ca440fd8",
       "style": "IPY_MODEL_1eb60f17514c47cdb7f2250c7d78f174",
       "value": "<h5>Status</h5>"
      }
     },
     "95d604d7edcc461ab11870eea046e295": {
      "model_module": "@jupyter-widgets/controls",
      "model_module_version": "1.5.0",
      "model_name": "DescriptionStyleModel",
      "state": {
       "description_width": ""
      }
     },
     "95d8d7a648bd4ed8a9b3f20ae1afa148": {
      "model_module": "@jupyter-widgets/controls",
      "model_module_version": "1.5.0",
      "model_name": "ButtonStyleModel",
      "state": {}
     },
     "9683e57a66a14fa7a77c054cee435a42": {
      "model_module": "@jupyter-widgets/base",
      "model_module_version": "1.2.0",
      "model_name": "LayoutModel",
      "state": {
       "margin": "0px 0px 0px 37px",
       "width": "600px"
      }
     },
     "96d5c6d26c994fc19a437928578a9b8d": {
      "model_module": "@jupyter-widgets/controls",
      "model_module_version": "1.5.0",
      "model_name": "HTMLModel",
      "state": {
       "layout": "IPY_MODEL_8af8905c98d14605aec36fc840b02344",
       "style": "IPY_MODEL_f2a6c5fa72fe4f8faed45ccab979cb03",
       "value": "<h5>Queue</h5>"
      }
     },
     "98114a2a92c047d6af5e6313aeb9d8d2": {
      "model_module": "@jupyter-widgets/controls",
      "model_module_version": "1.5.0",
      "model_name": "HTMLModel",
      "state": {
       "layout": "IPY_MODEL_58dc1b9b38d24ed49244be4634dbfd75",
       "style": "IPY_MODEL_bede716561ee493485972f70dfc0bba5",
       "value": "<p style='font-family: IBM Plex Sans, Arial, Helvetica, sans-serif; font-size: 20px; font-weight: medium;'>Circuit Properties</p>"
      }
     },
     "982f6afb37b548e19410dcc592c23d66": {
      "model_module": "@jupyter-widgets/base",
      "model_module_version": "1.2.0",
      "model_name": "LayoutModel",
      "state": {
       "grid_area": "right",
       "padding": "0px 0px 0px 0px",
       "width": "70px"
      }
     },
     "9834c3fc63694bcf870b45cb91b232e6": {
      "model_module": "@jupyter-widgets/controls",
      "model_module_version": "1.5.0",
      "model_name": "HTMLModel",
      "state": {
       "layout": "IPY_MODEL_aa6abca44fc44b51ab150b48beec45cc",
       "style": "IPY_MODEL_28774d699ac64c6f8080058a12362bb3",
       "value": "<p style='font-family: IBM Plex Sans, Arial, Helvetica, sans-serif; font-size: 20px; font-weight: medium;'>Circuit Properties</p>"
      }
     },
     "986764d62f5b4e28b358ca5b8203b672": {
      "model_module": "@quantum/ibm-q-lab-widgets",
      "model_module_version": "^1.0.3",
      "model_name": "CircuitComposerModel",
      "state": {
       "_model_module_version": "^1.0.3",
       "_view_module_version": "^1.0.3",
       "circuit": "\"OPENQASM 2.0;\\ninclude \\\"qelib1.inc\\\";\\n\\nqreg q3[1];\\ncreg c2[1];\\n\\nrz(pi/2) q3[0];\\nsx q3[0];\\nrz(pi/2) q3[0];\"",
       "editable": true,
       "layout": "IPY_MODEL_8c70f0a9bbdf4282abc5ebed499d2b3d",
       "qiskit_code_cell_index": -1
      }
     },
     "988545c15da74334bc930567aa91dfb8": {
      "model_module": "@jupyter-widgets/base",
      "model_module_version": "1.2.0",
      "model_name": "LayoutModel",
      "state": {
       "margin": "0px 0px 0px 37px",
       "width": "600px"
      }
     },
     "99347a4d58dc47348a9578c398b24209": {
      "model_module": "@jupyter-widgets/controls",
      "model_module_version": "1.5.0",
      "model_name": "HTMLModel",
      "state": {
       "layout": "IPY_MODEL_437750a22d3f469f91ab47ad757e2a45",
       "style": "IPY_MODEL_6aa1493f207842bba2c6300020935a88",
       "value": "<h5>Status</h5>"
      }
     },
     "998d339fc5d14c328bd4b0431ab10de4": {
      "model_module": "@jupyter-widgets/controls",
      "model_module_version": "1.5.0",
      "model_name": "ButtonModel",
      "state": {
       "button_style": "primary",
       "description": "Clear",
       "layout": "IPY_MODEL_642c9ceedc4140cdb66870edf338b9c2",
       "style": "IPY_MODEL_2dbfeffcb9814e2bb68f0a08f38d9b18"
      }
     },
     "9af0592a04a74f3e9ab218f471927763": {
      "model_module": "@jupyter-widgets/controls",
      "model_module_version": "1.5.0",
      "model_name": "HTMLModel",
      "state": {
       "layout": "IPY_MODEL_157664f9cd124216918b16ca4a323852",
       "style": "IPY_MODEL_ff701b3970a84131991b6d665a19e178",
       "value": "<h5>Queue</h5>"
      }
     },
     "9b2b9391cdc54e7f84bcd80736977d8a": {
      "model_module": "@jupyter-widgets/base",
      "model_module_version": "1.2.0",
      "model_name": "LayoutModel",
      "state": {
       "width": "70px"
      }
     },
     "9b5c2380d1f64e5ba44920313943086c": {
      "model_module": "@jupyter-widgets/controls",
      "model_module_version": "1.5.0",
      "model_name": "HTMLModel",
      "state": {
       "layout": "IPY_MODEL_d690abc463d64f80a2722d23de682e74",
       "style": "IPY_MODEL_a98982e7bd1044a3aac97cd7170b937d",
       "value": "<h5>Status</h5>"
      }
     },
     "9b6e65a168e549fe9d00bef1ca440fd8": {
      "model_module": "@jupyter-widgets/base",
      "model_module_version": "1.2.0",
      "model_name": "LayoutModel",
      "state": {
       "width": "95px"
      }
     },
     "9b84d672eef14b73ae75bf47a9e0aa58": {
      "model_module": "@quantum/ibm-q-lab-widgets",
      "model_module_version": "^1.0.3",
      "model_name": "CircuitComposerModel",
      "state": {
       "_model_module_version": "^1.0.3",
       "_view_module_version": "^1.0.3",
       "circuit": "\"OPENQASM 2.0;\\ninclude \\\"qelib1.inc\\\";\\n\\nqreg q[3];\\ncreg c[1];\\n\\ncx q[1],q[2];\\ncx q[0],q[2];\\nccx q[0],q[1],q[2];\\nmeasure q[2] -> c[0];\"",
       "editable": true,
       "layout": "IPY_MODEL_d36adc9f369b4bf89be61b2d61cfb7ed",
       "qiskit_code_cell_index": -1
      }
     },
     "9bc7db62d4d541cd92e7cd19d340bf19": {
      "model_module": "@jupyter-widgets/base",
      "model_module_version": "1.2.0",
      "model_name": "LayoutModel",
      "state": {
       "margin": "0px 0px 0px 37px",
       "width": "600px"
      }
     },
     "9c807f2134484e25b0b289d4aafb00c0": {
      "model_module": "@jupyter-widgets/controls",
      "model_module_version": "1.5.0",
      "model_name": "GridBoxModel",
      "state": {
       "children": [
        "IPY_MODEL_26ca92d21d6149828724dd6d4b588389"
       ],
       "layout": "IPY_MODEL_d769842e39214aae9fed90fe36b450b7"
      }
     },
     "9d35ec002bd14646a190b1c8afb92a23": {
      "model_module": "@quantum/ibm-q-lab-widgets",
      "model_module_version": "^1.0.3",
      "model_name": "CircuitComposerModel",
      "state": {
       "_model_module_version": "^1.0.3",
       "_view_module_version": "^1.0.3",
       "circuit": "\"OPENQASM 2.0;\\ninclude \\\"qelib1.inc\\\";\\n\\nqreg q[3];\\ncreg c[1];\\n\\ncx q[1],q[2];\\ncx q[0],q[2];\\nccx q[0],q[1],q[2];\\nmeasure q[2] -> c[0];\"",
       "editable": true,
       "layout": "IPY_MODEL_733280e940c8467c98f8dad1d664c470",
       "qiskit_code_cell_index": -1
      }
     },
     "9ed9590323aa46688e2ba31f633e3f78": {
      "model_module": "@jupyter-widgets/controls",
      "model_module_version": "1.5.0",
      "model_name": "DescriptionStyleModel",
      "state": {
       "description_width": ""
      }
     },
     "9fc4a971694a4408ae86a9b8b0e01174": {
      "model_module": "@jupyter-widgets/controls",
      "model_module_version": "1.5.0",
      "model_name": "DescriptionStyleModel",
      "state": {
       "description_width": ""
      }
     },
     "a05c2cdb2ee446548fa484374b05f26d": {
      "model_module": "@jupyter-widgets/controls",
      "model_module_version": "1.5.0",
      "model_name": "HBoxModel",
      "state": {
       "children": [
        "IPY_MODEL_3e174dd3d8544ac88043f17a5ecc8500",
        "IPY_MODEL_c562f2f16b5c438fa3272c4a145e7d01",
        "IPY_MODEL_a3c65616f3d94913b0115577bf2f6ac4",
        "IPY_MODEL_115e321a54064c15af84960de9afcd39",
        "IPY_MODEL_d85f26eaecff4d26964747f7489a1573"
       ],
       "layout": "IPY_MODEL_4400777ab0fe475b8bf004b489e25a8a"
      }
     },
     "a0669cb8aa644cd1bbe036acbd656053": {
      "model_module": "@jupyter-widgets/base",
      "model_module_version": "1.2.0",
      "model_name": "LayoutModel",
      "state": {
       "width": "70px"
      }
     },
     "a116878984b741f7ac6690e44f038947": {
      "model_module": "@jupyter-widgets/base",
      "model_module_version": "1.2.0",
      "model_name": "LayoutModel",
      "state": {}
     },
     "a1aae185da6941518751e6b928729bcd": {
      "model_module": "@jupyter-widgets/base",
      "model_module_version": "1.2.0",
      "model_name": "LayoutModel",
      "state": {
       "width": "70px"
      }
     },
     "a1f3145fb47f4d76ad779a51947861b4": {
      "model_module": "@jupyter-widgets/base",
      "model_module_version": "1.2.0",
      "model_name": "LayoutModel",
      "state": {}
     },
     "a23f86c552a04ae1b30b9093e2e3b521": {
      "model_module": "@jupyter-widgets/base",
      "model_module_version": "1.2.0",
      "model_name": "LayoutModel",
      "state": {}
     },
     "a2cf13b0153145f8ac7d332020f87ffd": {
      "model_module": "@jupyter-widgets/base",
      "model_module_version": "1.2.0",
      "model_name": "LayoutModel",
      "state": {
       "margin": "0px 0px 0px 37px",
       "width": "600px"
      }
     },
     "a3c65616f3d94913b0115577bf2f6ac4": {
      "model_module": "@jupyter-widgets/controls",
      "model_module_version": "1.5.0",
      "model_name": "HTMLModel",
      "state": {
       "layout": "IPY_MODEL_602fd472a90e4e0881c932ac3137a452",
       "style": "IPY_MODEL_fc6e67828b47492caa52c2d91c372fe7",
       "value": "<h5>Status</h5>"
      }
     },
     "a451443a1fcd42b395989fb216b3ef84": {
      "model_module": "@jupyter-widgets/base",
      "model_module_version": "1.2.0",
      "model_name": "LayoutModel",
      "state": {
       "width": "145px"
      }
     },
     "a4954a10292b43efb85baa1d788db3d6": {
      "model_module": "@jupyter-widgets/base",
      "model_module_version": "1.2.0",
      "model_name": "LayoutModel",
      "state": {
       "margin": "0px 0px 0px 37px",
       "width": "600px"
      }
     },
     "a4b896b34a244855abd723ca174724cf": {
      "model_module": "@jupyter-widgets/base",
      "model_module_version": "1.2.0",
      "model_name": "LayoutModel",
      "state": {}
     },
     "a539ea37afa84225bda9b0b1a4124d73": {
      "model_module": "@jupyter-widgets/base",
      "model_module_version": "1.2.0",
      "model_name": "LayoutModel",
      "state": {
       "width": "190px"
      }
     },
     "a54bf7efb7cd44c2a489e20092ccfadb": {
      "model_module": "@jupyter-widgets/controls",
      "model_module_version": "1.5.0",
      "model_name": "HTMLModel",
      "state": {
       "layout": "IPY_MODEL_cc71eb09ce1b494b81f90cfcc2e1dd95",
       "style": "IPY_MODEL_5f4a503db4894223b5dfa7edaff2a2ba",
       "value": "<h5>Message</h5>"
      }
     },
     "a59c44990a98430687a0f4ea958a0fd6": {
      "model_module": "@quantum/ibm-q-lab-widgets",
      "model_module_version": "^1.0.3",
      "model_name": "CircuitComposerModel",
      "state": {
       "_model_module_version": "^1.0.3",
       "_view_module_version": "^1.0.3",
       "circuit": "\"OPENQASM 2.0;\\ninclude \\\"qelib1.inc\\\";\\n\\nqreg q[3];\\ncreg c[3];\\n\\n\"",
       "editable": true,
       "layout": "IPY_MODEL_ede3b422e153430b9b0b630a174ce576",
       "qiskit_code_cell_index": -1
      }
     },
     "a59c703276e04f1caaf8770a25e129c9": {
      "model_module": "@jupyter-widgets/base",
      "model_module_version": "1.2.0",
      "model_name": "LayoutModel",
      "state": {}
     },
     "a625863b3c27475e9f15361af2d48ced": {
      "model_module": "@jupyter-widgets/controls",
      "model_module_version": "1.5.0",
      "model_name": "HTMLModel",
      "state": {
       "layout": "IPY_MODEL_66423f7c452749c1a55a4e6885cf4ac6",
       "style": "IPY_MODEL_af9441cd16cf4658b7949bf9d81b8b83",
       "value": "<h5>Message</h5>"
      }
     },
     "a680d46ae9e24200b5cfbfda6f403ac0": {
      "model_module": "@jupyter-widgets/controls",
      "model_module_version": "1.5.0",
      "model_name": "HTMLModel",
      "state": {
       "layout": "IPY_MODEL_1ae18da521ee4927b3438a6a5e76ba9e",
       "style": "IPY_MODEL_f58a7f58e3d948a887ae0e5a112c4793",
       "value": "<h5>Status</h5>"
      }
     },
     "a6bb9f421d4a4d178256237cd4c276bd": {
      "model_module": "@quantum/ibm-q-lab-widgets",
      "model_module_version": "^1.0.3",
      "model_name": "CircuitComposerModel",
      "state": {
       "_model_module_version": "^1.0.3",
       "_view_module_version": "^1.0.3",
       "circuit": "\"OPENQASM 2.0;\\ninclude \\\"qelib1.inc\\\";\\n\\nqreg q2[3];\\ncreg c1[3];\\n\\ncx q2[1],q2[2];\\ncx q2[0],q2[2];\\nccx q2[0],q2[1],q2[2];\\nmeasure q2[2] -> c1[0];\"",
       "editable": true,
       "layout": "IPY_MODEL_37b7d129f94342e1abcce40399056637",
       "qiskit_code_cell_index": -1
      }
     },
     "a6ffbad732774df8bf8910abbd018ceb": {
      "model_module": "@jupyter-widgets/base",
      "model_module_version": "1.2.0",
      "model_name": "LayoutModel",
      "state": {
       "width": "95px"
      }
     },
     "a75a6cb142754843b841247f2b5e73ab": {
      "model_module": "@quantum/ibm-q-lab-widgets",
      "model_module_version": "^1.0.3",
      "model_name": "CircuitComposerModel",
      "state": {
       "_model_module_version": "^1.0.3",
       "_view_module_version": "^1.0.3",
       "circuit": "\"OPENQASM 2.0;\\ninclude \\\"qelib1.inc\\\";\\n\\nqreg q[3];\\ncreg c[3];\\n\\n\"",
       "editable": true,
       "layout": "IPY_MODEL_565a6f272c6e41e8a9c1a7d6ec236c5a",
       "qiskit_code_cell_index": -1
      }
     },
     "a7e387ce624b4fdd927af7426dbf7025": {
      "model_module": "@jupyter-widgets/controls",
      "model_module_version": "1.5.0",
      "model_name": "DescriptionStyleModel",
      "state": {
       "description_width": ""
      }
     },
     "a81e101e4e1d4190bd0ed8ca09dd418c": {
      "model_module": "@quantum/ibm-q-lab-widgets",
      "model_module_version": "^1.0.3",
      "model_name": "CircuitComposerModel",
      "state": {
       "_model_module_version": "^1.0.3",
       "_view_module_version": "^1.0.3",
       "circuit": "\"OPENQASM 2.0;\\ninclude \\\"qelib1.inc\\\";\\n\\nqreg q[3];\\ncreg c[3];\\n\\n\"",
       "editable": true,
       "layout": "IPY_MODEL_33e5c437cd6949e4b1fc9b6de04f30af",
       "qiskit_code_cell_index": 44
      }
     },
     "a8397cedee8b46068972fb99882fd0c9": {
      "model_module": "@quantum/ibm-q-lab-widgets",
      "model_module_version": "^1.0.3",
      "model_name": "CircuitComposerModel",
      "state": {
       "_model_module_version": "^1.0.3",
       "_view_module_version": "^1.0.3",
       "circuit": "\"OPENQASM 2.0;\\ninclude \\\"qelib1.inc\\\";\\n\\nqreg q[3];\\ncreg c[1];\\n\\ncx q[1],q[2];\\ncx q[0],q[2];\\nccx q[0],q[1],q[2];\\nmeasure q[2] -> c[0];\"",
       "editable": true,
       "layout": "IPY_MODEL_1c3b669f5cb7414782648203af7c1ff7",
       "qiskit_code_cell_index": -1
      }
     },
     "a84b961d485f4979be26e7f5f4734196": {
      "model_module": "@jupyter-widgets/controls",
      "model_module_version": "1.5.0",
      "model_name": "HTMLModel",
      "state": {
       "layout": "IPY_MODEL_275e96c24bb045cdaeb001306313a482",
       "style": "IPY_MODEL_f656665ee2a843408b8bff659ada0675",
       "value": "<p style='font-family: IBM Plex Sans, Arial, Helvetica, sans-serif; font-size: 20px; font-weight: medium;'>Circuit Properties</p>"
      }
     },
     "a88b31f7f45a477e9ad4d48b9aa1193c": {
      "model_module": "@jupyter-widgets/controls",
      "model_module_version": "1.5.0",
      "model_name": "GridBoxModel",
      "state": {
       "children": [
        "IPY_MODEL_331e3257365741db8def52287f2769b5"
       ],
       "layout": "IPY_MODEL_28b34ea527e348f18b88558bdddc0e1b"
      }
     },
     "a8af894664164b2e82c73d8bd47c7485": {
      "model_module": "@jupyter-widgets/base",
      "model_module_version": "1.2.0",
      "model_name": "LayoutModel",
      "state": {
       "margin": "0px 0px 10px 0px"
      }
     },
     "a9483f14f95c4d539945ca3e77071d62": {
      "model_module": "@jupyter-widgets/base",
      "model_module_version": "1.2.0",
      "model_name": "LayoutModel",
      "state": {}
     },
     "a98982e7bd1044a3aac97cd7170b937d": {
      "model_module": "@jupyter-widgets/controls",
      "model_module_version": "1.5.0",
      "model_name": "DescriptionStyleModel",
      "state": {
       "description_width": ""
      }
     },
     "a995ab1aa4e641de9c7bd17565313757": {
      "model_module": "@jupyter-widgets/controls",
      "model_module_version": "1.5.0",
      "model_name": "HTMLModel",
      "state": {
       "layout": "IPY_MODEL_d6c6f0e1e63c4968b6271f43d048d5ae",
       "style": "IPY_MODEL_62fed7858e2d4d5e8efe1b6a4b529075",
       "value": "<h5>Status</h5>"
      }
     },
     "aa6abca44fc44b51ab150b48beec45cc": {
      "model_module": "@jupyter-widgets/base",
      "model_module_version": "1.2.0",
      "model_name": "LayoutModel",
      "state": {
       "margin": "0px 0px 10px 0px"
      }
     },
     "aaab977b4c05499fb72df6cebee05628": {
      "model_module": "@jupyter-widgets/controls",
      "model_module_version": "1.5.0",
      "model_name": "GridBoxModel",
      "state": {
       "children": [
        "IPY_MODEL_7e732e6c6ca4421fa05d83888515d312"
       ],
       "layout": "IPY_MODEL_2a9203a4ceee4fb686a41d581b26cc94"
      }
     },
     "ab588bab3fce4010917bbdd2666df29b": {
      "model_module": "@jupyter-widgets/base",
      "model_module_version": "1.2.0",
      "model_name": "LayoutModel",
      "state": {
       "width": "95px"
      }
     },
     "abfb4fc29dd1406cbbb7f5b53d45638f": {
      "model_module": "@jupyter-widgets/controls",
      "model_module_version": "1.5.0",
      "model_name": "HTMLModel",
      "state": {
       "layout": "IPY_MODEL_8ce36385b1d940f786f5ca2cf45ef9e3",
       "style": "IPY_MODEL_744f1cadf5124e6695ed0ce837a98414",
       "value": "<h5>Job ID</h5>"
      }
     },
     "ac107e6edc494695971ac37c5661a386": {
      "model_module": "@jupyter-widgets/base",
      "model_module_version": "1.2.0",
      "model_name": "LayoutModel",
      "state": {
       "grid_template_areas": "\n                                       \". . . . right \"\n                                        ",
       "grid_template_columns": "20% 20% 20% 20% 20%",
       "width": "100%"
      }
     },
     "ac9a217eec614a1e812d8e53bee008bc": {
      "model_module": "@jupyter-widgets/controls",
      "model_module_version": "1.5.0",
      "model_name": "ButtonModel",
      "state": {
       "button_style": "primary",
       "description": "Clear",
       "layout": "IPY_MODEL_0fdff5dfd0fa447480de43a89a8d0f6a",
       "style": "IPY_MODEL_2dc5151d292d44f3bee2dd4cba36ec92"
      }
     },
     "acfeefe404d345708c5e204b8866788f": {
      "model_module": "@jupyter-widgets/base",
      "model_module_version": "1.2.0",
      "model_name": "LayoutModel",
      "state": {
       "width": "145px"
      }
     },
     "adf6da53203d41128e2426688fc2a811": {
      "model_module": "@jupyter-widgets/base",
      "model_module_version": "1.2.0",
      "model_name": "LayoutModel",
      "state": {}
     },
     "ae8334de76dc46d7aed36ca54514be49": {
      "model_module": "@quantum/ibm-q-lab-widgets",
      "model_module_version": "^1.0.3",
      "model_name": "CircuitComposerModel",
      "state": {
       "_model_module_version": "^1.0.3",
       "_view_module_version": "^1.0.3",
       "circuit": "\"OPENQASM 2.0;\\ninclude \\\"qelib1.inc\\\";\\n\\nqreg q[3];\\ncreg c[3];\\n\\n\"",
       "editable": true,
       "layout": "IPY_MODEL_5617775f6e0240b0bafd6c591c590c2e",
       "qiskit_code_cell_index": -1
      }
     },
     "aed2fff20a4a42d281bc7563fe6254ec": {
      "model_module": "@jupyter-widgets/controls",
      "model_module_version": "1.5.0",
      "model_name": "HTMLModel",
      "state": {
       "layout": "IPY_MODEL_acfeefe404d345708c5e204b8866788f",
       "style": "IPY_MODEL_b78763a523884cfc9577adda062a953f",
       "value": "<h5>Backend</h5>"
      }
     },
     "af50ed8c616640dda8dfe43cd971e526": {
      "model_module": "@jupyter-widgets/controls",
      "model_module_version": "1.5.0",
      "model_name": "DescriptionStyleModel",
      "state": {
       "description_width": ""
      }
     },
     "af9441cd16cf4658b7949bf9d81b8b83": {
      "model_module": "@jupyter-widgets/controls",
      "model_module_version": "1.5.0",
      "model_name": "DescriptionStyleModel",
      "state": {
       "description_width": ""
      }
     },
     "aff87702f540424da09390ab205e01ae": {
      "model_module": "@jupyter-widgets/controls",
      "model_module_version": "1.5.0",
      "model_name": "DescriptionStyleModel",
      "state": {
       "description_width": ""
      }
     },
     "b08b187f73454353a24f8751a6892126": {
      "model_module": "@jupyter-widgets/controls",
      "model_module_version": "1.5.0",
      "model_name": "ButtonStyleModel",
      "state": {}
     },
     "b09656910fce43c2aa88f441e8ae49b1": {
      "model_module": "@jupyter-widgets/controls",
      "model_module_version": "1.5.0",
      "model_name": "ButtonStyleModel",
      "state": {}
     },
     "b09c4aebd3c04d00ba6c15ccca3c0bf5": {
      "model_module": "@jupyter-widgets/controls",
      "model_module_version": "1.5.0",
      "model_name": "ButtonModel",
      "state": {
       "button_style": "primary",
       "description": "Clear",
       "layout": "IPY_MODEL_bbf8b1fd0cab471fb3c2f9e71196371b",
       "style": "IPY_MODEL_148dbc5ca6d54610a7cae53105d55710"
      }
     },
     "b180552daa064c58a5d10a8c97a65dd0": {
      "model_module": "@jupyter-widgets/base",
      "model_module_version": "1.2.0",
      "model_name": "LayoutModel",
      "state": {}
     },
     "b19bbdecfec140caa8f2b64896d5130e": {
      "model_module": "@quantum/ibm-q-lab-widgets",
      "model_module_version": "^1.0.3",
      "model_name": "CircuitComposerModel",
      "state": {
       "_model_module_version": "^1.0.3",
       "_view_module_version": "^1.0.3",
       "circuit": "\"OPENQASM 2.0;\\ninclude \\\"qelib1.inc\\\";\\n\\nqreg q[3];\\ncreg c[3];\\n\\nccx q[0],q[1],q[2];\"",
       "editable": true,
       "layout": "IPY_MODEL_69ea08366f8e4be08dddde0c0fbcc764",
       "qiskit_code_cell_index": -1
      }
     },
     "b1db84f3cc4a4066a8df14637419630c": {
      "model_module": "@quantum/ibm-q-lab-widgets",
      "model_module_version": "^1.0.3",
      "model_name": "CircuitComposerModel",
      "state": {
       "_model_module_version": "^1.0.3",
       "_view_module_version": "^1.0.3",
       "circuit": "\"OPENQASM 2.0;\\ninclude \\\"qelib1.inc\\\";\\n\\nqreg q[3];\\ncreg c[3];\\n\\nswap q[0],q[1];\\nz q[2];\"",
       "editable": true,
       "layout": "IPY_MODEL_50091921f7684addb5afd14d51d0de14",
       "qiskit_code_cell_index": -1
      }
     },
     "b2031dd1b2894b1182f619f10b6fa4f7": {
      "model_module": "@quantum/ibm-q-lab-widgets",
      "model_module_version": "^1.0.3",
      "model_name": "CircuitComposerModel",
      "state": {
       "_model_module_version": "^1.0.3",
       "_view_module_version": "^1.0.3",
       "circuit": "\"OPENQASM 2.0;\\ninclude \\\"qelib1.inc\\\";\\n\\nqreg q[3];\\ncreg c[1];\\n\\ncx q[1],q[2];\\ncx q[0],q[2];\\nccx q[0],q[1],q[2];\\nmeasure q[2] -> c[0];\\nx q[2];\\nmeasure q[2] -> c[0];\"",
       "editable": true,
       "layout": "IPY_MODEL_52b7a4d861f34d46b947838bca90c284",
       "qiskit_code_cell_index": -1
      }
     },
     "b294265339d747a6aa25f5996d4f7077": {
      "model_module": "@quantum/ibm-q-lab-widgets",
      "model_module_version": "^1.0.3",
      "model_name": "CircuitComposerModel",
      "state": {
       "_model_module_version": "^1.0.3",
       "_view_module_version": "^1.0.3",
       "circuit": "\"OPENQASM 2.0;\\ninclude \\\"qelib1.inc\\\";\\n\\nqreg q[3];\\ncreg c[3];\\n\\n\"",
       "editable": true,
       "layout": "IPY_MODEL_6cc701461412458ca8245149cec18326",
       "qiskit_code_cell_index": -1
      }
     },
     "b2a697572d834a1e92bfd7109dd150e0": {
      "model_module": "@jupyter-widgets/controls",
      "model_module_version": "1.5.0",
      "model_name": "HTMLModel",
      "state": {
       "layout": "IPY_MODEL_cb084de5b03f49bd86e465a0dfb0d75b",
       "style": "IPY_MODEL_f2014f13fe1a4e2784242914d68b5286",
       "value": "<h5>Queue</h5>"
      }
     },
     "b2c4aef6b8ca48e289c86f64de5d8657": {
      "model_module": "@jupyter-widgets/controls",
      "model_module_version": "1.5.0",
      "model_name": "DescriptionStyleModel",
      "state": {
       "description_width": ""
      }
     },
     "b38bbe14cf5a4ab5840961b0478b5402": {
      "model_module": "@jupyter-widgets/controls",
      "model_module_version": "1.5.0",
      "model_name": "DescriptionStyleModel",
      "state": {
       "description_width": ""
      }
     },
     "b445f0e465864ce282896f13ec86a2b1": {
      "model_module": "@jupyter-widgets/controls",
      "model_module_version": "1.5.0",
      "model_name": "HTMLModel",
      "state": {
       "layout": "IPY_MODEL_c2775f83dbed4958a11efd55ffe7046a",
       "style": "IPY_MODEL_539edb2fa7d64f7d8fc82c8a6c9ca8f8",
       "value": "<h5>Queue</h5>"
      }
     },
     "b44e1e7f864f4ba48cc33ff6d817dd77": {
      "model_module": "@jupyter-widgets/controls",
      "model_module_version": "1.5.0",
      "model_name": "GridBoxModel",
      "state": {
       "children": [
        "IPY_MODEL_907ca8dcd51d4ae99b6476f8c8286168"
       ],
       "layout": "IPY_MODEL_82231b026e924401b018112f62c5e103"
      }
     },
     "b49c1fe056564115bf410c9a8c7e2cc4": {
      "model_module": "@jupyter-widgets/controls",
      "model_module_version": "1.5.0",
      "model_name": "HTMLModel",
      "state": {
       "layout": "IPY_MODEL_19f41ae3198c4e6da5051f0c5babf10a",
       "style": "IPY_MODEL_5237b6e70e6546d78cb4d87363fb449b",
       "value": "<h5>Queue</h5>"
      }
     },
     "b4c22c7c95864dfc9209e214aac7ccf8": {
      "model_module": "@jupyter-widgets/controls",
      "model_module_version": "1.5.0",
      "model_name": "DescriptionStyleModel",
      "state": {
       "description_width": ""
      }
     },
     "b5220d3a2d054a719cbff07cd8281971": {
      "model_module": "@quantum/ibm-q-lab-widgets",
      "model_module_version": "^1.0.3",
      "model_name": "CircuitComposerModel",
      "state": {
       "_model_module_version": "^1.0.3",
       "_view_module_version": "^1.0.3",
       "circuit": "\"OPENQASM 2.0;\\ninclude \\\"qelib1.inc\\\";\\n\\nqreg q[1];\\ncreg c[1];\\n\\nrz(pi/2) q[0];\\nsx q[0];\\nrz(pi/2) q[0];\"",
       "editable": true,
       "layout": "IPY_MODEL_44a79fd77b9e477684de365174366130",
       "qiskit_code_cell_index": -1
      }
     },
     "b590a930a818462484b91054cf132cce": {
      "model_module": "@jupyter-widgets/controls",
      "model_module_version": "1.5.0",
      "model_name": "DescriptionStyleModel",
      "state": {
       "description_width": ""
      }
     },
     "b5cf49e4ff684a9db08840ab0a980035": {
      "model_module": "@jupyter-widgets/controls",
      "model_module_version": "1.5.0",
      "model_name": "HTMLModel",
      "state": {
       "layout": "IPY_MODEL_6863cbb083e04d5c9c1a95731ce70f20",
       "style": "IPY_MODEL_2eb21c61c63d4abc806bb17d0afddd9e",
       "value": "<h5>Backend</h5>"
      }
     },
     "b5e2b7928d0249aaba6c60bb33f86a00": {
      "model_module": "@jupyter-widgets/controls",
      "model_module_version": "1.5.0",
      "model_name": "DescriptionStyleModel",
      "state": {
       "description_width": ""
      }
     },
     "b628159114464dd891140376f02cf211": {
      "model_module": "@quantum/ibm-q-lab-widgets",
      "model_module_version": "^1.0.3",
      "model_name": "CircuitComposerModel",
      "state": {
       "_model_module_version": "^1.0.3",
       "_view_module_version": "^1.0.3",
       "circuit": "\"OPENQASM 2.0;\\ninclude \\\"qelib1.inc\\\";\\n\\nqreg q[3];\\ncreg c[1];\\n\\ncx q[1],q[2];\\ncx q[0],q[2];\\nccx q[0],q[1],q[2];\"",
       "editable": true,
       "layout": "IPY_MODEL_602567b829324270a8ac201d69a4df37",
       "qiskit_code_cell_index": -1
      }
     },
     "b63b04f532294089868280454e3f4798": {
      "model_module": "@jupyter-widgets/controls",
      "model_module_version": "1.5.0",
      "model_name": "HTMLModel",
      "state": {
       "layout": "IPY_MODEL_4ff1b32437774bbbae4e9a5e0650e8a1",
       "style": "IPY_MODEL_b38bbe14cf5a4ab5840961b0478b5402",
       "value": "<h5>Message</h5>"
      }
     },
     "b645d55afc6649dd807e38ab30da764b": {
      "model_module": "@jupyter-widgets/base",
      "model_module_version": "1.2.0",
      "model_name": "LayoutModel",
      "state": {}
     },
     "b6762a63f86c494393bc4024ef5d6ec7": {
      "model_module": "@jupyter-widgets/base",
      "model_module_version": "1.2.0",
      "model_name": "LayoutModel",
      "state": {
       "grid_area": "right",
       "padding": "0px 0px 0px 0px",
       "width": "70px"
      }
     },
     "b78763a523884cfc9577adda062a953f": {
      "model_module": "@jupyter-widgets/controls",
      "model_module_version": "1.5.0",
      "model_name": "DescriptionStyleModel",
      "state": {
       "description_width": ""
      }
     },
     "b7f0e778814b4e98963d09b9e4bf74b0": {
      "model_module": "@jupyter-widgets/base",
      "model_module_version": "1.2.0",
      "model_name": "LayoutModel",
      "state": {
       "width": "95px"
      }
     },
     "b8ce2361a7ea4a349fc3f22c37b0c3a2": {
      "model_module": "@jupyter-widgets/controls",
      "model_module_version": "1.5.0",
      "model_name": "HTMLModel",
      "state": {
       "layout": "IPY_MODEL_3326f789e1454d848be17beeadad59cd",
       "style": "IPY_MODEL_7039e4855fa24b4fb551de5b163bc636",
       "value": "<h5>Job ID</h5>"
      }
     },
     "b92aa6be60ee4e899137ad65127f76fd": {
      "model_module": "@jupyter-widgets/controls",
      "model_module_version": "1.5.0",
      "model_name": "DescriptionStyleModel",
      "state": {
       "description_width": ""
      }
     },
     "b9f125d38e9048bab1472bb934ddb2fb": {
      "model_module": "@jupyter-widgets/controls",
      "model_module_version": "1.5.0",
      "model_name": "HBoxModel",
      "state": {
       "children": [
        "IPY_MODEL_4eb2200cb71e4110bfe473b01ae616bf",
        "IPY_MODEL_d7afc2237a0e4836a6acf4b10eb741a0",
        "IPY_MODEL_81c00e1676ed404ca7efacd7c80fb9df",
        "IPY_MODEL_f92aa752b1a545efae5f89e89db79bff",
        "IPY_MODEL_e382101b4a5740cfbac8c74ee2070e6d"
       ],
       "layout": "IPY_MODEL_258eae7128724a828fd604a4df2853d7"
      }
     },
     "ba3a947a23044cafbd704624afc57c97": {
      "model_module": "@quantum/ibm-q-lab-widgets",
      "model_module_version": "^1.0.3",
      "model_name": "CircuitComposerModel",
      "state": {
       "_model_module_version": "^1.0.3",
       "_view_module_version": "^1.0.3",
       "circuit": "\"OPENQASM 2.0;\\ninclude \\\"qelib1.inc\\\";\\n\\nqreg q[3];\\ncreg c[1];\\n\\ncx q[1],q[2];\\ncx q[0],q[2];\\nccx q[0],q[1],q[2];\\nmeasure q[2] -> c[0];\"",
       "editable": true,
       "layout": "IPY_MODEL_7aa1ea80fabc4a74a04a47d302486a90",
       "qiskit_code_cell_index": -1
      }
     },
     "ba9ec7881d914d3aa50939e451533e0c": {
      "model_module": "@quantum/ibm-q-lab-widgets",
      "model_module_version": "^1.0.3",
      "model_name": "CircuitComposerModel",
      "state": {
       "_model_module_version": "^1.0.3",
       "_view_module_version": "^1.0.3",
       "circuit": "\"OPENQASM 2.0;\\ninclude \\\"qelib1.inc\\\";\\n\\nqreg q2[3];\\ncreg c1[3];\\n\\ncx q2[1],q2[2];\\ncx q2[0],q2[2];\\nccx q2[0],q2[1],q2[2];\"",
       "editable": true,
       "layout": "IPY_MODEL_091123743b774ed39186e57d7a6db20a",
       "qiskit_code_cell_index": -1
      }
     },
     "baf8a86c6f7c4fd98bf0e0f0ea0aa3cb": {
      "model_module": "@jupyter-widgets/base",
      "model_module_version": "1.2.0",
      "model_name": "LayoutModel",
      "state": {}
     },
     "bb1a35f52d3c480f8a893f487356cefd": {
      "model_module": "@jupyter-widgets/controls",
      "model_module_version": "1.5.0",
      "model_name": "ButtonStyleModel",
      "state": {}
     },
     "bbd2508fb2f842628e3041fd4e440c1c": {
      "model_module": "@jupyter-widgets/controls",
      "model_module_version": "1.5.0",
      "model_name": "ButtonStyleModel",
      "state": {}
     },
     "bbf8b1fd0cab471fb3c2f9e71196371b": {
      "model_module": "@jupyter-widgets/base",
      "model_module_version": "1.2.0",
      "model_name": "LayoutModel",
      "state": {
       "grid_area": "right",
       "padding": "0px 0px 0px 0px",
       "width": "70px"
      }
     },
     "bc06df4c45e541b986a8bdc23fbda3ff": {
      "model_module": "@jupyter-widgets/controls",
      "model_module_version": "1.5.0",
      "model_name": "ButtonModel",
      "state": {
       "button_style": "primary",
       "description": "Clear",
       "layout": "IPY_MODEL_f06820c4aec74a3f9973d65f7a6e9aef",
       "style": "IPY_MODEL_0631a355ddda42ef83569e488403b044"
      }
     },
     "bc2d30aa2f63499499f15173b90aad59": {
      "model_module": "@quantum/ibm-q-lab-widgets",
      "model_module_version": "^1.0.3",
      "model_name": "CircuitComposerModel",
      "state": {
       "_model_module_version": "^1.0.3",
       "_view_module_version": "^1.0.3",
       "circuit": "\"OPENQASM 2.0;\\ninclude \\\"qelib1.inc\\\";\\n\\nqreg q[3];\\ncreg c[3];\\n\\n\"",
       "editable": true,
       "layout": "IPY_MODEL_18446bda42004779b833ddc7297f73d5",
       "qiskit_code_cell_index": -1
      }
     },
     "bc4d49ec36884ca08d7e3c361c8f2eb9": {
      "model_module": "@jupyter-widgets/base",
      "model_module_version": "1.2.0",
      "model_name": "LayoutModel",
      "state": {}
     },
     "bcb101c56e4d479f872baa56e4d66bf2": {
      "model_module": "@jupyter-widgets/controls",
      "model_module_version": "1.5.0",
      "model_name": "DescriptionStyleModel",
      "state": {
       "description_width": ""
      }
     },
     "bcdb4f764418464d876656ff47969d41": {
      "model_module": "@jupyter-widgets/controls",
      "model_module_version": "1.5.0",
      "model_name": "HTMLModel",
      "state": {
       "layout": "IPY_MODEL_d7047d99a6dd411195b6ef798571a3e4",
       "style": "IPY_MODEL_50dfd93bae63492d84ad39f8f3cbed18",
       "value": "<h5>Backend</h5>"
      }
     },
     "bd90c585db9348878d7a0d76beaffa66": {
      "model_module": "@jupyter-widgets/controls",
      "model_module_version": "1.5.0",
      "model_name": "HTMLModel",
      "state": {
       "layout": "IPY_MODEL_e26c82484e4f45318ab5f789f4a23f82",
       "style": "IPY_MODEL_791934bf3d9341cda49c154379622d16",
       "value": "<h5>Backend</h5>"
      }
     },
     "bd911de90a7b4c369d1bd8892c6411ed": {
      "model_module": "@jupyter-widgets/controls",
      "model_module_version": "1.5.0",
      "model_name": "HTMLModel",
      "state": {
       "layout": "IPY_MODEL_da762a1b8ae747bd88cfeca2f4f9aa62",
       "style": "IPY_MODEL_f85c891265d7425a82cc4602ca1888d5",
       "value": "<p style='font-family: IBM Plex Sans, Arial, Helvetica, sans-serif; font-size: 20px; font-weight: medium;'>Circuit Properties</p>"
      }
     },
     "be119dbd25db4e1bae2fc6935a3478a3": {
      "model_module": "@jupyter-widgets/base",
      "model_module_version": "1.2.0",
      "model_name": "LayoutModel",
      "state": {}
     },
     "be299f6812f34f87a5d2e5aa345c86d4": {
      "model_module": "@jupyter-widgets/controls",
      "model_module_version": "1.5.0",
      "model_name": "DescriptionStyleModel",
      "state": {
       "description_width": ""
      }
     },
     "be615fa4e37f46f4b2bd64f94695d231": {
      "model_module": "@jupyter-widgets/base",
      "model_module_version": "1.2.0",
      "model_name": "LayoutModel",
      "state": {}
     },
     "be86b667811843688ab1253125617b32": {
      "model_module": "@jupyter-widgets/controls",
      "model_module_version": "1.5.0",
      "model_name": "HTMLModel",
      "state": {
       "layout": "IPY_MODEL_685e193ac6ee4050870c824dd57d9e2b",
       "style": "IPY_MODEL_ef12d0696cbc4f05ab783c9634d5597e",
       "value": "<p style='font-family: IBM Plex Sans, Arial, Helvetica, sans-serif; font-size: 20px; font-weight: medium;'>Circuit Properties</p>"
      }
     },
     "bec7757e5e1e4fec8d973d1c24a584d6": {
      "model_module": "@jupyter-widgets/controls",
      "model_module_version": "1.5.0",
      "model_name": "HBoxModel",
      "state": {
       "children": [
        "IPY_MODEL_44f669391a4d42b282d9bf437d5305d0",
        "IPY_MODEL_cb4c7e0aadae4110860bbb1fac279178",
        "IPY_MODEL_f25aea119fc349cab9f22829fd3c47fc",
        "IPY_MODEL_5901f5b47e3c4e06bcfb63ff4463ed63",
        "IPY_MODEL_b63b04f532294089868280454e3f4798"
       ],
       "layout": "IPY_MODEL_ec686d0859ce4b9dbe76b1aefb3c04b0"
      }
     },
     "bede716561ee493485972f70dfc0bba5": {
      "model_module": "@jupyter-widgets/controls",
      "model_module_version": "1.5.0",
      "model_name": "DescriptionStyleModel",
      "state": {
       "description_width": ""
      }
     },
     "bee7af23f12e42298f23a7ff2a775cb3": {
      "model_module": "@jupyter-widgets/controls",
      "model_module_version": "1.5.0",
      "model_name": "HTMLModel",
      "state": {
       "layout": "IPY_MODEL_02aee6b7777c41c5989acace1c0973bd",
       "style": "IPY_MODEL_2fa82dae3b0b44c7b106fa28f21631bc",
       "value": "<h5>Queue</h5>"
      }
     },
     "bef9ce11be074a00a12303925868a1fa": {
      "model_module": "@jupyter-widgets/base",
      "model_module_version": "1.2.0",
      "model_name": "LayoutModel",
      "state": {}
     },
     "bf8f3e463caa49e98a914fd74b757d31": {
      "model_module": "@jupyter-widgets/controls",
      "model_module_version": "1.5.0",
      "model_name": "DescriptionStyleModel",
      "state": {
       "description_width": ""
      }
     },
     "bfb91f9f217844568337ce77202b67bc": {
      "model_module": "@jupyter-widgets/base",
      "model_module_version": "1.2.0",
      "model_name": "LayoutModel",
      "state": {
       "width": "190px"
      }
     },
     "c0379b36527e43a193afc697783d883c": {
      "model_module": "@quantum/ibm-q-lab-widgets",
      "model_module_version": "^1.0.3",
      "model_name": "CircuitComposerModel",
      "state": {
       "_model_module_version": "^1.0.3",
       "_view_module_version": "^1.0.3",
       "circuit": "\"OPENQASM 2.0;\\ninclude \\\"qelib1.inc\\\";\\n\\nqreg q0[3];\\ncreg c0[3];\\n\\ncx q0[1],q0[2];\\ncx q0[0],q0[2];\\nccx q0[0],q0[1],q0[2];\\nx q0[2];\\nmeasure q0[2] -> c0[0];\"",
       "editable": true,
       "layout": "IPY_MODEL_87e5b80d6e534ef79b8c1311e137fd98",
       "qiskit_code_cell_index": -1
      }
     },
     "c0ccbe4ab2ea41ccacdfd6fd66f7502b": {
      "model_module": "@quantum/ibm-q-lab-widgets",
      "model_module_version": "^1.0.3",
      "model_name": "CircuitComposerModel",
      "state": {
       "_model_module_version": "^1.0.3",
       "_view_module_version": "^1.0.3",
       "circuit": "\"OPENQASM 2.0;\\ninclude \\\"qelib1.inc\\\";\\n\\nqreg q[3];\\ncreg c[3];\\n\\n\"",
       "editable": true,
       "layout": "IPY_MODEL_cd127382fb094b509763fb26f4a6efb0",
       "qiskit_code_cell_index": -1
      }
     },
     "c23d34059bd94326a2db9a68e34a2296": {
      "model_module": "@jupyter-widgets/controls",
      "model_module_version": "1.5.0",
      "model_name": "ButtonModel",
      "state": {
       "button_style": "primary",
       "description": "Clear",
       "layout": "IPY_MODEL_030a012c6ecd4829857f874f5abcae9f",
       "style": "IPY_MODEL_746eefff70994b2ca689a2790ab4e164"
      }
     },
     "c2775f83dbed4958a11efd55ffe7046a": {
      "model_module": "@jupyter-widgets/base",
      "model_module_version": "1.2.0",
      "model_name": "LayoutModel",
      "state": {
       "width": "70px"
      }
     },
     "c2c9c6b295d843cba77b4835e43fec85": {
      "model_module": "@jupyter-widgets/controls",
      "model_module_version": "1.5.0",
      "model_name": "HTMLModel",
      "state": {
       "layout": "IPY_MODEL_40b07e1e3e7b4e3d8391b6d150fc0201",
       "style": "IPY_MODEL_77bcaf6d5cdd4db2a5d70a7b8a493456",
       "value": "<h5>Message</h5>"
      }
     },
     "c2e484c5d6af4da2983d5d54c1f28343": {
      "model_module": "@jupyter-widgets/controls",
      "model_module_version": "1.5.0",
      "model_name": "ButtonStyleModel",
      "state": {}
     },
     "c562f2f16b5c438fa3272c4a145e7d01": {
      "model_module": "@jupyter-widgets/controls",
      "model_module_version": "1.5.0",
      "model_name": "HTMLModel",
      "state": {
       "layout": "IPY_MODEL_40efb9a1549147f1ad1f826f3d7905f6",
       "style": "IPY_MODEL_b92aa6be60ee4e899137ad65127f76fd",
       "value": "<h5>Backend</h5>"
      }
     },
     "c56a4a86ac954e1eb840e50b5b9a05d9": {
      "model_module": "@jupyter-widgets/controls",
      "model_module_version": "1.5.0",
      "model_name": "DescriptionStyleModel",
      "state": {
       "description_width": ""
      }
     },
     "c5f140e7886e40bc8788c69abdfbff5b": {
      "model_module": "@jupyter-widgets/controls",
      "model_module_version": "1.5.0",
      "model_name": "HTMLModel",
      "state": {
       "layout": "IPY_MODEL_7821ec4026ad477cba313d37ea9131ee",
       "style": "IPY_MODEL_9fc4a971694a4408ae86a9b8b0e01174",
       "value": "<p style='font-family: IBM Plex Sans, Arial, Helvetica, sans-serif; font-size: 20px; font-weight: medium;'>Circuit Properties</p>"
      }
     },
     "c6ab8065cab84bf6b7252daeabe56432": {
      "model_module": "@jupyter-widgets/controls",
      "model_module_version": "1.5.0",
      "model_name": "ButtonModel",
      "state": {
       "button_style": "primary",
       "description": "Clear",
       "layout": "IPY_MODEL_82b98116d62c4ebb892f4468d53c518c",
       "style": "IPY_MODEL_bbd2508fb2f842628e3041fd4e440c1c"
      }
     },
     "c6d3436b35f34d3e9949f934ac549e3f": {
      "model_module": "@jupyter-widgets/base",
      "model_module_version": "1.2.0",
      "model_name": "LayoutModel",
      "state": {
       "grid_area": "right",
       "padding": "0px 0px 0px 0px",
       "width": "70px"
      }
     },
     "c707cc74eaa540be9be0d25c7d82210e": {
      "model_module": "@quantum/ibm-q-lab-widgets",
      "model_module_version": "^1.0.3",
      "model_name": "CircuitComposerModel",
      "state": {
       "_model_module_version": "^1.0.3",
       "_view_module_version": "^1.0.3",
       "circuit": "\"OPENQASM 2.0;\\ninclude \\\"qelib1.inc\\\";\\n\\nqreg q1[3];\\ncreg c1[3];\\n\\ncx q1[1],q1[2];\\ncx q1[0],q1[2];\\nccx q1[0],q1[1],q1[2];\\nx q1[2];\\nmeasure q1[2] -> c1[2];\"",
       "editable": true,
       "layout": "IPY_MODEL_42f3b30f55f64d82b1c6439cd4367cb8",
       "qiskit_code_cell_index": -1
      }
     },
     "c88cdfec06954233bc054aaf4cba9576": {
      "model_module": "@jupyter-widgets/controls",
      "model_module_version": "1.5.0",
      "model_name": "DescriptionStyleModel",
      "state": {
       "description_width": ""
      }
     },
     "c8955b002d324a4b93bd46aca4240933": {
      "model_module": "@jupyter-widgets/base",
      "model_module_version": "1.2.0",
      "model_name": "LayoutModel",
      "state": {}
     },
     "c8cde8426f394fa59dd11b394cb85d73": {
      "model_module": "@jupyter-widgets/controls",
      "model_module_version": "1.5.0",
      "model_name": "HTMLModel",
      "state": {
       "layout": "IPY_MODEL_7f34b188d2de4f6698308fc62b378fab",
       "style": "IPY_MODEL_3b9a86da9f5240df818956e4fb25e041",
       "value": "<p style='font-family: IBM Plex Sans, Arial, Helvetica, sans-serif; font-size: 20px; font-weight: medium;'>Circuit Properties</p>"
      }
     },
     "c92a59f8047745988e4992e5b00cd622": {
      "model_module": "@jupyter-widgets/controls",
      "model_module_version": "1.5.0",
      "model_name": "DescriptionStyleModel",
      "state": {
       "description_width": ""
      }
     },
     "ca100b5afbfc4bfa877aacd42926cb5b": {
      "model_module": "@jupyter-widgets/controls",
      "model_module_version": "1.5.0",
      "model_name": "HTMLModel",
      "state": {
       "layout": "IPY_MODEL_f5a3d7f450034d3aa136a390f4362e66",
       "style": "IPY_MODEL_40a9e1e7c0a54ca0b3482f31af76b784",
       "value": "<p style='font-family: IBM Plex Sans, Arial, Helvetica, sans-serif; font-size: 20px; font-weight: medium;'>Circuit Properties</p>"
      }
     },
     "cb084de5b03f49bd86e465a0dfb0d75b": {
      "model_module": "@jupyter-widgets/base",
      "model_module_version": "1.2.0",
      "model_name": "LayoutModel",
      "state": {
       "width": "70px"
      }
     },
     "cb2cfb5b6cef47a08b69b39cf5c9c1d0": {
      "model_module": "@jupyter-widgets/controls",
      "model_module_version": "1.5.0",
      "model_name": "HBoxModel",
      "state": {
       "children": [
        "IPY_MODEL_14ca63ea4128479da9f01354ea081f79",
        "IPY_MODEL_06e37e6a43f14b90a29ed82464f87774",
        "IPY_MODEL_a680d46ae9e24200b5cfbfda6f403ac0",
        "IPY_MODEL_799fa903848b49e5b2b5b83869c3825c",
        "IPY_MODEL_44c3084221074279a1fe65621ffec4c0"
       ],
       "layout": "IPY_MODEL_0da50320e5bd46b3aa7042daf06cab2b"
      }
     },
     "cb2e28b8ce1a470fb9844e83bb73ac68": {
      "model_module": "@jupyter-widgets/base",
      "model_module_version": "1.2.0",
      "model_name": "LayoutModel",
      "state": {}
     },
     "cb4c7e0aadae4110860bbb1fac279178": {
      "model_module": "@jupyter-widgets/controls",
      "model_module_version": "1.5.0",
      "model_name": "HTMLModel",
      "state": {
       "layout": "IPY_MODEL_7a6576a2ab9f40b0b5e0f9d2aee56d10",
       "style": "IPY_MODEL_48b56f32910541c1999e1ccaef3d090c",
       "value": "<h5>Backend</h5>"
      }
     },
     "cb6e53942e7d45c7a8ca94514e6d2951": {
      "model_module": "@jupyter-widgets/controls",
      "model_module_version": "1.5.0",
      "model_name": "DescriptionStyleModel",
      "state": {
       "description_width": ""
      }
     },
     "cbd171354f9d49f7bcf893a65d962e73": {
      "model_module": "@jupyter-widgets/controls",
      "model_module_version": "1.5.0",
      "model_name": "HTMLModel",
      "state": {
       "layout": "IPY_MODEL_26e3aaa102d345c8ae70a39dbe56c7f1",
       "style": "IPY_MODEL_458b76229ac9466a93968d7ac98a73a7",
       "value": "<p style='font-family: IBM Plex Sans, Arial, Helvetica, sans-serif; font-size: 20px; font-weight: medium;'>Circuit Properties</p>"
      }
     },
     "cc117848b99c42fca4463a1a1cb0f3f4": {
      "model_module": "@quantum/ibm-q-lab-widgets",
      "model_module_version": "^1.0.3",
      "model_name": "CircuitComposerModel",
      "state": {
       "_model_module_version": "^1.0.3",
       "_view_module_version": "^1.0.3",
       "circuit": "\"OPENQASM 2.0;\\ninclude \\\"qelib1.inc\\\";\\n\\nqreg q[3];\\ncreg c[3];\\n\\nccx q[0],q[1],q[2];\"",
       "editable": true,
       "layout": "IPY_MODEL_b180552daa064c58a5d10a8c97a65dd0",
       "qiskit_code_cell_index": -1
      }
     },
     "cc71eb09ce1b494b81f90cfcc2e1dd95": {
      "model_module": "@jupyter-widgets/base",
      "model_module_version": "1.2.0",
      "model_name": "LayoutModel",
      "state": {}
     },
     "cc89dbf37fa14efea7990eff2937ad20": {
      "model_module": "@jupyter-widgets/controls",
      "model_module_version": "1.5.0",
      "model_name": "HBoxModel",
      "state": {
       "children": [
        "IPY_MODEL_b8ce2361a7ea4a349fc3f22c37b0c3a2",
        "IPY_MODEL_7eb7d592b7364615842e585ec91e5d11",
        "IPY_MODEL_a995ab1aa4e641de9c7bd17565313757",
        "IPY_MODEL_663821625faf4cf18279a0cb70a5df3b",
        "IPY_MODEL_a625863b3c27475e9f15361af2d48ced"
       ],
       "layout": "IPY_MODEL_988545c15da74334bc930567aa91dfb8"
      }
     },
     "cd127382fb094b509763fb26f4a6efb0": {
      "model_module": "@jupyter-widgets/base",
      "model_module_version": "1.2.0",
      "model_name": "LayoutModel",
      "state": {}
     },
     "cda4d9e419464993bc7ad28f3237ff69": {
      "model_module": "@jupyter-widgets/controls",
      "model_module_version": "1.5.0",
      "model_name": "HTMLModel",
      "state": {
       "layout": "IPY_MODEL_a1f3145fb47f4d76ad779a51947861b4",
       "style": "IPY_MODEL_00fec089e9a247ee81746cd2e8672b95",
       "value": "<h5>Message</h5>"
      }
     },
     "d00d6210a81d40af8b725a661b8be93b": {
      "model_module": "@jupyter-widgets/controls",
      "model_module_version": "1.5.0",
      "model_name": "DescriptionStyleModel",
      "state": {
       "description_width": ""
      }
     },
     "d08d82ed729f4159a75b712499aad162": {
      "model_module": "@jupyter-widgets/controls",
      "model_module_version": "1.5.0",
      "model_name": "HTMLModel",
      "state": {
       "layout": "IPY_MODEL_883b175146d344bf9c74af87605d42fb",
       "style": "IPY_MODEL_c56a4a86ac954e1eb840e50b5b9a05d9",
       "value": "<h5>Backend</h5>"
      }
     },
     "d0de14d57e3d4a6ca32e7bc02a805600": {
      "model_module": "@jupyter-widgets/controls",
      "model_module_version": "1.5.0",
      "model_name": "HTMLModel",
      "state": {
       "layout": "IPY_MODEL_a1aae185da6941518751e6b928729bcd",
       "style": "IPY_MODEL_b590a930a818462484b91054cf132cce",
       "value": "<h5>Queue</h5>"
      }
     },
     "d1335188923643bfb57240e633bab22a": {
      "model_module": "@jupyter-widgets/controls",
      "model_module_version": "1.5.0",
      "model_name": "DescriptionStyleModel",
      "state": {
       "description_width": ""
      }
     },
     "d16b266be6e34e9bb89e98554710b8b0": {
      "model_module": "@jupyter-widgets/base",
      "model_module_version": "1.2.0",
      "model_name": "LayoutModel",
      "state": {
       "grid_template_areas": "\n                                       \". . . . right \"\n                                        ",
       "grid_template_columns": "20% 20% 20% 20% 20%",
       "width": "100%"
      }
     },
     "d1e4ae0f595b4df19d172c6af221c849": {
      "model_module": "@jupyter-widgets/controls",
      "model_module_version": "1.5.0",
      "model_name": "DescriptionStyleModel",
      "state": {
       "description_width": ""
      }
     },
     "d206048b600b470fa0e695c6a2c29915": {
      "model_module": "@jupyter-widgets/base",
      "model_module_version": "1.2.0",
      "model_name": "LayoutModel",
      "state": {}
     },
     "d36adc9f369b4bf89be61b2d61cfb7ed": {
      "model_module": "@jupyter-widgets/base",
      "model_module_version": "1.2.0",
      "model_name": "LayoutModel",
      "state": {}
     },
     "d396a016b63543358b93758839379b62": {
      "model_module": "@jupyter-widgets/base",
      "model_module_version": "1.2.0",
      "model_name": "LayoutModel",
      "state": {}
     },
     "d3ad8f5a62d84c888e06b5fd3d88c244": {
      "model_module": "@quantum/ibm-q-lab-widgets",
      "model_module_version": "^1.0.3",
      "model_name": "CircuitComposerModel",
      "state": {
       "_model_module_version": "^1.0.3",
       "_view_module_version": "^1.0.3",
       "circuit": "\"OPENQASM 2.0;\\ninclude \\\"qelib1.inc\\\";\\n\\nqreg q[4];\\ncreg c[4];\\n\\n\"",
       "editable": true,
       "layout": "IPY_MODEL_a23f86c552a04ae1b30b9093e2e3b521",
       "qiskit_code_cell_index": -1
      }
     },
     "d49fb7f7f12c494aba1cead52c0259ff": {
      "model_module": "@jupyter-widgets/controls",
      "model_module_version": "1.5.0",
      "model_name": "HTMLModel",
      "state": {
       "layout": "IPY_MODEL_1bb0bd14b17c43fdb984eb3c70c2cef6",
       "style": "IPY_MODEL_173a109f9c714f3f9bbbf01294cc4a4b",
       "value": "<h5>Message</h5>"
      }
     },
     "d4cd819ded624f98a579720bf91c738d": {
      "model_module": "@jupyter-widgets/controls",
      "model_module_version": "1.5.0",
      "model_name": "HTMLModel",
      "state": {
       "layout": "IPY_MODEL_5bc193b0eeb1448f910da3da50af72be",
       "style": "IPY_MODEL_d51620c6c05b4e76b0498b33280b2708",
       "value": "<h5>Status</h5>"
      }
     },
     "d51620c6c05b4e76b0498b33280b2708": {
      "model_module": "@jupyter-widgets/controls",
      "model_module_version": "1.5.0",
      "model_name": "DescriptionStyleModel",
      "state": {
       "description_width": ""
      }
     },
     "d51d581f462e44dc8ffa1f3664a2b073": {
      "model_module": "@jupyter-widgets/controls",
      "model_module_version": "1.5.0",
      "model_name": "DescriptionStyleModel",
      "state": {
       "description_width": ""
      }
     },
     "d54997dae4d54069b5bc9b180de4abb7": {
      "model_module": "@jupyter-widgets/controls",
      "model_module_version": "1.5.0",
      "model_name": "DescriptionStyleModel",
      "state": {
       "description_width": ""
      }
     },
     "d690abc463d64f80a2722d23de682e74": {
      "model_module": "@jupyter-widgets/base",
      "model_module_version": "1.2.0",
      "model_name": "LayoutModel",
      "state": {
       "width": "95px"
      }
     },
     "d6c6f0e1e63c4968b6271f43d048d5ae": {
      "model_module": "@jupyter-widgets/base",
      "model_module_version": "1.2.0",
      "model_name": "LayoutModel",
      "state": {
       "width": "95px"
      }
     },
     "d7047d99a6dd411195b6ef798571a3e4": {
      "model_module": "@jupyter-widgets/base",
      "model_module_version": "1.2.0",
      "model_name": "LayoutModel",
      "state": {
       "width": "145px"
      }
     },
     "d769842e39214aae9fed90fe36b450b7": {
      "model_module": "@jupyter-widgets/base",
      "model_module_version": "1.2.0",
      "model_name": "LayoutModel",
      "state": {
       "grid_template_areas": "\n                                       \". . . . right \"\n                                        ",
       "grid_template_columns": "20% 20% 20% 20% 20%",
       "width": "100%"
      }
     },
     "d78743e18e6b47308381f245818f1dd5": {
      "model_module": "@jupyter-widgets/controls",
      "model_module_version": "1.5.0",
      "model_name": "HTMLModel",
      "state": {
       "layout": "IPY_MODEL_5b954be6f7cf4d63b93eca6bfa84bc2b",
       "style": "IPY_MODEL_c92a59f8047745988e4992e5b00cd622",
       "value": "<h5>Status</h5>"
      }
     },
     "d7afc2237a0e4836a6acf4b10eb741a0": {
      "model_module": "@jupyter-widgets/controls",
      "model_module_version": "1.5.0",
      "model_name": "HTMLModel",
      "state": {
       "layout": "IPY_MODEL_385ab6ea8d9f401ab85b126425aef694",
       "style": "IPY_MODEL_e8900ffc672f445e8c43d1003454d0fd",
       "value": "<h5>Backend</h5>"
      }
     },
     "d7ef9eb466c449758d9896eece80ad48": {
      "model_module": "@jupyter-widgets/controls",
      "model_module_version": "1.5.0",
      "model_name": "ButtonStyleModel",
      "state": {}
     },
     "d813abd4f19d43f4a5a0dffecb2f433a": {
      "model_module": "@jupyter-widgets/controls",
      "model_module_version": "1.5.0",
      "model_name": "DescriptionStyleModel",
      "state": {
       "description_width": ""
      }
     },
     "d83d94cfb762416e83ae901504be632d": {
      "model_module": "@quantum/ibm-q-lab-widgets",
      "model_module_version": "^1.0.3",
      "model_name": "CircuitComposerModel",
      "state": {
       "_model_module_version": "^1.0.3",
       "_view_module_version": "^1.0.3",
       "circuit": "\"OPENQASM 2.0;\\ninclude \\\"qelib1.inc\\\";\\n\\nqreg q[3];\\ncreg c[3];\\n\\n\"",
       "editable": true,
       "layout": "IPY_MODEL_e7e2f1ca53c2490890d4809d3d272266",
       "qiskit_code_cell_index": -1
      }
     },
     "d85f26eaecff4d26964747f7489a1573": {
      "model_module": "@jupyter-widgets/controls",
      "model_module_version": "1.5.0",
      "model_name": "HTMLModel",
      "state": {
       "layout": "IPY_MODEL_bef9ce11be074a00a12303925868a1fa",
       "style": "IPY_MODEL_e23c8382adf6402bbe6ed5b67d9d6d6e",
       "value": "<h5>Message</h5>"
      }
     },
     "d89af909d9b449f78f7ad0d3992f8dec": {
      "model_module": "@jupyter-widgets/controls",
      "model_module_version": "1.5.0",
      "model_name": "HTMLModel",
      "state": {
       "layout": "IPY_MODEL_5d424631bc2546f7b402aa7e7ccb75ca",
       "style": "IPY_MODEL_6df98145a8614a84b72c65622704b00a",
       "value": "<h5>Job ID</h5>"
      }
     },
     "d9bcdb5e4d5a4e72839d64cbcf40d037": {
      "model_module": "@jupyter-widgets/base",
      "model_module_version": "1.2.0",
      "model_name": "LayoutModel",
      "state": {}
     },
     "d9f4ed545e1e4d67a63d38461a778ecf": {
      "model_module": "@jupyter-widgets/base",
      "model_module_version": "1.2.0",
      "model_name": "LayoutModel",
      "state": {}
     },
     "d9f692203c9244c9ae4672393711ad9f": {
      "model_module": "@jupyter-widgets/controls",
      "model_module_version": "1.5.0",
      "model_name": "HTMLModel",
      "state": {
       "layout": "IPY_MODEL_59af2373b1854b66826e9d1b4752c19a",
       "style": "IPY_MODEL_6aa4a23a6b6d4519b7e4587b09caded8",
       "value": "<p style='font-family: IBM Plex Sans, Arial, Helvetica, sans-serif; font-size: 20px; font-weight: medium;'>Circuit Properties</p>"
      }
     },
     "da762a1b8ae747bd88cfeca2f4f9aa62": {
      "model_module": "@jupyter-widgets/base",
      "model_module_version": "1.2.0",
      "model_name": "LayoutModel",
      "state": {
       "margin": "0px 0px 10px 0px"
      }
     },
     "dbb0f858e4f447f38357cbb52d1d1fd3": {
      "model_module": "@quantum/ibm-q-lab-widgets",
      "model_module_version": "^1.0.3",
      "model_name": "CircuitComposerModel",
      "state": {
       "_model_module_version": "^1.0.3",
       "_view_module_version": "^1.0.3",
       "circuit": "\"OPENQASM 2.0;\\ninclude \\\"qelib1.inc\\\";\\n\\nqreg q[3];\\ncreg c[3];\\n\\n\"",
       "editable": true,
       "layout": "IPY_MODEL_cb2e28b8ce1a470fb9844e83bb73ac68",
       "qiskit_code_cell_index": -1
      }
     },
     "dc01a57ed4454ced96ed1840f11282e7": {
      "model_module": "@jupyter-widgets/controls",
      "model_module_version": "1.5.0",
      "model_name": "HBoxModel",
      "state": {
       "children": [
        "IPY_MODEL_e8981e3fa55840d58b74bf66c0fce02d",
        "IPY_MODEL_f8e935446d854d3c9d2a84011eb36167",
        "IPY_MODEL_d4cd819ded624f98a579720bf91c738d",
        "IPY_MODEL_072cd4a0c48b4b72a95c77b837b43184",
        "IPY_MODEL_e364c6b6ccdc4e2ba856cf06cbb87370"
       ],
       "layout": "IPY_MODEL_29b01891f7e3469597d7ba8c98e1c656"
      }
     },
     "dc1c71ed198447fe97929c7e4e7b889f": {
      "model_module": "@jupyter-widgets/base",
      "model_module_version": "1.2.0",
      "model_name": "LayoutModel",
      "state": {
       "margin": "0px 0px 10px 0px"
      }
     },
     "dc3d699c22a749f29a8fb21da21b8f24": {
      "model_module": "@jupyter-widgets/controls",
      "model_module_version": "1.5.0",
      "model_name": "GridBoxModel",
      "state": {
       "children": [
        "IPY_MODEL_efc2400b3cd2435596099265a87e3fe8"
       ],
       "layout": "IPY_MODEL_f8cc3e2120ce4c09a84eea40e9eed074"
      }
     },
     "dd335b6c5d62490aaea01e03fbd84213": {
      "model_module": "@jupyter-widgets/base",
      "model_module_version": "1.2.0",
      "model_name": "LayoutModel",
      "state": {
       "width": "190px"
      }
     },
     "dd55d56845324b43a32881e7e6333e38": {
      "model_module": "@jupyter-widgets/base",
      "model_module_version": "1.2.0",
      "model_name": "LayoutModel",
      "state": {}
     },
     "deaed9cf498b41119d66b336d7bd2348": {
      "model_module": "@jupyter-widgets/base",
      "model_module_version": "1.2.0",
      "model_name": "LayoutModel",
      "state": {}
     },
     "df04f5479d67433cb432e45f7a35cecb": {
      "model_module": "@jupyter-widgets/controls",
      "model_module_version": "1.5.0",
      "model_name": "DescriptionStyleModel",
      "state": {
       "description_width": ""
      }
     },
     "df8d9601fbb84f53bbcaf189b5e16430": {
      "model_module": "@jupyter-widgets/controls",
      "model_module_version": "1.5.0",
      "model_name": "DescriptionStyleModel",
      "state": {
       "description_width": ""
      }
     },
     "df958bfd89d04fc096f9002c8adf0b01": {
      "model_module": "@jupyter-widgets/base",
      "model_module_version": "1.2.0",
      "model_name": "LayoutModel",
      "state": {
       "width": "70px"
      }
     },
     "e02c13655b8749a3b041560f12b70687": {
      "model_module": "@quantum/ibm-q-lab-widgets",
      "model_module_version": "^1.0.3",
      "model_name": "CircuitComposerModel",
      "state": {
       "_model_module_version": "^1.0.3",
       "_view_module_version": "^1.0.3",
       "circuit": "\"OPENQASM 2.0;\\ninclude \\\"qelib1.inc\\\";\\n\\nqreg q29[3];\\ncreg c2[3];\\n\\ncx q29[1],q29[2];\\ncx q29[0],q29[2];\\nccx q29[0],q29[1],q29[2];\"",
       "editable": true,
       "layout": "IPY_MODEL_0ff22eb9feaf477bbc7a94460d34f8ff",
       "qiskit_code_cell_index": -1
      }
     },
     "e12b2829878d4f54b227615b10865be0": {
      "model_module": "@quantum/ibm-q-lab-widgets",
      "model_module_version": "^1.0.3",
      "model_name": "CircuitComposerModel",
      "state": {
       "_model_module_version": "^1.0.3",
       "_view_module_version": "^1.0.3",
       "circuit": "\"OPENQASM 2.0;\\ninclude \\\"qelib1.inc\\\";\\n\\nqreg q[3];\\ncreg c[3];\\n\\n\"",
       "editable": true,
       "layout": "IPY_MODEL_c8955b002d324a4b93bd46aca4240933",
       "qiskit_code_cell_index": -1
      }
     },
     "e143cd6b9bdd4026b13ed57fc89715b5": {
      "model_module": "@jupyter-widgets/controls",
      "model_module_version": "1.5.0",
      "model_name": "ButtonStyleModel",
      "state": {}
     },
     "e1ed78c0731e48229e8a9d93a645fd28": {
      "model_module": "@quantum/ibm-q-lab-widgets",
      "model_module_version": "^1.0.3",
      "model_name": "CircuitComposerModel",
      "state": {
       "_model_module_version": "^1.0.3",
       "_view_module_version": "^1.0.3",
       "circuit": "\"OPENQASM 2.0;\\ninclude \\\"qelib1.inc\\\";\\n\\nqreg q[3];\\ncreg c[3];\\n\\nccx q[0],q[1],q[2];\"",
       "editable": true,
       "layout": "IPY_MODEL_d9bcdb5e4d5a4e72839d64cbcf40d037",
       "qiskit_code_cell_index": -1
      }
     },
     "e23c8382adf6402bbe6ed5b67d9d6d6e": {
      "model_module": "@jupyter-widgets/controls",
      "model_module_version": "1.5.0",
      "model_name": "DescriptionStyleModel",
      "state": {
       "description_width": ""
      }
     },
     "e26c82484e4f45318ab5f789f4a23f82": {
      "model_module": "@jupyter-widgets/base",
      "model_module_version": "1.2.0",
      "model_name": "LayoutModel",
      "state": {
       "width": "145px"
      }
     },
     "e29f6ed0cb8f41cb913d36c9457a2c1b": {
      "model_module": "@jupyter-widgets/base",
      "model_module_version": "1.2.0",
      "model_name": "LayoutModel",
      "state": {
       "margin": "0px 0px 0px 37px",
       "width": "600px"
      }
     },
     "e364c6b6ccdc4e2ba856cf06cbb87370": {
      "model_module": "@jupyter-widgets/controls",
      "model_module_version": "1.5.0",
      "model_name": "HTMLModel",
      "state": {
       "layout": "IPY_MODEL_71c11faf7d59453eb1a9aa7675fe3f68",
       "style": "IPY_MODEL_78f8fc1fadbf4fd480defe0f2e557997",
       "value": "<h5>Message</h5>"
      }
     },
     "e382101b4a5740cfbac8c74ee2070e6d": {
      "model_module": "@jupyter-widgets/controls",
      "model_module_version": "1.5.0",
      "model_name": "HTMLModel",
      "state": {
       "layout": "IPY_MODEL_3e89aebbd7284b79a0481c5b3284a03c",
       "style": "IPY_MODEL_006a465b0969400c8b27c83965d6e5fd",
       "value": "<h5>Message</h5>"
      }
     },
     "e4356fa47928479fad94f404cb1eb76a": {
      "model_module": "@quantum/ibm-q-lab-widgets",
      "model_module_version": "^1.0.3",
      "model_name": "CircuitComposerModel",
      "state": {
       "_model_module_version": "^1.0.3",
       "_view_module_version": "^1.0.3",
       "circuit": "\"OPENQASM 2.0;\\ninclude \\\"qelib1.inc\\\";\\n\\nqreg q[3];\\ncreg c[1];\\n\\ncx q[1],q[2];\\ncx q[0],q[2];\\nccx q[0],q[1],q[2];\\nmeasure q[2] -> c[0];\"",
       "editable": true,
       "layout": "IPY_MODEL_7ce3d8940b17469e9e285c7670e28900",
       "qiskit_code_cell_index": -1
      }
     },
     "e4526ac078b34ba8a7e6c258e2a288b9": {
      "model_module": "@jupyter-widgets/controls",
      "model_module_version": "1.5.0",
      "model_name": "GridBoxModel",
      "state": {
       "children": [
        "IPY_MODEL_ac9a217eec614a1e812d8e53bee008bc"
       ],
       "layout": "IPY_MODEL_d16b266be6e34e9bb89e98554710b8b0"
      }
     },
     "e458643f1ca9444f854bfbe6e1923944": {
      "model_module": "@jupyter-widgets/controls",
      "model_module_version": "1.5.0",
      "model_name": "DescriptionStyleModel",
      "state": {
       "description_width": ""
      }
     },
     "e47b0f9a91804ea4bb0b55474c5b5af4": {
      "model_module": "@jupyter-widgets/controls",
      "model_module_version": "1.5.0",
      "model_name": "HBoxModel",
      "state": {
       "children": [
        "IPY_MODEL_24c870a8c65440a78e05286f3b64f13f",
        "IPY_MODEL_bd90c585db9348878d7a0d76beaffa66",
        "IPY_MODEL_1690149b711b40619ce096d9bf256b0b",
        "IPY_MODEL_867281371bda41c9a144f55b81f5cb41",
        "IPY_MODEL_51cd6436bd0f4612b7e5a3cd267f5a7f"
       ],
       "layout": "IPY_MODEL_a4954a10292b43efb85baa1d788db3d6"
      }
     },
     "e58ce75f933d4be3bfcac31727c0e302": {
      "model_module": "@jupyter-widgets/controls",
      "model_module_version": "1.5.0",
      "model_name": "HTMLModel",
      "state": {
       "layout": "IPY_MODEL_b7f0e778814b4e98963d09b9e4bf74b0",
       "style": "IPY_MODEL_bf8f3e463caa49e98a914fd74b757d31",
       "value": "<h5>Status</h5>"
      }
     },
     "e5bc9438b0974491a248e55d6fa86515": {
      "model_module": "@jupyter-widgets/base",
      "model_module_version": "1.2.0",
      "model_name": "LayoutModel",
      "state": {
       "margin": "0px 0px 0px 37px",
       "width": "600px"
      }
     },
     "e61dea173c9a4870a47e6a93f3be63b9": {
      "model_module": "@jupyter-widgets/base",
      "model_module_version": "1.2.0",
      "model_name": "LayoutModel",
      "state": {}
     },
     "e63ca0a4b446490daf05d3f795cd346e": {
      "model_module": "@jupyter-widgets/base",
      "model_module_version": "1.2.0",
      "model_name": "LayoutModel",
      "state": {
       "width": "190px"
      }
     },
     "e695ad78ca804203a654c3eb4b097ab7": {
      "model_module": "@jupyter-widgets/controls",
      "model_module_version": "1.5.0",
      "model_name": "ButtonModel",
      "state": {
       "button_style": "primary",
       "description": "Clear",
       "layout": "IPY_MODEL_4c0fb4b914e64e90afb7735c4cd3cda9",
       "style": "IPY_MODEL_72656d306b10434fb73aa01b09f15b85"
      }
     },
     "e6dbad990ed34d75859d6d820ea44eea": {
      "model_module": "@jupyter-widgets/base",
      "model_module_version": "1.2.0",
      "model_name": "LayoutModel",
      "state": {
       "width": "190px"
      }
     },
     "e7c83160618343cdaa1e31c63f8b6d31": {
      "model_module": "@quantum/ibm-q-lab-widgets",
      "model_module_version": "^1.0.3",
      "model_name": "CircuitComposerModel",
      "state": {
       "_model_module_version": "^1.0.3",
       "_view_module_version": "^1.0.3",
       "circuit": "\"OPENQASM 2.0;\\ninclude \\\"qelib1.inc\\\";\\n\\nqreg q[3];\\ncreg c[3];\\n\\ncx q[1],q[0];\\ncx q[0],q[1];\\ncx q[1],q[0];\\nrz(pi) q[2];\"",
       "editable": true,
       "layout": "IPY_MODEL_f4e84c75810e4d50ab8af126a25c72b6",
       "qiskit_code_cell_index": -1
      }
     },
     "e7cc84e132ee485d935102b3c198d255": {
      "model_module": "@jupyter-widgets/base",
      "model_module_version": "1.2.0",
      "model_name": "LayoutModel",
      "state": {
       "width": "95px"
      }
     },
     "e7e2f1ca53c2490890d4809d3d272266": {
      "model_module": "@jupyter-widgets/base",
      "model_module_version": "1.2.0",
      "model_name": "LayoutModel",
      "state": {}
     },
     "e80410c2c9264536aef853f7f4964a35": {
      "model_module": "@jupyter-widgets/base",
      "model_module_version": "1.2.0",
      "model_name": "LayoutModel",
      "state": {
       "width": "145px"
      }
     },
     "e8845e95893040278aff985df15467dc": {
      "model_module": "@jupyter-widgets/base",
      "model_module_version": "1.2.0",
      "model_name": "LayoutModel",
      "state": {
       "width": "145px"
      }
     },
     "e8900ffc672f445e8c43d1003454d0fd": {
      "model_module": "@jupyter-widgets/controls",
      "model_module_version": "1.5.0",
      "model_name": "DescriptionStyleModel",
      "state": {
       "description_width": ""
      }
     },
     "e894fcf24a50436b9d64949a1d3e50b4": {
      "model_module": "@jupyter-widgets/base",
      "model_module_version": "1.2.0",
      "model_name": "LayoutModel",
      "state": {
       "width": "145px"
      }
     },
     "e8981e3fa55840d58b74bf66c0fce02d": {
      "model_module": "@jupyter-widgets/controls",
      "model_module_version": "1.5.0",
      "model_name": "HTMLModel",
      "state": {
       "layout": "IPY_MODEL_dd335b6c5d62490aaea01e03fbd84213",
       "style": "IPY_MODEL_4416440c57b64bd0b1e93f7a9c657faa",
       "value": "<h5>Job ID</h5>"
      }
     },
     "e99a25578a3a413ab0b267672b43f72b": {
      "model_module": "@jupyter-widgets/base",
      "model_module_version": "1.2.0",
      "model_name": "LayoutModel",
      "state": {}
     },
     "eaf2aee64d05485aa35ea40fab729616": {
      "model_module": "@jupyter-widgets/controls",
      "model_module_version": "1.5.0",
      "model_name": "DescriptionStyleModel",
      "state": {
       "description_width": ""
      }
     },
     "ebe184443e454b59be0306a688d93a1c": {
      "model_module": "@quantum/ibm-q-lab-widgets",
      "model_module_version": "^1.0.3",
      "model_name": "CircuitComposerModel",
      "state": {
       "_model_module_version": "^1.0.3",
       "_view_module_version": "^1.0.3",
       "circuit": "\"OPENQASM 2.0;\\ninclude \\\"qelib1.inc\\\";\\n\\nqreg q19[3];\\ncreg c0[3];\\n\\ncx q19[1],q19[2];\\ncx q19[0],q19[2];\\nccx q19[0],q19[1],q19[2];\"",
       "editable": true,
       "layout": "IPY_MODEL_d9f4ed545e1e4d67a63d38461a778ecf",
       "qiskit_code_cell_index": -1
      }
     },
     "ec3d6cec43f64d109cce41e91a207abf": {
      "model_module": "@jupyter-widgets/base",
      "model_module_version": "1.2.0",
      "model_name": "LayoutModel",
      "state": {
       "margin": "0px 0px 10px 0px"
      }
     },
     "ec686d0859ce4b9dbe76b1aefb3c04b0": {
      "model_module": "@jupyter-widgets/base",
      "model_module_version": "1.2.0",
      "model_name": "LayoutModel",
      "state": {
       "margin": "0px 0px 0px 37px",
       "width": "600px"
      }
     },
     "ece0b69da4ef42e89e2399b90ef89a51": {
      "model_module": "@jupyter-widgets/base",
      "model_module_version": "1.2.0",
      "model_name": "LayoutModel",
      "state": {}
     },
     "ed2398d7377940a19feadec9738c8911": {
      "model_module": "@jupyter-widgets/base",
      "model_module_version": "1.2.0",
      "model_name": "LayoutModel",
      "state": {
       "width": "95px"
      }
     },
     "ed3cbe7ebda9455c9a24e1c7818550a4": {
      "model_module": "@jupyter-widgets/controls",
      "model_module_version": "1.5.0",
      "model_name": "HTMLModel",
      "state": {
       "layout": "IPY_MODEL_a451443a1fcd42b395989fb216b3ef84",
       "style": "IPY_MODEL_00f963df94fc41a4a33664cc02f98546",
       "value": "<h5>Backend</h5>"
      }
     },
     "ed9909234c0b4720b1ef938213c784b5": {
      "model_module": "@jupyter-widgets/base",
      "model_module_version": "1.2.0",
      "model_name": "LayoutModel",
      "state": {}
     },
     "ede3b422e153430b9b0b630a174ce576": {
      "model_module": "@jupyter-widgets/base",
      "model_module_version": "1.2.0",
      "model_name": "LayoutModel",
      "state": {}
     },
     "ee01cfa5318f49bbb51da895d9cbfe98": {
      "model_module": "@jupyter-widgets/base",
      "model_module_version": "1.2.0",
      "model_name": "LayoutModel",
      "state": {
       "width": "95px"
      }
     },
     "ee045c4854f248bd982c15d878f5f3e1": {
      "model_module": "@quantum/ibm-q-lab-widgets",
      "model_module_version": "^1.0.3",
      "model_name": "CircuitComposerModel",
      "state": {
       "_model_module_version": "^1.0.3",
       "_view_module_version": "^1.0.3",
       "circuit": "\"OPENQASM 2.0;\\ninclude \\\"qelib1.inc\\\";\\n\\nqreg q[3];\\ncreg c[3];\\n\\n\"",
       "editable": true,
       "layout": "IPY_MODEL_5e2164ebdde64440b793779b9188b83d",
       "qiskit_code_cell_index": -1
      }
     },
     "ee7a00dab53244b3bc6664228f3e874d": {
      "model_module": "@jupyter-widgets/controls",
      "model_module_version": "1.5.0",
      "model_name": "GridBoxModel",
      "state": {
       "children": [
        "IPY_MODEL_2eaa8833e44744439a072efced3f32ae"
       ],
       "layout": "IPY_MODEL_2d2ce5a6866c461ba81c12a2707933eb"
      }
     },
     "eeafb44abbab42468f144dc0c926d287": {
      "model_module": "@jupyter-widgets/base",
      "model_module_version": "1.2.0",
      "model_name": "LayoutModel",
      "state": {
       "width": "70px"
      }
     },
     "ef12d0696cbc4f05ab783c9634d5597e": {
      "model_module": "@jupyter-widgets/controls",
      "model_module_version": "1.5.0",
      "model_name": "DescriptionStyleModel",
      "state": {
       "description_width": ""
      }
     },
     "ef20b21a3be842a1932eabbd1d8f78d4": {
      "model_module": "@jupyter-widgets/controls",
      "model_module_version": "1.5.0",
      "model_name": "DescriptionStyleModel",
      "state": {
       "description_width": ""
      }
     },
     "efc2400b3cd2435596099265a87e3fe8": {
      "model_module": "@jupyter-widgets/controls",
      "model_module_version": "1.5.0",
      "model_name": "ButtonModel",
      "state": {
       "button_style": "primary",
       "description": "Clear",
       "layout": "IPY_MODEL_982f6afb37b548e19410dcc592c23d66",
       "style": "IPY_MODEL_d7ef9eb466c449758d9896eece80ad48"
      }
     },
     "f06820c4aec74a3f9973d65f7a6e9aef": {
      "model_module": "@jupyter-widgets/base",
      "model_module_version": "1.2.0",
      "model_name": "LayoutModel",
      "state": {
       "grid_area": "right",
       "padding": "0px 0px 0px 0px",
       "width": "70px"
      }
     },
     "f0d64f6e58414d33b497548bf8504e8a": {
      "model_module": "@jupyter-widgets/base",
      "model_module_version": "1.2.0",
      "model_name": "LayoutModel",
      "state": {}
     },
     "f193048343fd41128afbeb8eca6e7401": {
      "model_module": "@jupyter-widgets/controls",
      "model_module_version": "1.5.0",
      "model_name": "HTMLModel",
      "state": {
       "layout": "IPY_MODEL_26cbbc69c88e4e8b83105bf0cdf77a86",
       "style": "IPY_MODEL_74f24cd3a4464234a81526166562b963",
       "value": "<h5>Message</h5>"
      }
     },
     "f2014f13fe1a4e2784242914d68b5286": {
      "model_module": "@jupyter-widgets/controls",
      "model_module_version": "1.5.0",
      "model_name": "DescriptionStyleModel",
      "state": {
       "description_width": ""
      }
     },
     "f25aea119fc349cab9f22829fd3c47fc": {
      "model_module": "@jupyter-widgets/controls",
      "model_module_version": "1.5.0",
      "model_name": "HTMLModel",
      "state": {
       "layout": "IPY_MODEL_56fb45c8fe2f429e86a11e69e17f6b5c",
       "style": "IPY_MODEL_b2c4aef6b8ca48e289c86f64de5d8657",
       "value": "<h5>Status</h5>"
      }
     },
     "f2a6c5fa72fe4f8faed45ccab979cb03": {
      "model_module": "@jupyter-widgets/controls",
      "model_module_version": "1.5.0",
      "model_name": "DescriptionStyleModel",
      "state": {
       "description_width": ""
      }
     },
     "f41b6aa2f189400e9b216228b90a4ee3": {
      "model_module": "@jupyter-widgets/base",
      "model_module_version": "1.2.0",
      "model_name": "LayoutModel",
      "state": {
       "width": "95px"
      }
     },
     "f446398c98694b16b1c5979c3eca916e": {
      "model_module": "@jupyter-widgets/controls",
      "model_module_version": "1.5.0",
      "model_name": "DescriptionStyleModel",
      "state": {
       "description_width": ""
      }
     },
     "f4e84c75810e4d50ab8af126a25c72b6": {
      "model_module": "@jupyter-widgets/base",
      "model_module_version": "1.2.0",
      "model_name": "LayoutModel",
      "state": {}
     },
     "f58a7f58e3d948a887ae0e5a112c4793": {
      "model_module": "@jupyter-widgets/controls",
      "model_module_version": "1.5.0",
      "model_name": "DescriptionStyleModel",
      "state": {
       "description_width": ""
      }
     },
     "f5a3d7f450034d3aa136a390f4362e66": {
      "model_module": "@jupyter-widgets/base",
      "model_module_version": "1.2.0",
      "model_name": "LayoutModel",
      "state": {
       "margin": "0px 0px 10px 0px"
      }
     },
     "f62bbcfe06b54122ad83f33297fc140b": {
      "model_module": "@jupyter-widgets/base",
      "model_module_version": "1.2.0",
      "model_name": "LayoutModel",
      "state": {
       "width": "70px"
      }
     },
     "f64858edb52d4e3a9934dcb4eaa0a453": {
      "model_module": "@jupyter-widgets/base",
      "model_module_version": "1.2.0",
      "model_name": "LayoutModel",
      "state": {
       "margin": "0px 0px 10px 0px"
      }
     },
     "f656665ee2a843408b8bff659ada0675": {
      "model_module": "@jupyter-widgets/controls",
      "model_module_version": "1.5.0",
      "model_name": "DescriptionStyleModel",
      "state": {
       "description_width": ""
      }
     },
     "f656da7b0e564e1eb512c2058b0bdc65": {
      "model_module": "@jupyter-widgets/controls",
      "model_module_version": "1.5.0",
      "model_name": "DescriptionStyleModel",
      "state": {
       "description_width": ""
      }
     },
     "f6e003da05d349118f38ae2a64663871": {
      "model_module": "@jupyter-widgets/base",
      "model_module_version": "1.2.0",
      "model_name": "LayoutModel",
      "state": {}
     },
     "f716d34fb3e34c4e9731810376427b3b": {
      "model_module": "@jupyter-widgets/base",
      "model_module_version": "1.2.0",
      "model_name": "LayoutModel",
      "state": {
       "margin": "0px 0px 10px 0px"
      }
     },
     "f81b69eec4564499b601fd0884079b3d": {
      "model_module": "@jupyter-widgets/controls",
      "model_module_version": "1.5.0",
      "model_name": "GridBoxModel",
      "state": {
       "children": [
        "IPY_MODEL_58df896f45dd4fc480852242017408a4"
       ],
       "layout": "IPY_MODEL_414a1068e8f64ea38065b2c17a5219bb"
      }
     },
     "f85491e06e184d8ea92219eabe3d965f": {
      "model_module": "@jupyter-widgets/controls",
      "model_module_version": "1.5.0",
      "model_name": "HTMLModel",
      "state": {
       "layout": "IPY_MODEL_9b2b9391cdc54e7f84bcd80736977d8a",
       "style": "IPY_MODEL_3d62cadf9a5f465d9583cda6d521b504",
       "value": "<h5>Queue</h5>"
      }
     },
     "f85c891265d7425a82cc4602ca1888d5": {
      "model_module": "@jupyter-widgets/controls",
      "model_module_version": "1.5.0",
      "model_name": "DescriptionStyleModel",
      "state": {
       "description_width": ""
      }
     },
     "f8cc3e2120ce4c09a84eea40e9eed074": {
      "model_module": "@jupyter-widgets/base",
      "model_module_version": "1.2.0",
      "model_name": "LayoutModel",
      "state": {
       "grid_template_areas": "\n                                       \". . . . right \"\n                                        ",
       "grid_template_columns": "20% 20% 20% 20% 20%",
       "width": "100%"
      }
     },
     "f8e935446d854d3c9d2a84011eb36167": {
      "model_module": "@jupyter-widgets/controls",
      "model_module_version": "1.5.0",
      "model_name": "HTMLModel",
      "state": {
       "layout": "IPY_MODEL_e894fcf24a50436b9d64949a1d3e50b4",
       "style": "IPY_MODEL_2ef205c7351d4b46974af47b64b9e2d9",
       "value": "<h5>Backend</h5>"
      }
     },
     "f92aa752b1a545efae5f89e89db79bff": {
      "model_module": "@jupyter-widgets/controls",
      "model_module_version": "1.5.0",
      "model_name": "HTMLModel",
      "state": {
       "layout": "IPY_MODEL_205d43046c3a467fae0274b728c28fb7",
       "style": "IPY_MODEL_8af40c979d2f4abf8eb79c65190883f4",
       "value": "<h5>Queue</h5>"
      }
     },
     "faab740a976848f08ac890a0120e954c": {
      "model_module": "@jupyter-widgets/base",
      "model_module_version": "1.2.0",
      "model_name": "LayoutModel",
      "state": {}
     },
     "fab3fab980c047b3bf037eec91f17fec": {
      "model_module": "@jupyter-widgets/controls",
      "model_module_version": "1.5.0",
      "model_name": "GridBoxModel",
      "state": {
       "children": [
        "IPY_MODEL_bc06df4c45e541b986a8bdc23fbda3ff"
       ],
       "layout": "IPY_MODEL_6dbddc0ddb0a4ecc9df90c8cfd27fc66"
      }
     },
     "fb4bb909935b4f20b1a5d18b2851389e": {
      "model_module": "@jupyter-widgets/controls",
      "model_module_version": "1.5.0",
      "model_name": "HTMLModel",
      "state": {
       "layout": "IPY_MODEL_f64858edb52d4e3a9934dcb4eaa0a453",
       "style": "IPY_MODEL_be299f6812f34f87a5d2e5aa345c86d4",
       "value": "<p style='font-family: IBM Plex Sans, Arial, Helvetica, sans-serif; font-size: 20px; font-weight: medium;'>Circuit Properties</p>"
      }
     },
     "fc6e67828b47492caa52c2d91c372fe7": {
      "model_module": "@jupyter-widgets/controls",
      "model_module_version": "1.5.0",
      "model_name": "DescriptionStyleModel",
      "state": {
       "description_width": ""
      }
     },
     "fd40314674714d34a9e5d0a27b68a8ae": {
      "model_module": "@quantum/ibm-q-lab-widgets",
      "model_module_version": "^1.0.3",
      "model_name": "CircuitComposerModel",
      "state": {
       "_model_module_version": "^1.0.3",
       "_view_module_version": "^1.0.3",
       "circuit": "\"OPENQASM 2.0;\\ninclude \\\"qelib1.inc\\\";\\n\\nqreg q[3];\\ncreg c[1];\\n\\ncx q[1],q[2];\\ncx q[0],q[2];\\nccx q[0],q[1],q[2];\\nmeasure q[2] -> c[0];\"",
       "editable": true,
       "layout": "IPY_MODEL_adf6da53203d41128e2426688fc2a811",
       "qiskit_code_cell_index": -1
      }
     },
     "fd9e1e3b36b04bf191eb9f11ed9fba6e": {
      "model_module": "@jupyter-widgets/controls",
      "model_module_version": "1.5.0",
      "model_name": "ButtonModel",
      "state": {
       "button_style": "primary",
       "description": "Clear",
       "layout": "IPY_MODEL_c6d3436b35f34d3e9949f934ac549e3f",
       "style": "IPY_MODEL_bb1a35f52d3c480f8a893f487356cefd"
      }
     },
     "fecd0c58b5384bf3b9130de561a09177": {
      "model_module": "@quantum/ibm-q-lab-widgets",
      "model_module_version": "^1.0.3",
      "model_name": "CircuitComposerModel",
      "state": {
       "_model_module_version": "^1.0.3",
       "_view_module_version": "^1.0.3",
       "circuit": "\"OPENQASM 2.0;\\ninclude \\\"qelib1.inc\\\";\\n\\nqreg q[3];\\ncreg c[1];\\n\\ncx q[1],q[2];\\ncx q[0],q[2];\\nccx q[0],q[1],q[2];\\nmeasure q[2] -> c[0];\"",
       "editable": true,
       "layout": "IPY_MODEL_23179b1b37c14621b715b07cddce4ea6",
       "qiskit_code_cell_index": -1
      }
     },
     "ff65bb72e7dd4615a2fd83de47a80910": {
      "model_module": "@jupyter-widgets/base",
      "model_module_version": "1.2.0",
      "model_name": "LayoutModel",
      "state": {
       "width": "145px"
      }
     },
     "ff701b3970a84131991b6d665a19e178": {
      "model_module": "@jupyter-widgets/controls",
      "model_module_version": "1.5.0",
      "model_name": "DescriptionStyleModel",
      "state": {
       "description_width": ""
      }
     },
     "ffa305d128494f9da013230865dda095": {
      "model_module": "@jupyter-widgets/controls",
      "model_module_version": "1.5.0",
      "model_name": "HBoxModel",
      "state": {
       "children": [
        "IPY_MODEL_1f31aa46a28643fbab939ce5970ead46",
        "IPY_MODEL_45c8857a37a24a34ad5810c13d23651b",
        "IPY_MODEL_2066912682fe43fa90445fe370a1da17",
        "IPY_MODEL_8e9c726f02214302bca28d27fcdb997e",
        "IPY_MODEL_cda4d9e419464993bc7ad28f3237ff69"
       ],
       "layout": "IPY_MODEL_4434f9bbf9164c36a5948c834c777739"
      }
     },
     "ffd90e2eb1ea44208c0625eb49218903": {
      "model_module": "@jupyter-widgets/controls",
      "model_module_version": "1.5.0",
      "model_name": "HBoxModel",
      "state": {
       "children": [
        "IPY_MODEL_1b72d96987b74aa880eebf6aabc2a993",
        "IPY_MODEL_332b33d947fe4fe1824bea4d9e54d7fd",
        "IPY_MODEL_59adb0fd062b4416a6869480b9acc0e1",
        "IPY_MODEL_9af0592a04a74f3e9ab218f471927763",
        "IPY_MODEL_791ee719ffcf47699877ff7253a067a3"
       ],
       "layout": "IPY_MODEL_5bfc0f9613df450989a98e0a200d3b2f"
      }
     }
    },
    "version_major": 2,
    "version_minor": 0
   }
  }
 },
 "nbformat": 4,
 "nbformat_minor": 5
}
